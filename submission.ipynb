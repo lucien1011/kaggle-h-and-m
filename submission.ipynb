{
 "cells": [
  {
   "cell_type": "code",
   "execution_count": 11,
   "metadata": {},
   "outputs": [],
   "source": [
    "import cudf\n",
    "import cupy\n",
    "import dask_cudf\n",
    "import gc\n",
    "import glob\n",
    "import numpy as np\n",
    "import os\n",
    "import pandas as pd\n",
    "from tqdm import tqdm\n",
    "import xgboost as xgb"
   ]
  },
  {
   "cell_type": "code",
   "execution_count": 12,
   "metadata": {},
   "outputs": [],
   "source": [
    "base_dir = 'storage/output/220314_baseline/'\n",
    "art_cust_features = [\n",
    "    'product_group_name', 'product_type_name', \n",
    "    'graphical_appearance_name', 'perceived_colour_value_name', 'colour_group_code', \n",
    "    'index_group_name','department_name',\n",
    "]\n",
    "local_cv = True"
   ]
  },
  {
   "cell_type": "code",
   "execution_count": 13,
   "metadata": {},
   "outputs": [
    {
     "name": "stdout",
     "output_type": "stream",
     "text": [
      "CPU times: user 682 ms, sys: 1.03 s, total: 1.71 s\n",
      "Wall time: 1.71 s\n"
     ]
    }
   ],
   "source": [
    "%%time\n",
    "transactions = cudf.read_csv('storage/transactions_train.csv')\n",
    "articles = cudf.read_csv('storage/articles.csv')\n",
    "customers = cudf.read_csv('storage/customers.csv')\n",
    "\n",
    "transactions['customer_id'] = transactions['customer_id'].str[-16:].str.hex_to_int().astype('int64')"
   ]
  },
  {
   "cell_type": "code",
   "execution_count": 14,
   "metadata": {},
   "outputs": [],
   "source": [
    "def merge_customer_article_feature_df(df,articles,art_cust_features,art_cust_dir):\n",
    "    for feature in art_cust_features:\n",
    "        tmp = cudf.read_csv(os.path.join(art_cust_dir+feature+'_countvec.csv'),index_col=None)\n",
    "        tmp['customer_id'] = tmp['customer_id'].str[-16:].str.hex_to_int().astype('int64')\n",
    "        tmp = tmp[['customer_id',feature,feature+'_countvec']]\n",
    "        df = df.merge(articles[['article_id',feature]],on='article_id',how='left')\n",
    "        df = df.merge(tmp,on=['customer_id',feature],how='left')\n",
    "        del(tmp)\n",
    "    return df\n",
    "\n",
    "def load_model(dir_to_load,saved_model_name='model.bin'):\n",
    "    model = xgb.XGBRanker()\n",
    "    model.load_model(os.path.join(dir_to_load,saved_model_name))\n",
    "    return model\n",
    "\n",
    "def make_feature_df(feature_df,art_cust_features,base_dir,explode=True):\n",
    "    if explode: pred_df = feature_df.explode('article_id')\n",
    "    feature_df = merge_customer_article_feature_df(feature_df,articles,art_cust_features,base_dir)\n",
    "    repeated_purchase_df = cudf.read_csv(os.path.join(base_dir,'repeated_purchase_prob.csv')).rename(columns={'count':'repeated_purchase_prob'})\n",
    "    repeated_purchase_df['customer_id'] = repeated_purchase_df['customer_id'].str[-16:].str.hex_to_int().astype('int64')\n",
    "    feature_df = feature_df.merge(repeated_purchase_df,on=['customer_id','article_id'],how='left').fillna(0.)\n",
    "    return feature_df\n",
    "    \n",
    "def predict_rank(pred_df,model):\n",
    "    from utils import x_y_group\n",
    "    features = [c for c in pred_df.columns if c not in art_cust_features]\n",
    "    pred_df = pred_df[features]\n",
    "    test_x,_,_ = x_y_group(pred_df,[f for f in features if f not in ['customer_id','article_id']],None,only_x=True)\n",
    "    model = load_model(base_dir)\n",
    "    test_pred = model.predict(test_x)\n",
    "    pred_df['rank'] = test_pred\n",
    "    return pred_df\n",
    "\n",
    "def sort_submission_df(pred_df,to_pandas=True):\n",
    "    pred_df = pred_df.sort_values(['customer_id','rank'],ascending=False)\n",
    "    sub_df = pred_df.groupby('customer_id').nth(0).reset_index()\n",
    "    sub_df['article_id'] = sub_df['article_id'].astype(str)\n",
    "    sub_df['rank'] = sub_df['rank'].astype(str)\n",
    "    for ith in range(1,12):\n",
    "        tmp = pred_df.groupby('customer_id').nth(ith).reset_index()\n",
    "        tmp = tmp[['article_id','customer_id','rank']].rename(columns={'article_id':'article_id2','rank':'rank2'})\n",
    "        tmp['article_id2'] = tmp['article_id2'].astype(str)\n",
    "        tmp['rank2'] = tmp['rank2'].astype(str)\n",
    "        sub_df = sub_df.merge(tmp,on='customer_id',how='left')\n",
    "        sub_df['article_id2'] = sub_df['article_id2'].fillna('')\n",
    "        sub_df['article_id'] = sub_df['article_id'] + ' '+ sub_df['article_id2']\n",
    "        sub_df['rank2'] = sub_df['rank2'].fillna('')\n",
    "        sub_df['rank'] = sub_df['rank'] + ' ' + sub_df['rank2']\n",
    "        del(sub_df['rank2'])\n",
    "        del(sub_df['article_id2'])\n",
    "    sub_df = sub_df.rename(columns={'article_id':'prediction'})\n",
    "    if to_pandas:\n",
    "        sub_df = sub_df.to_pandas()\n",
    "        sub_df['prediction'] = sub_df['prediction'].apply(lambda x: [int(s) for s in x.split()])\n",
    "        sub_df['rank'] = sub_df['rank'].apply(lambda x: [float(s) for s in x.split()])\n",
    "    return sub_df\n",
    "    \n",
    "def sort_truncate_pred_df(pred_df,to_pandas=True,k=12):\n",
    "    pred_df = pred_df[['customer_id','article_id','rank']].sort_values(['customer_id','rank'],ascending=False)\n",
    "    pred_df = cudf.concat([pred_df.groupby('customer_id').nth(i).reset_index() for i in range(k)])\n",
    "    return pred_df\n",
    "    \n",
    "def make_pred_df(cust_art_df,art_cust_features,base_dir,explode=True):\n",
    "    feature_df = make_feature_df(cust_art_df,art_cust_features,base_dir,explode=explode)\n",
    "    model = load_model(base_dir)\n",
    "    pred_df = predict_rank(feature_df,model)\n",
    "    pred_df = sort_truncate_pred_df(pred_df)\n",
    "    return pred_df"
   ]
  },
  {
   "cell_type": "code",
   "execution_count": 21,
   "metadata": {},
   "outputs": [
    {
     "name": "stderr",
     "output_type": "stream",
     "text": [
      "100%|██████████| 1/1 [00:02<00:00,  2.96s/it]\n"
     ]
    }
   ],
   "source": [
    "sub_df = None\n",
    "for i,f in enumerate(tqdm(glob.glob(base_dir+'candidate_df.csv'))):\n",
    "    cust_art_df = cudf.read_csv(f)[['customer_id','article_id']]\n",
    "    cust_art_df['customer_id'] = cust_art_df['customer_id'].str[-16:].str.hex_to_int().astype('int64')\n",
    "    pred_df = make_pred_df(cust_art_df,art_cust_features,base_dir)\n",
    "    #pred_df = cust_art_df\n",
    "    tmp = pred_df.groupby('customer_id')['article_id'].unique().to_frame().reset_index()#.to_pandas()\n",
    "    sub_df = cudf.concat([sub_df,tmp]) if sub_df is not None else tmp"
   ]
  },
  {
   "cell_type": "code",
   "execution_count": 22,
   "metadata": {},
   "outputs": [],
   "source": [
    "sub_df = sub_df.rename(columns={'article_id':'prediction'})"
   ]
  },
  {
   "cell_type": "code",
   "execution_count": 23,
   "metadata": {},
   "outputs": [
    {
     "name": "stdout",
     "output_type": "stream",
     "text": [
      "Score with XGBRanker:\n",
      "map@12 0.010025513151058912\n",
      "CPU times: user 1.44 s, sys: 123 ms, total: 1.57 s\n",
      "Wall time: 1.56 s\n"
     ]
    }
   ],
   "source": [
    "%%time\n",
    "from utils import evaluate_score\n",
    "gt_df = cudf.read_csv(os.path.join(base_dir,'gt_df.csv'))\n",
    "gt_df['customer_id'] = gt_df['customer_id'].str[-16:].str.hex_to_int().astype('int64')\n",
    "gt_df = gt_df.to_pandas()\n",
    "gt_df['ground_truth'] = gt_df['ground_truth'].apply(lambda x: eval(x))\n",
    "print('Score with XGBRanker:')\n",
    "evaluate_score(sub_df.to_pandas(),gt_df)"
   ]
  },
  {
   "cell_type": "code",
   "execution_count": null,
   "metadata": {},
   "outputs": [],
   "source": [
    "%%time\n",
    "sub = cudf.read_csv('storage/sample_submission.csv')[['customer_id']]\n",
    "sub['customer_id_2'] = sub['customer_id'].str[-16:].str.hex_to_int().astype('int64')\n",
    "sub = sub.to_pandas()\n",
    "tmp = sub_df.to_pandas()\n",
    "tmp['prediction'] = tmp['prediction'].apply(lambda x: ' '.join(['0'+str(i) for i in x]))\n",
    "tmp = tmp.rename(columns={'customer_id':'customer_id_2'})\n",
    "sub = sub.merge(tmp,on='customer_id_2', how='left').fillna('')\n",
    "del sub['customer_id_2']\n",
    "sub.to_csv(base_dir+'submission.csv',index=False)"
   ]
  }
 ],
 "metadata": {
  "kernelspec": {
   "display_name": "RAPIDSai-21.12",
   "language": "python",
   "name": "rapidsai-21.12"
  },
  "language_info": {
   "codemirror_mode": {
    "name": "ipython",
    "version": 3
   },
   "file_extension": ".py",
   "mimetype": "text/x-python",
   "name": "python",
   "nbconvert_exporter": "python",
   "pygments_lexer": "ipython3",
   "version": "3.8.12"
  }
 },
 "nbformat": 4,
 "nbformat_minor": 4
}
