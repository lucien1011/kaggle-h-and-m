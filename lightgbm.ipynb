{
 "cells": [
  {
   "cell_type": "code",
   "execution_count": 1,
   "id": "b987dded-4d50-482f-8220-492ea4afd861",
   "metadata": {},
   "outputs": [],
   "source": [
    "import cudf\n",
    "import gc\n",
    "import lightgbm as lgb\n",
    "import os\n",
    "import numpy as np\n",
    "import pandas as pd\n",
    "from tqdm import tqdm"
   ]
  },
  {
   "cell_type": "code",
   "execution_count": 2,
   "id": "d4a3de8f-4cca-45c2-9422-b24a7e9baba0",
   "metadata": {},
   "outputs": [],
   "source": [
    "class LightGBMCollator(object):\n",
    "    def __init__(self,dfs,features,label,k=12):\n",
    "        self.dfs = dfs\n",
    "        self.features = features\n",
    "        self.label = label\n",
    "        self.k = k\n",
    "        \n",
    "    def x_y_group(self,data,features,target,only_x=False,verbose=False):\n",
    "        group = data.groupby('customer_id').size().to_frame('size')['size']\n",
    "        data = data.sort_values('customer_id').reset_index()\n",
    "        return data[features],data[target],group\n",
    "        \n",
    "    def get_train_dataset_by_index(self,index):\n",
    "        trn_x,trn_y,trn_grp = self.x_y_group(self.dfs[index][0],features,label)\n",
    "        return trn_x,trn_y,trn_grp\n",
    "        \n",
    "    def get_ground_truth_dataset_by_index(self,index):\n",
    "        return self.dfs[index][-1]\n",
    "    \n",
    "    def get_test_dataset_by_index(self,index):\n",
    "        return self.dfs[index][1]#.to_pandas()\n",
    "    \n",
    "    def construct_eval_dataset(self):\n",
    "        self.gt_df = self.get_ground_truth_dataset_by_index(0)\n",
    "        self.test_df = self.get_test_dataset_by_index(0)\n",
    "    \n",
    "    def evaluate_score(self,pred_df,gt_df,k=12,verbose=True,group_name='customer_id'):\n",
    "        from metric import mapk\n",
    "        eval_df = gt_df.merge(pred_df,on=group_name,how='left')\n",
    "        score = mapk(eval_df['ground_truth'].tolist(),eval_df['prediction'].tolist())\n",
    "        if verbose: print('map@'+str(k),score)\n",
    "        return score\n",
    "    \n",
    "    def feval(self,preds,eval_dataset):\n",
    "        pred_df = pd.DataFrame()\n",
    "        pred_df['customer_id'] = self.test_df['customer_id']\n",
    "        pred_df['article_id'] = self.test_df['article_id']\n",
    "        pred_df['prediction'] = preds\n",
    "        pred_df = pred_df.groupby('customer_id') \\\n",
    "                        .apply(lambda x: x.sort_values('prediction',ascending=False)['article_id'].tolist()[:self.k]) \\\n",
    "                        .reset_index()\n",
    "        pred_df.columns = ['customer_id','prediction']\n",
    "        score = self.evaluate_score(pred_df,self.gt_df,group_name='customer_id',verbose=False)\n",
    "        return 'MAP@'+str(self.k), score, True"
   ]
  },
  {
   "cell_type": "code",
   "execution_count": 81,
   "id": "ab1d1fcd-9e97-4577-a10e-b4635e4a1a78",
   "metadata": {},
   "outputs": [
    {
     "name": "stdout",
     "output_type": "stream",
     "text": [
      "Shape of constructed dataframe (27482671, 26) (5749835, 24) (68984, 2)\n",
      "CPU times: user 48.2 s, sys: 6.99 s, total: 55.2 s\n",
      "Wall time: 55.4 s\n"
     ]
    }
   ],
   "source": [
    "%%time\n",
    "label = 'label'\n",
    "#dataset_dir = 'storage/output/220325_dataset_2020-06-01_2020-08-01_2020-09-15_2020-09-22_sales-channel-habit/'\n",
    "#dataset_dir = 'storage/output/220325_dataset_2020-06-01_2020-08-15_2020-09-15_2020-09-22/'\n",
    "#dataset_dir = 'storage/output/220325_dataset_2020-06-01_2020-08-01_2020-09-15_2020-09-22_nweek0-ntotalitem100/'\n",
    "dataset_dir = 'storage/output/220325_dataset_2020-06-01_2020-08-01_2020-09-15_2020-09-22/'\n",
    "#dataset_dir = 'storage/output/220325_dataset_2020-05-24_2020-07-24_2020-09-07_2020-09-15/'\n",
    "#dataset_dir = 'storage/output/220325_dataset_2020-05-17_2020-07-17_2020-09-01_2020-09-07/'\n",
    "\n",
    "trn_df = pd.read_csv(os.path.join(dataset_dir,'trn_df.csv'))\n",
    "test_df = pd.read_csv(os.path.join(dataset_dir,'test_df.csv'))\n",
    "gt_df = pd.read_csv(os.path.join(dataset_dir,'gt_df.csv'))\n",
    "gt_df['ground_truth'] = gt_df['ground_truth'].apply(eval)\n",
    "print('Shape of constructed dataframe',trn_df.shape,test_df.shape,gt_df.shape)"
   ]
  },
  {
   "cell_type": "code",
   "execution_count": 83,
   "id": "e8be254a-9b64-4a11-9867-2253a2369132",
   "metadata": {},
   "outputs": [
    {
     "name": "stdout",
     "output_type": "stream",
     "text": [
      "CPU times: user 23.1 s, sys: 5.15 s, total: 28.2 s\n",
      "Wall time: 28.2 s\n"
     ]
    }
   ],
   "source": [
    "%%time\n",
    "features = [c for c in trn_df.columns if c not in ['article_id','customer_id','customer_group','label','index','group_size']]\n",
    "collator = LightGBMCollator([[trn_df,test_df,gt_df]],features,label)\n",
    "trn_x,trn_y,trn_grp = collator.get_train_dataset_by_index(0)\n",
    "collator.construct_eval_dataset()\n",
    "\n",
    "trn_dataset = lgb.Dataset(trn_x,trn_y,group=trn_grp)\n",
    "val_dataset = lgb.Dataset(collator.test_df[collator.features])"
   ]
  },
  {
   "cell_type": "code",
   "execution_count": 84,
   "id": "ee6be571-4d7e-4d45-9007-141396fc509c",
   "metadata": {},
   "outputs": [
    {
     "name": "stderr",
     "output_type": "stream",
     "text": [
      "/home/kinho.lo/.local/lib/python3.8/site-packages/lightgbm/engine.py:148: UserWarning: Found `num_round` in params. Will use it instead of argument\n",
      "  _log_warning(\"Found `{}` in params. Will use it instead of argument\".format(alias))\n"
     ]
    },
    {
     "name": "stdout",
     "output_type": "stream",
     "text": [
      "[LightGBM] [Warning] Auto-choosing row-wise multi-threading, the overhead of testing was 1.542295 seconds.\n",
      "You can set `force_row_wise=true` to remove the overhead.\n",
      "And if memory is not enough, you can set `force_col_wise=true`.\n",
      "[LightGBM] [Info] Total Bins 4397\n",
      "[LightGBM] [Info] Number of data points in the train set: 27482671, number of used features: 22\n",
      "[1]\tvalid_0's MAP@12: 0.0206098\n",
      "[2]\tvalid_0's MAP@12: 0.0213825\n",
      "[3]\tvalid_0's MAP@12: 0.021932\n",
      "[4]\tvalid_0's MAP@12: 0.0221653\n",
      "[5]\tvalid_0's MAP@12: 0.0227604\n",
      "[6]\tvalid_0's MAP@12: 0.0228595\n",
      "[7]\tvalid_0's MAP@12: 0.0228853\n",
      "[8]\tvalid_0's MAP@12: 0.0228618\n",
      "[9]\tvalid_0's MAP@12: 0.0228171\n",
      "[10]\tvalid_0's MAP@12: 0.0230357\n",
      "[11]\tvalid_0's MAP@12: 0.0229132\n",
      "[12]\tvalid_0's MAP@12: 0.0230362\n",
      "[13]\tvalid_0's MAP@12: 0.0232484\n",
      "[14]\tvalid_0's MAP@12: 0.0230117\n",
      "[15]\tvalid_0's MAP@12: 0.0230033\n",
      "CPU times: user 6min 16s, sys: 8.36 s, total: 6min 25s\n",
      "Wall time: 4min 18s\n"
     ]
    }
   ],
   "source": [
    "%%time\n",
    "param = dict(\n",
    "    objective='lambdarank',\n",
    "    metric='map@12',\n",
    "    boosting='dart',\n",
    "    num_round = 15,\n",
    "    seed=0,\n",
    "    learning_rate=0.03,\n",
    "    num_threads=8,\n",
    ")\n",
    "bst = lgb.train(\n",
    "    param,\n",
    "    trn_dataset,\n",
    "    feval=collator.feval,\n",
    "    valid_sets=[val_dataset],\n",
    ")"
   ]
  },
  {
   "cell_type": "code",
   "execution_count": 77,
   "id": "acf4d58b-5105-420a-848a-43c4ad25dba5",
   "metadata": {},
   "outputs": [],
   "source": [
    "score = 0.022701"
   ]
  },
  {
   "cell_type": "code",
   "execution_count": 78,
   "id": "fe2feec6-50fb-4418-882b-3a15bfc95921",
   "metadata": {},
   "outputs": [],
   "source": [
    "def file_str(dataset,score,param):\n",
    "    s = '_'.join([dataset,'score:'+str(score)]+[str(k)+':'+str(v) for k,v in param.items()])\n",
    "    return s"
   ]
  },
  {
   "cell_type": "code",
   "execution_count": 79,
   "id": "1c5491a0-46f5-41f7-b501-b5d93132e164",
   "metadata": {},
   "outputs": [],
   "source": [
    "out_dir = 'storage/output/220325_lightgbm_training/'"
   ]
  },
  {
   "cell_type": "code",
   "execution_count": 80,
   "id": "e56fd320-c78e-4413-8ad7-714c2a1b407d",
   "metadata": {},
   "outputs": [
    {
     "data": {
      "text/plain": [
       "<lightgbm.basic.Booster at 0x2b19f73d9e80>"
      ]
     },
     "execution_count": 80,
     "metadata": {},
     "output_type": "execute_result"
    },
    {
     "data": {
      "image/png": "[encoded data removed]",
      "text/plain": [
       "<Figure size 432x288 with 1 Axes>"
      ]
     },
     "metadata": {
      "needs_background": "light"
     },
     "output_type": "display_data"
    }
   ],
   "source": [
    "os.makedirs(out_dir,exist_ok=True)\n",
    "filename = file_str(os.path.dirname(dataset_dir).split('/')[-1],score,bst.params)\n",
    "fig = lgb.plot_importance(bst)\n",
    "fig.get_figure().savefig(os.path.join(out_dir,filename+'.png'))\n",
    "bst.save_model(os.path.join(out_dir,filename+'.bin'))"
   ]
  },
  {
   "cell_type": "code",
   "execution_count": 95,
   "id": "f815f764-9d06-4868-82fa-b2bdcc5ceb68",
   "metadata": {},
   "outputs": [],
   "source": [
    "def evaluate_score(pred_df,gt_df,k=12,verbose=True,group_name='customer_id'):\n",
    "    from metric import mapk\n",
    "    eval_df = gt_df.merge(pred_df,on=group_name,how='left')\n",
    "    score = mapk(eval_df['ground_truth'].tolist(),eval_df['prediction'].tolist())\n",
    "    if verbose: print('map@'+str(k),score)\n",
    "    return score\n",
    "\n",
    "def feval(model,test_df,k=12):\n",
    "    test_x = test_df[features]\n",
    "    preds = model.predict(test_x)\n",
    "    pred_df = pd.DataFrame()\n",
    "    pred_df['customer_id'] = test_df['customer_id']\n",
    "    pred_df['article_id'] = test_df['article_id']\n",
    "    pred_df['prediction'] = preds\n",
    "    pred_df = pred_df.groupby('customer_id') \\\n",
    "                    .apply(lambda x: x.sort_values('prediction',ascending=False)['article_id'].tolist()[:k]) \\\n",
    "                    .reset_index()\n",
    "    pred_df.columns = ['customer_id','prediction']\n",
    "    print(pred_df)\n",
    "    score = evaluate_score(pred_df,gt_df,group_name='customer_id',verbose=False)\n",
    "    return 'MAP@'+str(k), score, True"
   ]
  },
  {
   "cell_type": "code",
   "execution_count": 96,
   "id": "686fa2c5-5744-49f3-a90a-c10bace30821",
   "metadata": {},
   "outputs": [
    {
     "name": "stdout",
     "output_type": "stream",
     "text": [
      "                                             customer_id  \\\n",
      "0      00039306476aaf41a07fed942884f16b30abfa83a2a8be...   \n",
      "1      0003e867a930d0d6842f923d6ba7c9b77aba33fe2a0fbf...   \n",
      "2      000493dd9fc463df1acc2081450c9e75ef8e87d5dd17ed...   \n",
      "3      000525e3fe01600d717da8423643a8303390a055c578ed...   \n",
      "4      00077dbd5c4a4991e092e63893ccf29294a9d5c46e8501...   \n",
      "...                                                  ...   \n",
      "68979  fffa67737587e52ff1afa9c7c6490b5eb7acbc439fe82b...   \n",
      "68980  fffa7d7799eb390a76308454cbdd76e473d65b1497fbe4...   \n",
      "68981  fffae8eb3a282d8c43c77dd2ca0621703b71e90904dfde...   \n",
      "68982  fffd870c6324ad3bda24e4d6aeae221c199479086bfdfd...   \n",
      "68983  fffef3b6b73545df065b521e19f64bf6fe93bfd450ab20...   \n",
      "\n",
      "                                              prediction  \n",
      "0      [448509014, 850917001, 852584001, 863595006, 9...  \n",
      "1      [889036004, 880017001, 640021012, 621381012, 9...  \n",
      "2      [556255001, 816588001, 399136061, 732842015, 7...  \n",
      "3      [448509014, 850917001, 863595006, 918522001, 7...  \n",
      "4      [456163060, 933989002, 929744001, 865799005, 4...  \n",
      "...                                                  ...  \n",
      "68979  [448509014, 850917001, 852584001, 863595006, 9...  \n",
      "68980  [751471001, 896152002, 751471043, 850917001, 8...  \n",
      "68981  [914441004, 448509014, 881244001, 863583002, 7...  \n",
      "68982  [724906019, 867969003, 448509014, 863595006, 9...  \n",
      "68983  [881919001, 748269009, 863646005, 910601003, 8...  \n",
      "\n",
      "[68984 rows x 2 columns]\n"
     ]
    },
    {
     "data": {
      "text/plain": [
       "('MAP@12', 0.02300326629219794, True)"
      ]
     },
     "execution_count": 96,
     "metadata": {},
     "output_type": "execute_result"
    }
   ],
   "source": [
    "feval(bst,test_df)"
   ]
  },
  {
   "cell_type": "code",
   "execution_count": null,
   "id": "c4ae5d28-1d49-4cf7-8a96-3314f06ad672",
   "metadata": {},
   "outputs": [],
   "source": []
  }
 ],
 "metadata": {
  "kernelspec": {
   "display_name": "RAPIDSai-21.12",
   "language": "python",
   "name": "rapidsai-21.12"
  },
  "language_info": {
   "codemirror_mode": {
    "name": "ipython",
    "version": 3
   },
   "file_extension": ".py",
   "mimetype": "text/x-python",
   "name": "python",
   "nbconvert_exporter": "python",
   "pygments_lexer": "ipython3",
   "version": "3.8.12"
  }
 },
 "nbformat": 4,
 "nbformat_minor": 5
}
