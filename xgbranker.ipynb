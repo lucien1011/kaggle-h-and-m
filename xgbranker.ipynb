{
 "cells": [
  {
   "cell_type": "code",
   "execution_count": 1,
   "id": "perceived-product",
   "metadata": {},
   "outputs": [],
   "source": [
    "import numpy as np\n",
    "import os\n",
    "import pandas as pd\n",
    "import xgboost as xgb"
   ]
  },
  {
   "cell_type": "code",
   "execution_count": 2,
   "id": "ahead-source",
   "metadata": {},
   "outputs": [],
   "source": [
    "import sys\n",
    "sys.path.append('/home/kinho.lo/.local/lib/python3.9/site-packages/')"
   ]
  },
  {
   "cell_type": "code",
   "execution_count": 3,
   "id": "7ca1b063-eb7d-4a1b-846e-0cb199adcacd",
   "metadata": {},
   "outputs": [],
   "source": [
    "base_dir = 'storage/output/220314_baseline/'"
   ]
  },
  {
   "cell_type": "code",
   "execution_count": 4,
   "id": "experienced-technique",
   "metadata": {},
   "outputs": [],
   "source": [
    "best_hyperparams = {\n",
    "    'colsample_bytree': 0.7043247958335778, \n",
    "    'gamma': 7.974861069683089, \n",
    "    'learning_rate': 0.6552157847578922, \n",
    "    'max_depth': 6, \n",
    "    'min_child_weight': 7.0, \n",
    "    'reg_alpha': 98.0, \n",
    "    'reg_lambda': 0.42852084822973424,\n",
    "}"
   ]
  },
  {
   "cell_type": "code",
   "execution_count": 5,
   "id": "442b8ac7-2112-4339-94ce-45c9a5f585e5",
   "metadata": {},
   "outputs": [],
   "source": [
    "best_hyperparams = None"
   ]
  },
  {
   "cell_type": "code",
   "execution_count": 6,
   "id": "attempted-zimbabwe",
   "metadata": {},
   "outputs": [
    {
     "name": "stdout",
     "output_type": "stream",
     "text": [
      "CPU times: user 11.1 s, sys: 1.07 s, total: 12.2 s\n",
      "Wall time: 12.4 s\n"
     ]
    }
   ],
   "source": [
    "%%time\n",
    "trn_df = pd.read_csv(base_dir+'trn_df.csv').sort_values('customer_id').reset_index()\n",
    "val_df = pd.read_csv(base_dir+'val_df.csv').sort_values('customer_id').reset_index()"
   ]
  },
  {
   "cell_type": "code",
   "execution_count": 7,
   "id": "removed-language",
   "metadata": {},
   "outputs": [
    {
     "name": "stdout",
     "output_type": "stream",
     "text": [
      "CPU times: user 1.5 s, sys: 162 ms, total: 1.66 s\n",
      "Wall time: 1.66 s\n"
     ]
    }
   ],
   "source": [
    "%%time\n",
    "from utils import x_y_group\n",
    "features = [c for c in trn_df.columns if c not in ['article_id','customer_id','label','index']]\n",
    "label = 'label'\n",
    "trn_x,trn_y,trn_grp = x_y_group(trn_df,features,label)\n",
    "val_x,val_y,val_grp = x_y_group(val_df,features,label)"
   ]
  },
  {
   "cell_type": "code",
   "execution_count": 8,
   "id": "reported-beaver",
   "metadata": {},
   "outputs": [
    {
     "name": "stdout",
     "output_type": "stream",
     "text": [
      "  0%|          | 0/10 [00:00<?, ?trial/s, best loss=?]"
     ]
    },
    {
     "name": "stderr",
     "output_type": "stream",
     "text": [
      "/apps/pytorch/1.8.1/lib/python3.9/site-packages/xgboost/core.py:499: FutureWarning: Pass `group` as keyword args.  Passing these as positional arguments will be considered as error in future releases.\n",
      "  warnings.warn(\n",
      "\n"
     ]
    },
    {
     "name": "stdout",
     "output_type": "stream",
     "text": [
      "[0]\tvalidation_0-map@12:0.03088                       \n",
      "[1]\tvalidation_0-map@12:0.07121                       \n",
      "[2]\tvalidation_0-map@12:0.07121                       \n",
      "[3]\tvalidation_0-map@12:0.07235                       \n",
      "[4]\tvalidation_0-map@12:0.07235                       \n",
      "[5]\tvalidation_0-map@12:0.07235                       \n",
      "[6]\tvalidation_0-map@12:0.07235                       \n",
      "[7]\tvalidation_0-map@12:0.07240                       \n",
      "[8]\tvalidation_0-map@12:0.07240                       \n",
      "[9]\tvalidation_0-map@12:0.07240                       \n",
      "[10]\tvalidation_0-map@12:0.07240                      \n",
      "[11]\tvalidation_0-map@12:0.07240                      \n",
      "[12]\tvalidation_0-map@12:0.07240                      \n",
      "SCORE:                                                \n",
      "0.072398                                              \n",
      "[0]\tvalidation_0-map@12:0.03088                                       \n",
      "[1]\tvalidation_0-map@12:0.03088                                       \n",
      "[2]\tvalidation_0-map@12:0.07216                                       \n",
      "[3]\tvalidation_0-map@12:0.07230                                       \n",
      "[4]\tvalidation_0-map@12:0.07230                                       \n",
      "[5]\tvalidation_0-map@12:0.07230                                       \n",
      "[6]\tvalidation_0-map@12:0.07230                                       \n",
      "[7]\tvalidation_0-map@12:0.07230                                       \n",
      "SCORE:                                                                \n",
      "0.072303                                                              \n",
      "[0]\tvalidation_0-map@12:0.03088                                       \n",
      "[1]\tvalidation_0-map@12:0.07221                                       \n",
      "[2]\tvalidation_0-map@12:0.08194                                       \n",
      "[3]\tvalidation_0-map@12:0.08525                                       \n",
      "[4]\tvalidation_0-map@12:0.08525                                       \n",
      "[5]\tvalidation_0-map@12:0.08525                                       \n",
      "[6]\tvalidation_0-map@12:0.08525                                       \n",
      "[7]\tvalidation_0-map@12:0.08674                                       \n",
      "[8]\tvalidation_0-map@12:0.08674                                       \n",
      "[9]\tvalidation_0-map@12:0.08674                                       \n",
      "[10]\tvalidation_0-map@12:0.08674                                      \n",
      "[11]\tvalidation_0-map@12:0.08674                                      \n",
      "[12]\tvalidation_0-map@12:0.08674                                      \n",
      "SCORE:                                                                \n",
      "0.086742                                                              \n",
      "[0]\tvalidation_0-map@12:0.03088                                       \n",
      "[1]\tvalidation_0-map@12:0.07303                                       \n",
      "[2]\tvalidation_0-map@12:0.08223                                       \n",
      "[3]\tvalidation_0-map@12:0.08540                                       \n",
      "[4]\tvalidation_0-map@12:0.08540                                       \n",
      "[5]\tvalidation_0-map@12:0.08540                                       \n",
      "[6]\tvalidation_0-map@12:0.08540                                       \n",
      "[7]\tvalidation_0-map@12:0.08592                                       \n",
      "[8]\tvalidation_0-map@12:0.08592                                       \n",
      "[9]\tvalidation_0-map@12:0.08592                                       \n",
      "[10]\tvalidation_0-map@12:0.08592                                      \n",
      "[11]\tvalidation_0-map@12:0.08592                                      \n",
      "SCORE:                                                                \n",
      "0.085924                                                              \n",
      "[0]\tvalidation_0-map@12:0.03088                                       \n",
      "[1]\tvalidation_0-map@12:0.07217                                       \n",
      "[2]\tvalidation_0-map@12:0.07217                                       \n",
      "[3]\tvalidation_0-map@12:0.07301                                       \n",
      "[4]\tvalidation_0-map@12:0.07301                                       \n",
      "[5]\tvalidation_0-map@12:0.07301                                       \n",
      "[6]\tvalidation_0-map@12:0.07301                                       \n",
      "[7]\tvalidation_0-map@12:0.07310                                       \n",
      "[8]\tvalidation_0-map@12:0.07310                                       \n",
      "[9]\tvalidation_0-map@12:0.07310                                       \n",
      "[10]\tvalidation_0-map@12:0.07310                                      \n",
      "[11]\tvalidation_0-map@12:0.07310                                      \n",
      "[12]\tvalidation_0-map@12:0.07310                                      \n",
      "SCORE:                                                                \n",
      "0.073096                                                              \n",
      "[0]\tvalidation_0-map@12:0.03088                                       \n",
      "[1]\tvalidation_0-map@12:0.03088                                       \n",
      "[2]\tvalidation_0-map@12:0.07216                                       \n",
      "[3]\tvalidation_0-map@12:0.07247                                       \n",
      "[4]\tvalidation_0-map@12:0.07247                                       \n",
      "[5]\tvalidation_0-map@12:0.07247                                       \n",
      "[6]\tvalidation_0-map@12:0.07247                                       \n",
      "[7]\tvalidation_0-map@12:0.07247                                       \n",
      "SCORE:                                                                \n",
      "0.072475                                                              \n",
      "[0]\tvalidation_0-map@12:0.03088                                       \n",
      "[1]\tvalidation_0-map@12:0.03088                                       \n",
      "[2]\tvalidation_0-map@12:0.07216                                       \n",
      "[3]\tvalidation_0-map@12:0.07217                                       \n",
      "[4]\tvalidation_0-map@12:0.07217                                       \n",
      "[5]\tvalidation_0-map@12:0.07217                                       \n",
      "[6]\tvalidation_0-map@12:0.07217                                       \n",
      "[7]\tvalidation_0-map@12:0.07217                                       \n",
      "[8]\tvalidation_0-map@12:0.07217                                       \n",
      "SCORE:                                                                \n",
      "0.072171                                                              \n",
      "[0]\tvalidation_0-map@12:0.03088                                       \n",
      "[1]\tvalidation_0-map@12:0.07121                                       \n",
      "[2]\tvalidation_0-map@12:0.08033                                       \n",
      "[3]\tvalidation_0-map@12:0.08170                                       \n",
      "[4]\tvalidation_0-map@12:0.08171                                       \n",
      "[5]\tvalidation_0-map@12:0.08170                                       \n",
      "[6]\tvalidation_0-map@12:0.08170                                       \n",
      "[7]\tvalidation_0-map@12:0.08474                                       \n",
      "[8]\tvalidation_0-map@12:0.08474                                       \n",
      "[9]\tvalidation_0-map@12:0.08474                                       \n",
      "[10]\tvalidation_0-map@12:0.08474                                      \n",
      "[11]\tvalidation_0-map@12:0.08474                                      \n",
      "SCORE:                                                                \n",
      "0.084736                                                              \n",
      "[0]\tvalidation_0-map@12:0.03088                                       \n",
      "[1]\tvalidation_0-map@12:0.07303                                       \n",
      "[2]\tvalidation_0-map@12:0.08225                                       \n",
      "[3]\tvalidation_0-map@12:0.08547                                       \n",
      "[4]\tvalidation_0-map@12:0.08547                                       \n",
      "[5]\tvalidation_0-map@12:0.08547                                       \n",
      "[6]\tvalidation_0-map@12:0.08547                                       \n",
      "[7]\tvalidation_0-map@12:0.08473                                       \n",
      "[8]\tvalidation_0-map@12:0.08473                                       \n",
      "[9]\tvalidation_0-map@12:0.08473                                       \n",
      "SCORE:                                                                \n",
      "0.085474                                                              \n",
      "[0]\tvalidation_0-map@12:0.03088                                       \n",
      "[1]\tvalidation_0-map@12:0.03088                                       \n",
      "[2]\tvalidation_0-map@12:0.07217                                       \n",
      "[3]\tvalidation_0-map@12:0.07217                                       \n",
      "[4]\tvalidation_0-map@12:0.07217                                       \n",
      "[5]\tvalidation_0-map@12:0.07217                                       \n",
      "[6]\tvalidation_0-map@12:0.07217                                       \n",
      "SCORE:                                                                \n",
      "0.07217                                                               \n",
      "100%|██████████| 10/10 [01:10<00:00,  7.09s/trial, best loss: 0.913258]\n",
      "Best hyperparameters:  {'colsample_bytree': 0.6750375434063147, 'gamma': 3.218519182140094, 'learning_rate': 0.6764113439123965, 'max_depth': 4, 'min_child_weight': 1.0, 'reg_alpha': 147.0, 'reg_lambda': 0.6134604203712706}\n",
      "CPU times: user 4min 39s, sys: 3.7 s, total: 4min 42s\n",
      "Wall time: 1min 11s\n"
     ]
    }
   ],
   "source": [
    "%%time\n",
    "if best_hyperparams is None:\n",
    "    from hyperopt import STATUS_OK, Trials, fmin, hp, tpe\n",
    "\n",
    "    space = {\n",
    "        'objective': 'rank:map',\n",
    "        'max_depth': hp.choice(\"max_depth\",np.arange(3, 10, dtype=int) ),\n",
    "        'gamma': hp.uniform ('gamma', 1,9),\n",
    "        'learning_rate': hp.uniform('learning_rate',0.1,1.0),\n",
    "        'reg_alpha' : hp.quniform('reg_alpha', 40,180,1),\n",
    "        'reg_lambda' : hp.uniform('reg_lambda', 0,1),\n",
    "        'colsample_bytree' : hp.uniform('colsample_bytree', 0.5,1),\n",
    "        'min_child_weight' : hp.quniform('min_child_weight', 0, 10, 1),\n",
    "        'n_estimators': 180,\n",
    "        'seed': 0,\n",
    "        'eval_metric':'map@12',\n",
    "    }\n",
    "\n",
    "    def objective(space):\n",
    "        model = xgb.XGBRanker(**space)\n",
    "        model.fit(\n",
    "            trn_x, trn_y, trn_grp, verbose=True,\n",
    "            eval_set=[(val_x, val_y)], eval_group=[val_grp],\n",
    "            early_stopping_rounds=5,\n",
    "        )\n",
    "        print (\"SCORE:\", model.best_score)\n",
    "        return {'loss': 1.-model.best_score,'status': STATUS_OK}\n",
    "\n",
    "    trials = Trials()\n",
    "    best_hyperparams = fmin(\n",
    "        fn = objective,\n",
    "        space = space,\n",
    "        algo = tpe.suggest,\n",
    "        max_evals = 10,\n",
    "        trials = trials\n",
    "    )\n",
    "    print('Best hyperparameters: ',best_hyperparams)"
   ]
  },
  {
   "cell_type": "code",
   "execution_count": 9,
   "id": "adverse-glucose",
   "metadata": {},
   "outputs": [
    {
     "name": "stdout",
     "output_type": "stream",
     "text": [
      "[0]\tvalidation_0-map@12:0.03088\n",
      "[1]\tvalidation_0-map@12:0.07217\n",
      "[2]\tvalidation_0-map@12:0.08058\n",
      "[3]\tvalidation_0-map@12:0.08348\n",
      "[4]\tvalidation_0-map@12:0.08348\n",
      "[5]\tvalidation_0-map@12:0.08348\n",
      "[6]\tvalidation_0-map@12:0.08348\n",
      "[7]\tvalidation_0-map@12:0.08566\n",
      "[8]\tvalidation_0-map@12:0.08566\n",
      "[9]\tvalidation_0-map@12:0.08566\n",
      "[10]\tvalidation_0-map@12:0.08566\n",
      "[11]\tvalidation_0-map@12:0.08566\n",
      "[12]\tvalidation_0-map@12:0.08566\n",
      "CPU times: user 28.6 s, sys: 308 ms, total: 28.9 s\n",
      "Wall time: 7.24 s\n"
     ]
    },
    {
     "data": {
      "text/plain": [
       "XGBRanker(base_score=0.5, booster='gbtree', colsample_bylevel=1,\n",
       "          colsample_bynode=1, colsample_bytree=0.6750375434063147,\n",
       "          enable_categorical=False, eval_metric='map@12',\n",
       "          gamma=3.218519182140094, gpu_id=-1, importance_type=None,\n",
       "          interaction_constraints='', learning_rate=0.6764113439123965,\n",
       "          max_delta_step=0, max_depth=4, min_child_weight=1.0, missing=nan,\n",
       "          monotone_constraints='()', n_estimators=180, n_jobs=4,\n",
       "          num_parallel_tree=1, objective='rank:map', predictor='auto',\n",
       "          random_state=0, reg_alpha=147.0, reg_lambda=0.6134604203712706,\n",
       "          scale_pos_weight=None, seed=0, subsample=1, tree_method='exact',\n",
       "          validate_parameters=1, ...)"
      ]
     },
     "execution_count": 9,
     "metadata": {},
     "output_type": "execute_result"
    }
   ],
   "source": [
    "%%time\n",
    "xgb_config = {    \n",
    "    'objective': 'rank:map',\n",
    "    'n_estimators': 180,\n",
    "    'seed': 0,\n",
    "    'eval_metric':'map@12',\n",
    "}\n",
    "for k,v in best_hyperparams.items():\n",
    "    xgb_config[k] = v\n",
    "\n",
    "model = xgb.sklearn.XGBRanker(**xgb_config)\n",
    "es = xgb.callback.EarlyStopping(\n",
    "    rounds=5,\n",
    "    save_best=True,\n",
    ")\n",
    "model.fit(\n",
    "    trn_x, trn_y, trn_grp, verbose=True,\n",
    "    eval_set=[(val_x, val_y)], eval_group=[val_grp],\n",
    "    early_stopping_rounds=5,\n",
    "    callbacks=[es],\n",
    ")"
   ]
  },
  {
   "cell_type": "code",
   "execution_count": 10,
   "id": "gothic-burlington",
   "metadata": {},
   "outputs": [],
   "source": [
    "def make_prediction(model,test_df,features,label,k=12):\n",
    "    test_x,_,_ = x_y_group(test_df,features,label,only_x=True)\n",
    "    test_pred = model.predict(test_x)\n",
    "    test_x['customer_id'] = test_df['customer_id']\n",
    "    test_x['article_id'] = test_df['article_id']\n",
    "    test_x['prediction'] = test_pred\n",
    "    pred_df = test_x.groupby('customer_id') \\\n",
    "                    .apply(lambda x: x.sort_values('prediction',ascending=False)['article_id'].tolist()[:k]) \\\n",
    "                    .reset_index()\n",
    "    pred_df.columns = ['customer_id','prediction']\n",
    "    return pred_df\n",
    "\n",
    "def evaluate_score(pred_df,gt_df,k=12):\n",
    "    from metric import mapk\n",
    "    eval_df = gt_df.merge(pred_df,on='customer_id')\n",
    "    print('map@'+str(k), mapk(eval_df['ground_truth'].tolist(),eval_df['prediction'].tolist()))"
   ]
  },
  {
   "cell_type": "code",
   "execution_count": 11,
   "id": "provincial-depth",
   "metadata": {},
   "outputs": [
    {
     "name": "stdout",
     "output_type": "stream",
     "text": [
      "CPU times: user 18.2 s, sys: 2.06 s, total: 20.3 s\n",
      "Wall time: 20.8 s\n"
     ]
    }
   ],
   "source": [
    "%%time\n",
    "test_df = pd.read_csv(base_dir+'test_df.csv').sort_values('customer_id').reset_index()"
   ]
  },
  {
   "cell_type": "code",
   "execution_count": 12,
   "id": "functional-length",
   "metadata": {},
   "outputs": [
    {
     "name": "stderr",
     "output_type": "stream",
     "text": [
      "/scratch/local/21234159/ipykernel_42302/1806009743.py:4: SettingWithCopyWarning: \n",
      "A value is trying to be set on a copy of a slice from a DataFrame.\n",
      "Try using .loc[row_indexer,col_indexer] = value instead\n",
      "\n",
      "See the caveats in the documentation: https://pandas.pydata.org/pandas-docs/stable/user_guide/indexing.html#returning-a-view-versus-a-copy\n",
      "  test_x['customer_id'] = test_df['customer_id']\n",
      "/scratch/local/21234159/ipykernel_42302/1806009743.py:5: SettingWithCopyWarning: \n",
      "A value is trying to be set on a copy of a slice from a DataFrame.\n",
      "Try using .loc[row_indexer,col_indexer] = value instead\n",
      "\n",
      "See the caveats in the documentation: https://pandas.pydata.org/pandas-docs/stable/user_guide/indexing.html#returning-a-view-versus-a-copy\n",
      "  test_x['article_id'] = test_df['article_id']\n"
     ]
    },
    {
     "name": "stdout",
     "output_type": "stream",
     "text": [
      "CPU times: user 1min 29s, sys: 1.12 s, total: 1min 31s\n",
      "Wall time: 1min 28s\n"
     ]
    }
   ],
   "source": [
    "%%time\n",
    "pred_df = make_prediction(model,test_df,features,label,k=12)"
   ]
  },
  {
   "cell_type": "code",
   "execution_count": 13,
   "id": "joint-retirement",
   "metadata": {},
   "outputs": [
    {
     "name": "stdout",
     "output_type": "stream",
     "text": [
      "CPU times: user 3.3 s, sys: 72 ms, total: 3.37 s\n",
      "Wall time: 3.37 s\n"
     ]
    }
   ],
   "source": [
    "%%time\n",
    "from random import shuffle\n",
    "def shuffle_list(x):\n",
    "    shuffle(x)\n",
    "    return x\n",
    "random_df = val_df.groupby('customer_id')['article_id'] \\\n",
    "                    .agg(lambda x: shuffle_list(x.tolist())).to_frame().reset_index() \\\n",
    "                    .rename(columns={'article_id':'prediction'})"
   ]
  },
  {
   "cell_type": "code",
   "execution_count": 14,
   "id": "unexpected-basement",
   "metadata": {},
   "outputs": [
    {
     "name": "stdout",
     "output_type": "stream",
     "text": [
      "Score with XGBRanker:\n",
      "map@12 0.012769226589314701\n",
      "Score with random:\n",
      "map@12 0.00831537822823011\n",
      "CPU times: user 845 ms, sys: 29 ms, total: 874 ms\n",
      "Wall time: 1.03 s\n"
     ]
    }
   ],
   "source": [
    "%%time\n",
    "gt_df = pd.read_csv(base_dir+'gt_df.csv')\n",
    "gt_df['ground_truth'] = gt_df['ground_truth'].apply(lambda x: eval(x))\n",
    "print('Score with XGBRanker:')\n",
    "evaluate_score(pred_df,gt_df)\n",
    "print('Score with random:')\n",
    "evaluate_score(random_df,gt_df)"
   ]
  },
  {
   "cell_type": "code",
   "execution_count": 15,
   "id": "valid-corporation",
   "metadata": {},
   "outputs": [],
   "source": [
    "def plot_feature_importance(model,out_dir=None,saved_fig_name='feature_importance.png'):\n",
    "    import matplotlib.pyplot as plt\n",
    "    plt.tight_layout()\n",
    "    d = model.get_booster().get_score(importance_type='gain')\n",
    "    s = pd.Series(d.values(), index=d.keys())\n",
    "    ax = s.plot(kind='barh')\n",
    "    fig = ax.get_figure()\n",
    "    if out_dir is not None: fig.savefig(os.path.join(out_dir,saved_fig_name),bbox_inches = \"tight\")\n",
    "\n",
    "def save_xgb_model(model,out_dir,saved_model_name='model.bin'):\n",
    "    os.makedirs(out_dir,exist_ok=True)\n",
    "    model.save_model(os.path.join(out_dir,saved_model_name))\n",
    "    plot_feature_importance(model,out_dir)"
   ]
  },
  {
   "cell_type": "code",
   "execution_count": 16,
   "id": "hairy-christmas",
   "metadata": {},
   "outputs": [
    {
     "name": "stderr",
     "output_type": "stream",
     "text": [
      "/apps/pytorch/1.8.1/lib/python3.9/site-packages/xgboost/sklearn.py:585: UserWarning: max_depth is not saved in Scikit-Learn meta.\n",
      "  warnings.warn(str(k) + ' is not saved in Scikit-Learn meta.', UserWarning)\n"
     ]
    },
    {
     "data": {
      "image/png": "[encoded data removed]",
      "text/plain": [
       "<Figure size 432x288 with 1 Axes>"
      ]
     },
     "metadata": {
      "needs_background": "light"
     },
     "output_type": "display_data"
    }
   ],
   "source": [
    "save_xgb_model(model,base_dir)"
   ]
  },
  {
   "cell_type": "code",
   "execution_count": null,
   "id": "867894df-f5d6-476f-ab15-38b907aedc74",
   "metadata": {},
   "outputs": [],
   "source": []
  }
 ],
 "metadata": {
  "kernelspec": {
   "display_name": "PyTorch-1.8.1",
   "language": "python",
   "name": "pytorch-1.8.1"
  },
  "language_info": {
   "codemirror_mode": {
    "name": "ipython",
    "version": 3
   },
   "file_extension": ".py",
   "mimetype": "text/x-python",
   "name": "python",
   "nbconvert_exporter": "python",
   "pygments_lexer": "ipython3",
   "version": "3.9.5"
  }
 },
 "nbformat": 4,
 "nbformat_minor": 5
}
