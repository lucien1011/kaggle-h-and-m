{
 "cells": [
  {
   "cell_type": "code",
   "execution_count": 1,
   "id": "junior-relevance",
   "metadata": {},
   "outputs": [],
   "source": [
    "import numpy as np\n",
    "import pandas as pd\n",
    "import xgboost as xgb"
   ]
  },
  {
   "cell_type": "code",
   "execution_count": 2,
   "id": "dramatic-explanation",
   "metadata": {},
   "outputs": [],
   "source": [
    "dataset_dir = 'storage/dataset/220310_baseline/'"
   ]
  },
  {
   "cell_type": "code",
   "execution_count": 3,
   "id": "editorial-addiction",
   "metadata": {},
   "outputs": [
    {
     "name": "stdout",
     "output_type": "stream",
     "text": [
      "CPU times: user 17.3 s, sys: 1.66 s, total: 18.9 s\n",
      "Wall time: 19.1 s\n"
     ]
    }
   ],
   "source": [
    "%%time\n",
    "trn_df = pd.read_csv(dataset_dir+'trn_df.csv').sort_values('customer_id').reset_index()\n",
    "val_df = pd.read_csv(dataset_dir+'val_df.csv').sort_values('customer_id').reset_index()"
   ]
  },
  {
   "cell_type": "code",
   "execution_count": 4,
   "id": "egyptian-machine",
   "metadata": {},
   "outputs": [
    {
     "name": "stdout",
     "output_type": "stream",
     "text": [
      "shape (x,y,group):  (3506384, 8) (3506384,) (329034,)\n",
      "shape (x,y,group):  (7121279, 8) (7121279,) (68984,)\n"
     ]
    }
   ],
   "source": [
    "def x_y_group(data,only_x=False):\n",
    "    features = [c for c in trn_df.columns if c not in ['article_id','customer_id','label','index']]\n",
    "    x = data[features]\n",
    "    if only_x: return x,None,None\n",
    "    \n",
    "    target = 'label'\n",
    "    y = data[target]\n",
    "    group = data.groupby('customer_id').size().to_frame('size')['size'].to_numpy()\n",
    "    print('shape (x,y,group): ',x.shape,y.shape,group.shape)\n",
    "    return x,y,group\n",
    "\n",
    "trn_x,trn_y,trn_grp = x_y_group(trn_df)\n",
    "val_x,val_y,val_grp = x_y_group(val_df)"
   ]
  },
  {
   "cell_type": "code",
   "execution_count": 5,
   "id": "confused-blackberry",
   "metadata": {},
   "outputs": [
    {
     "name": "stderr",
     "output_type": "stream",
     "text": [
      "/apps/pytorch/1.8.1/lib/python3.9/site-packages/xgboost/core.py:499: FutureWarning: Pass `group` as keyword args.  Passing these as positional arguments will be considered as error in future releases.\n",
      "  warnings.warn(\n"
     ]
    },
    {
     "name": "stdout",
     "output_type": "stream",
     "text": [
      "[0]\tvalidation_0-map@12:0.02982\n",
      "[1]\tvalidation_0-map@12:0.05764\n",
      "[2]\tvalidation_0-map@12:0.05770\n",
      "[3]\tvalidation_0-map@12:0.05777\n",
      "[4]\tvalidation_0-map@12:0.05777\n",
      "[5]\tvalidation_0-map@12:0.05777\n",
      "[6]\tvalidation_0-map@12:0.05777\n",
      "[7]\tvalidation_0-map@12:0.05806\n",
      "[8]\tvalidation_0-map@12:0.05806\n",
      "[9]\tvalidation_0-map@12:0.05806\n",
      "[10]\tvalidation_0-map@12:0.05806\n",
      "[11]\tvalidation_0-map@12:0.05806\n",
      "[12]\tvalidation_0-map@12:0.05806\n"
     ]
    },
    {
     "data": {
      "text/plain": [
       "XGBRanker(base_score=0.5, booster='gbtree', colsample_bylevel=1,\n",
       "          colsample_bynode=1, colsample_bytree=0.7959932314624918,\n",
       "          enable_categorical=False, eval_metric='map@12',\n",
       "          gamma=3.236981174565596, gpu_id=-1, importance_type=None,\n",
       "          interaction_constraints='', learning_rate=0.8092969260411637,\n",
       "          max_delta_step=0, max_depth=20, min_child_weight=10.0, missing=nan,\n",
       "          monotone_constraints='()', n_estimators=180, n_jobs=4,\n",
       "          num_parallel_tree=1, objective='rank:map', predictor='auto',\n",
       "          random_state=0, reg_alpha=83.0, reg_lambda=0.9226958452956067,\n",
       "          scale_pos_weight=None, subsample=1, tree_method='exact',\n",
       "          validate_parameters=1, verbosity=None)"
      ]
     },
     "execution_count": 5,
     "metadata": {},
     "output_type": "execute_result"
    }
   ],
   "source": [
    "xgb_config = {\n",
    "    'eval_metric':'map@12',\n",
    "    'objective': 'rank:map',\n",
    "    'colsample_bytree': 0.7959932314624918, \n",
    "    'gamma': 3.236981174565596, \n",
    "    'learning_rate': 0.8092969260411637, \n",
    "    'min_child_weight': 10.0, \n",
    "    'reg_alpha': 83.0, \n",
    "    'reg_lambda': 0.9226958452956067, \n",
    "    'max_depth': 20,\n",
    "    'n_estimators': 180,\n",
    "}\n",
    "\n",
    "fit_config = {\n",
    "    'early_stopping_rounds': 5,\n",
    "}\n",
    "\n",
    "model = xgb.sklearn.XGBRanker(**xgb_config)\n",
    "es = xgb.callback.EarlyStopping(\n",
    "    rounds=fit_config.get('early_stopping_rounds',5),\n",
    "    save_best=True,\n",
    ")\n",
    "model.fit(\n",
    "    trn_x, trn_y, trn_grp, verbose=True,\n",
    "    eval_set=[(val_x, val_y)], eval_group=[val_grp],\n",
    "    early_stopping_rounds=fit_config.get('early_stopping_rounds',5),\n",
    "    xgb_model=fit_config.get('xgb_model',None),\n",
    "    callbacks=[es],\n",
    ")"
   ]
  },
  {
   "cell_type": "code",
   "execution_count": 6,
   "id": "unique-defeat",
   "metadata": {},
   "outputs": [],
   "source": [
    "def make_prediction(model,test_df,k=12):\n",
    "    test_x,_,_ = x_y_group(test_df,only_x=True)\n",
    "    test_pred = model.predict(test_x)\n",
    "    test_x['customer_id'] = test_df['customer_id']\n",
    "    test_x['article_id'] = test_df['article_id']\n",
    "    test_x['prediction'] = test_pred\n",
    "    pred_df = test_x.groupby('customer_id') \\\n",
    "                    .apply(lambda x: x.sort_values('prediction',ascending=False)['article_id'].tolist()[:k]) \\\n",
    "                    .reset_index()\n",
    "    pred_df.columns = ['customer_id','prediction']\n",
    "    return pred_df\n",
    "\n",
    "def evaluate_score(pred_df,gt_df,k=12):\n",
    "    from metric import mapk\n",
    "    eval_df = gt_df.merge(pred_df,on='customer_id')\n",
    "    print('map@'+str(k), mapk(eval_df['ground_truth'].tolist(),eval_df['prediction'].tolist()))"
   ]
  },
  {
   "cell_type": "code",
   "execution_count": 7,
   "id": "contained-intranet",
   "metadata": {},
   "outputs": [
    {
     "name": "stdout",
     "output_type": "stream",
     "text": [
      "CPU times: user 40.1 s, sys: 4.62 s, total: 44.7 s\n",
      "Wall time: 45.3 s\n"
     ]
    }
   ],
   "source": [
    "%%time\n",
    "test_df = pd.read_csv(dataset_dir+'test_df.csv').sort_values('customer_id').reset_index()"
   ]
  },
  {
   "cell_type": "code",
   "execution_count": 8,
   "id": "virgin-punch",
   "metadata": {},
   "outputs": [
    {
     "name": "stderr",
     "output_type": "stream",
     "text": [
      "/scratch/local/20747737/ipykernel_45352/667810568.py:4: SettingWithCopyWarning: \n",
      "A value is trying to be set on a copy of a slice from a DataFrame.\n",
      "Try using .loc[row_indexer,col_indexer] = value instead\n",
      "\n",
      "See the caveats in the documentation: https://pandas.pydata.org/pandas-docs/stable/user_guide/indexing.html#returning-a-view-versus-a-copy\n",
      "  test_x['customer_id'] = test_df['customer_id']\n",
      "/scratch/local/20747737/ipykernel_45352/667810568.py:5: SettingWithCopyWarning: \n",
      "A value is trying to be set on a copy of a slice from a DataFrame.\n",
      "Try using .loc[row_indexer,col_indexer] = value instead\n",
      "\n",
      "See the caveats in the documentation: https://pandas.pydata.org/pandas-docs/stable/user_guide/indexing.html#returning-a-view-versus-a-copy\n",
      "  test_x['article_id'] = test_df['article_id']\n"
     ]
    },
    {
     "name": "stdout",
     "output_type": "stream",
     "text": [
      "CPU times: user 1min 50s, sys: 2.79 s, total: 1min 52s\n",
      "Wall time: 1min 47s\n"
     ]
    }
   ],
   "source": [
    "%%time\n",
    "pred_df = make_prediction(model,test_df,k=12)"
   ]
  },
  {
   "cell_type": "code",
   "execution_count": 26,
   "id": "placed-married",
   "metadata": {},
   "outputs": [
    {
     "name": "stdout",
     "output_type": "stream",
     "text": [
      "CPU times: user 24.3 s, sys: 1.23 s, total: 25.6 s\n",
      "Wall time: 25.6 s\n"
     ]
    }
   ],
   "source": [
    "%%time\n",
    "from random import shuffle\n",
    "def shuffle_list(x):\n",
    "    shuffle(x)\n",
    "    return x\n",
    "random_df = test_df.groupby('customer_id')['article_id'] \\\n",
    "                    .agg(lambda x: shuffle_list(x.tolist())).to_frame().reset_index() \\\n",
    "                    .rename(columns={'article_id':'prediction'})"
   ]
  },
  {
   "cell_type": "code",
   "execution_count": 27,
   "id": "composed-worth",
   "metadata": {},
   "outputs": [
    {
     "name": "stdout",
     "output_type": "stream",
     "text": [
      "Score with XGBRanker:\n",
      "map@12 0.02716574325029833\n",
      "Score with random:\n",
      "map@12 0.004175692335097729\n",
      "CPU times: user 1.04 s, sys: 12.1 ms, total: 1.05 s\n",
      "Wall time: 1.05 s\n"
     ]
    }
   ],
   "source": [
    "%%time\n",
    "gt_df = pd.read_csv(dataset_dir+'gt_df.csv')\n",
    "gt_df['ground_truth'] = gt_df['ground_truth'].apply(lambda x: eval(x))\n",
    "print('Score with XGBRanker:')\n",
    "evaluate_score(pred_df,gt_df)\n",
    "print('Score with random:')\n",
    "evaluate_score(random_df,gt_df)"
   ]
  },
  {
   "cell_type": "code",
   "execution_count": 14,
   "id": "endangered-header",
   "metadata": {},
   "outputs": [
    {
     "data": {
      "text/plain": [
       "{'product_type_name_countvec': 1134.258544921875,\n",
       " 'graphical_appearance_name_countvec': 335.81927490234375,\n",
       " 'perceived_colour_value_name_countvec': 37.089210510253906,\n",
       " 'colour_group_code_countvec': 3422.0830078125,\n",
       " 'index_group_name_countvec': 32.791015625,\n",
       " 'department_name_countvec': 13352.654296875,\n",
       " 'repeated_purchase_prob': 86492.796875}"
      ]
     },
     "execution_count": 14,
     "metadata": {},
     "output_type": "execute_result"
    }
   ],
   "source": [
    "model.get_booster().get_score(importance_type='gain')"
   ]
  },
  {
   "cell_type": "code",
   "execution_count": null,
   "id": "a09b04dc-0730-4bd7-b7bd-634f8ae5533c",
   "metadata": {},
   "outputs": [],
   "source": []
  }
 ],
 "metadata": {
  "kernelspec": {
   "display_name": "PyTorch-1.8.1",
   "language": "python",
   "name": "pytorch-1.8.1"
  },
  "language_info": {
   "codemirror_mode": {
    "name": "ipython",
    "version": 3
   },
   "file_extension": ".py",
   "mimetype": "text/x-python",
   "name": "python",
   "nbconvert_exporter": "python",
   "pygments_lexer": "ipython3",
   "version": "3.9.5"
  }
 },
 "nbformat": 4,
 "nbformat_minor": 5
}
