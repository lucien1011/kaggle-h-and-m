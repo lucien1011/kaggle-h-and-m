{
 "cells": [
  {
   "cell_type": "code",
   "execution_count": 2,
   "metadata": {},
   "outputs": [],
   "source": [
    "import numpy as np\n",
    "import pandas as pd\n",
    "import xgboost as xgb"
   ]
  },
  {
   "cell_type": "code",
   "execution_count": 3,
   "metadata": {},
   "outputs": [],
   "source": [
    "import sys\n",
    "sys.path.append('/home/kinho.lo/.local/lib/python3.9/site-packages/')"
   ]
  },
  {
   "cell_type": "code",
   "execution_count": 4,
   "metadata": {},
   "outputs": [],
   "source": [
    "dataset_dir = 'storage/dataset/220310_baseline/'\n",
    "best_hyperparams = {\n",
    "    'colsample_bytree': 0.5190375461291256, \n",
    "    'gamma': 5.842869326066733, \n",
    "    'learning_rate': 0.21789613935143787, \n",
    "    'max_depth': 5, \n",
    "    'min_child_weight': 4.0, \n",
    "    'reg_alpha': 128.0, \n",
    "    'reg_lambda': 0.8583267170752089,\n",
    "}"
   ]
  },
  {
   "cell_type": "code",
   "execution_count": 5,
   "metadata": {},
   "outputs": [
    {
     "name": "stdout",
     "output_type": "stream",
     "text": [
      "CPU times: user 24.9 s, sys: 2.72 s, total: 27.6 s\n",
      "Wall time: 27.8 s\n"
     ]
    }
   ],
   "source": [
    "%%time\n",
    "trn_df = pd.read_csv(dataset_dir+'trn_df.csv').sort_values('customer_id').reset_index()\n",
    "val_df = pd.read_csv(dataset_dir+'val_df.csv').sort_values('customer_id').reset_index()"
   ]
  },
  {
   "cell_type": "code",
   "execution_count": 6,
   "metadata": {},
   "outputs": [
    {
     "name": "stdout",
     "output_type": "stream",
     "text": [
      "CPU times: user 3.27 s, sys: 628 ms, total: 3.9 s\n",
      "Wall time: 3.89 s\n"
     ]
    }
   ],
   "source": [
    "%%time\n",
    "from utils import x_y_group\n",
    "features = [c for c in trn_df.columns if c not in ['article_id','customer_id','label','index']]\n",
    "label = 'label'\n",
    "trn_x,trn_y,trn_grp = x_y_group(trn_df,features,label)\n",
    "val_x,val_y,val_grp = x_y_group(val_df,features,label)"
   ]
  },
  {
   "cell_type": "code",
   "execution_count": 7,
   "metadata": {},
   "outputs": [
    {
     "name": "stdout",
     "output_type": "stream",
     "text": [
      "CPU times: user 2 µs, sys: 1e+03 ns, total: 3 µs\n",
      "Wall time: 4.77 µs\n"
     ]
    }
   ],
   "source": [
    "%%time\n",
    "if best_hyperparams is None:\n",
    "    from hyperopt import STATUS_OK, Trials, fmin, hp, tpe\n",
    "\n",
    "    space = {\n",
    "        'objective': 'rank:map',\n",
    "        'max_depth': hp.choice(\"max_depth\",np.arange(3, 10, dtype=int) ),\n",
    "        'gamma': hp.uniform ('gamma', 1,9),\n",
    "        'learning_rate': hp.uniform('learning_rate',0.1,1.0),\n",
    "        'reg_alpha' : hp.quniform('reg_alpha', 40,180,1),\n",
    "        'reg_lambda' : hp.uniform('reg_lambda', 0,1),\n",
    "        'colsample_bytree' : hp.uniform('colsample_bytree', 0.5,1),\n",
    "        'min_child_weight' : hp.quniform('min_child_weight', 0, 10, 1),\n",
    "        'n_estimators': 180,\n",
    "        'seed': 0,\n",
    "        'eval_metric':'map@12',\n",
    "    }\n",
    "\n",
    "    def objective(space):\n",
    "        model = xgb.XGBRanker(**space)\n",
    "        model.fit(\n",
    "            trn_x, trn_y, trn_grp, verbose=True,\n",
    "            eval_set=[(val_x, val_y)], eval_group=[val_grp],\n",
    "            early_stopping_rounds=5,\n",
    "        )\n",
    "        print (\"SCORE:\", model.best_score)\n",
    "        return {'loss': 1.-model.best_score,'status': STATUS_OK}\n",
    "\n",
    "    trials = Trials()\n",
    "    best_hyperparams = fmin(\n",
    "        fn = objective,\n",
    "        space = space,\n",
    "        algo = tpe.suggest,\n",
    "        max_evals = 10,\n",
    "        trials = trials\n",
    "    )\n",
    "    print('Best hyperparameters: ',best_hyperparams)"
   ]
  },
  {
   "cell_type": "code",
   "execution_count": 8,
   "metadata": {},
   "outputs": [
    {
     "name": "stderr",
     "output_type": "stream",
     "text": [
      "/apps/pytorch/1.8.1/lib/python3.9/site-packages/xgboost/core.py:499: FutureWarning: Pass `group` as keyword args.  Passing these as positional arguments will be considered as error in future releases.\n",
      "  warnings.warn(\n"
     ]
    },
    {
     "name": "stdout",
     "output_type": "stream",
     "text": [
      "[0]\tvalidation_0-map@12:0.03419\n",
      "[1]\tvalidation_0-map@12:0.04914\n",
      "[2]\tvalidation_0-map@12:0.04938\n",
      "[3]\tvalidation_0-map@12:0.04967\n",
      "[4]\tvalidation_0-map@12:0.05093\n",
      "[5]\tvalidation_0-map@12:0.05186\n",
      "[6]\tvalidation_0-map@12:0.06213\n",
      "[7]\tvalidation_0-map@12:0.06149\n",
      "[8]\tvalidation_0-map@12:0.06250\n",
      "[9]\tvalidation_0-map@12:0.06256\n",
      "[10]\tvalidation_0-map@12:0.06259\n",
      "[11]\tvalidation_0-map@12:0.06259\n",
      "[12]\tvalidation_0-map@12:0.06259\n",
      "[13]\tvalidation_0-map@12:0.06259\n",
      "[14]\tvalidation_0-map@12:0.06289\n",
      "[15]\tvalidation_0-map@12:0.06295\n",
      "[16]\tvalidation_0-map@12:0.06376\n",
      "[17]\tvalidation_0-map@12:0.06376\n",
      "[18]\tvalidation_0-map@12:0.06407\n",
      "[19]\tvalidation_0-map@12:0.06419\n",
      "[20]\tvalidation_0-map@12:0.06475\n",
      "[21]\tvalidation_0-map@12:0.06479\n",
      "[22]\tvalidation_0-map@12:0.06459\n",
      "[23]\tvalidation_0-map@12:0.06459\n",
      "[24]\tvalidation_0-map@12:0.06460\n",
      "[25]\tvalidation_0-map@12:0.06460\n",
      "[26]\tvalidation_0-map@12:0.06491\n",
      "[27]\tvalidation_0-map@12:0.06491\n",
      "[28]\tvalidation_0-map@12:0.06491\n",
      "[29]\tvalidation_0-map@12:0.06509\n",
      "[30]\tvalidation_0-map@12:0.06571\n",
      "[31]\tvalidation_0-map@12:0.06687\n",
      "[32]\tvalidation_0-map@12:0.06687\n",
      "[33]\tvalidation_0-map@12:0.06730\n",
      "[34]\tvalidation_0-map@12:0.06738\n",
      "[35]\tvalidation_0-map@12:0.06700\n",
      "[36]\tvalidation_0-map@12:0.06719\n",
      "[37]\tvalidation_0-map@12:0.06728\n",
      "[38]\tvalidation_0-map@12:0.06738\n",
      "[39]\tvalidation_0-map@12:0.06738\n",
      "[40]\tvalidation_0-map@12:0.06738\n",
      "[41]\tvalidation_0-map@12:0.06738\n",
      "[42]\tvalidation_0-map@12:0.06738\n",
      "CPU times: user 2min 36s, sys: 2.89 s, total: 2min 39s\n",
      "Wall time: 40.4 s\n"
     ]
    },
    {
     "data": {
      "text/plain": [
       "XGBRanker(base_score=0.5, booster='gbtree', colsample_bylevel=1,\n",
       "          colsample_bynode=1, colsample_bytree=0.5190375461291256,\n",
       "          enable_categorical=False, eval_metric='map@12',\n",
       "          gamma=5.842869326066733, gpu_id=-1, importance_type=None,\n",
       "          interaction_constraints='', learning_rate=0.21789613935143787,\n",
       "          max_delta_step=0, max_depth=5, min_child_weight=4.0, missing=nan,\n",
       "          monotone_constraints='()', n_estimators=180, n_jobs=4,\n",
       "          num_parallel_tree=1, objective='rank:map', predictor='auto',\n",
       "          random_state=0, reg_alpha=128.0, reg_lambda=0.8583267170752089,\n",
       "          scale_pos_weight=None, seed=0, subsample=1, tree_method='exact',\n",
       "          validate_parameters=1, ...)"
      ]
     },
     "execution_count": 8,
     "metadata": {},
     "output_type": "execute_result"
    }
   ],
   "source": [
    "%%time\n",
    "xgb_config = {    \n",
    "    'objective': 'rank:map',\n",
    "    'n_estimators': 180,\n",
    "    'seed': 0,\n",
    "    'eval_metric':'map@12',\n",
    "}\n",
    "for k,v in best_hyperparams.items():\n",
    "    xgb_config[k] = v\n",
    "\n",
    "model = xgb.sklearn.XGBRanker(**xgb_config)\n",
    "es = xgb.callback.EarlyStopping(\n",
    "    rounds=5,\n",
    "    save_best=True,\n",
    ")\n",
    "model.fit(\n",
    "    trn_x, trn_y, trn_grp, verbose=True,\n",
    "    eval_set=[(val_x, val_y)], eval_group=[val_grp],\n",
    "    early_stopping_rounds=5,\n",
    "    callbacks=[es],\n",
    ")"
   ]
  },
  {
   "cell_type": "code",
   "execution_count": 9,
   "metadata": {},
   "outputs": [],
   "source": [
    "def make_prediction(model,test_df,features,label,k=12):\n",
    "    test_x,_,_ = x_y_group(test_df,features,label,only_x=True)\n",
    "    test_pred = model.predict(test_x)\n",
    "    test_x['customer_id'] = test_df['customer_id']\n",
    "    test_x['article_id'] = test_df['article_id']\n",
    "    test_x['prediction'] = test_pred\n",
    "    pred_df = test_x.groupby('customer_id') \\\n",
    "                    .apply(lambda x: x.sort_values('prediction',ascending=False)['article_id'].tolist()[:k]) \\\n",
    "                    .reset_index()\n",
    "    pred_df.columns = ['customer_id','prediction']\n",
    "    return pred_df\n",
    "\n",
    "def evaluate_score(pred_df,gt_df,k=12):\n",
    "    from metric import mapk\n",
    "    eval_df = gt_df.merge(pred_df,on='customer_id')\n",
    "    print('map@'+str(k), mapk(eval_df['ground_truth'].tolist(),eval_df['prediction'].tolist()))"
   ]
  },
  {
   "cell_type": "code",
   "execution_count": null,
   "metadata": {},
   "outputs": [],
   "source": [
    "%%time\n",
    "test_df = pd.read_csv(dataset_dir+'test_df.csv').sort_values('customer_id').reset_index()"
   ]
  },
  {
   "cell_type": "code",
   "execution_count": null,
   "metadata": {},
   "outputs": [],
   "source": [
    "%%time\n",
    "pred_df = make_prediction(model,test_df,features,label,k=12)"
   ]
  },
  {
   "cell_type": "code",
   "execution_count": null,
   "metadata": {},
   "outputs": [],
   "source": [
    "%%time\n",
    "from random import shuffle\n",
    "def shuffle_list(x):\n",
    "    shuffle(x)\n",
    "    return x\n",
    "random_df = test_df.groupby('customer_id')['article_id'] \\\n",
    "                    .agg(lambda x: shuffle_list(x.tolist())).to_frame().reset_index() \\\n",
    "                    .rename(columns={'article_id':'prediction'})"
   ]
  },
  {
   "cell_type": "code",
   "execution_count": null,
   "metadata": {},
   "outputs": [],
   "source": [
    "%%time\n",
    "gt_df = pd.read_csv(dataset_dir+'gt_df.csv')\n",
    "gt_df['ground_truth'] = gt_df['ground_truth'].apply(lambda x: eval(x))\n",
    "print('Score with XGBRanker:')\n",
    "evaluate_score(pred_df,gt_df)\n",
    "print('Score with random:')\n",
    "evaluate_score(random_df,gt_df)"
   ]
  },
  {
   "cell_type": "code",
   "execution_count": null,
   "metadata": {},
   "outputs": [],
   "source": [
    "model.get_booster().get_score(importance_type='gain')"
   ]
  },
  {
   "cell_type": "code",
   "execution_count": null,
   "metadata": {},
   "outputs": [],
   "source": []
  }
 ],
 "metadata": {
  "kernelspec": {
   "display_name": "PyTorch-1.8.1",
   "language": "python",
   "name": "pytorch-1.8.1"
  },
  "language_info": {
   "codemirror_mode": {
    "name": "ipython",
    "version": 3
   },
   "file_extension": ".py",
   "mimetype": "text/x-python",
   "name": "python",
   "nbconvert_exporter": "python",
   "pygments_lexer": "ipython3",
   "version": "3.9.5"
  }
 },
 "nbformat": 4,
 "nbformat_minor": 5
}
