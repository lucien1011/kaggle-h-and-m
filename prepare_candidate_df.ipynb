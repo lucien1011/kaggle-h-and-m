{
 "cells": [
  {
   "cell_type": "code",
   "execution_count": 39,
   "id": "d6b991ec-7f64-4f70-bb88-b75310680f8d",
   "metadata": {},
   "outputs": [],
   "source": [
    "import numpy as np\n",
    "import pandas as pd\n",
    "from tqdm import tqdm"
   ]
  },
  {
   "cell_type": "code",
   "execution_count": 40,
   "id": "9937e349-3c90-4f78-9168-11880dde40d4",
   "metadata": {},
   "outputs": [],
   "source": [
    "base_dir = 'storage/output/220314_baseline/'\n",
    "chucksize = 1000\n",
    "k = 10"
   ]
  },
  {
   "cell_type": "code",
   "execution_count": 41,
   "id": "19ae6933-bac8-493d-a8a3-5171e0021fc0",
   "metadata": {},
   "outputs": [
    {
     "name": "stdout",
     "output_type": "stream",
     "text": [
      "CPU times: user 24.9 s, sys: 1.8 s, total: 26.7 s\n",
      "Wall time: 26.7 s\n"
     ]
    }
   ],
   "source": [
    "%%time \n",
    "transactions = pd.read_csv('storage/transactions_train.csv')\n",
    "submission = pd.read_csv('storage/sample_submission.csv')\n",
    "\n",
    "transactions['t_dat'] = pd.to_datetime(transactions['t_dat'])"
   ]
  },
  {
   "cell_type": "code",
   "execution_count": 42,
   "id": "9e837465-8561-47a3-96db-d30039a149d6",
   "metadata": {},
   "outputs": [],
   "source": [
    "#from utils import train_val_test_split\n",
    "#trn_transactions,val_transactions,test_transactions = train_val_test_split(transactions)\n",
    "trn_start_time,trn_end_time='2020-06-01','2020-09-08'\n",
    "test_start_time,test_end_time='2020-09-08','2020-09-15'\n",
    "trn_transactions = transactions[(transactions.t_dat >= pd.to_datetime(trn_start_time)) & (transactions.t_dat < pd.to_datetime(trn_end_time))]\n",
    "test_transactions = transactions[(transactions.t_dat >= pd.to_datetime(test_start_time)) & (transactions.t_dat < pd.to_datetime(test_end_time))]"
   ]
  },
  {
   "cell_type": "code",
   "execution_count": 43,
   "id": "61f9937d-9951-46d1-9d2a-224940ed9dd2",
   "metadata": {},
   "outputs": [],
   "source": [
    "#print(trn_transactions.t_dat.max(),val_transactions.t_dat.max(),test_transactions.t_dat.max())\n",
    "transactions_3w = trn_transactions[trn_transactions['t_dat'] >= pd.to_datetime('2020-08-17')].copy()\n",
    "transactions_2w = trn_transactions[trn_transactions['t_dat'] >= pd.to_datetime('2020-08-24')].copy()\n",
    "transactions_1w = trn_transactions[trn_transactions['t_dat'] >= pd.to_datetime('2020-08-31')].copy()"
   ]
  },
  {
   "cell_type": "code",
   "execution_count": 44,
   "id": "3c661c34-564c-44dd-8d42-19bfb1af72ef",
   "metadata": {},
   "outputs": [
    {
     "name": "stdout",
     "output_type": "stream",
     "text": [
      "196780\n"
     ]
    }
   ],
   "source": [
    "purchase_dict_3w = {}\n",
    "\n",
    "for i,x in enumerate(zip(transactions_3w['customer_id'], transactions_3w['article_id'])):\n",
    "    cust_id, art_id = x\n",
    "    if cust_id not in purchase_dict_3w:\n",
    "        purchase_dict_3w[cust_id] = {}\n",
    "    \n",
    "    if art_id not in purchase_dict_3w[cust_id]:\n",
    "        purchase_dict_3w[cust_id][art_id] = 0\n",
    "    \n",
    "    purchase_dict_3w[cust_id][art_id] += 1\n",
    "    \n",
    "print(len(purchase_dict_3w))\n",
    "\n",
    "dummy_list_3w = list((transactions_3w['article_id'].value_counts()).index)[:12]"
   ]
  },
  {
   "cell_type": "code",
   "execution_count": 45,
   "id": "941a1341-8586-4549-9e51-268234a4377f",
   "metadata": {},
   "outputs": [
    {
     "name": "stdout",
     "output_type": "stream",
     "text": [
      "150150\n"
     ]
    }
   ],
   "source": [
    "purchase_dict_2w = {}\n",
    "\n",
    "for i,x in enumerate(zip(transactions_2w['customer_id'], transactions_2w['article_id'])):\n",
    "    cust_id, art_id = x\n",
    "    if cust_id not in purchase_dict_2w:\n",
    "        purchase_dict_2w[cust_id] = {}\n",
    "    \n",
    "    if art_id not in purchase_dict_2w[cust_id]:\n",
    "        purchase_dict_2w[cust_id][art_id] = 0\n",
    "    \n",
    "    purchase_dict_2w[cust_id][art_id] += 1\n",
    "    \n",
    "print(len(purchase_dict_2w))\n",
    "\n",
    "dummy_list_2w = list((transactions_2w['article_id'].value_counts()).index)[:12]"
   ]
  },
  {
   "cell_type": "code",
   "execution_count": 46,
   "id": "0202f8ed-548b-4331-9409-f99b6a9ea9df",
   "metadata": {},
   "outputs": [
    {
     "name": "stdout",
     "output_type": "stream",
     "text": [
      "85712\n"
     ]
    }
   ],
   "source": [
    "purchase_dict_1w = {}\n",
    "\n",
    "for i,x in enumerate(zip(transactions_1w['customer_id'], transactions_1w['article_id'])):\n",
    "    cust_id, art_id = x\n",
    "    if cust_id not in purchase_dict_1w:\n",
    "        purchase_dict_1w[cust_id] = {}\n",
    "    \n",
    "    if art_id not in purchase_dict_1w[cust_id]:\n",
    "        purchase_dict_1w[cust_id][art_id] = 0\n",
    "    \n",
    "    purchase_dict_1w[cust_id][art_id] += 1\n",
    "    \n",
    "print(len(purchase_dict_1w))\n",
    "\n",
    "dummy_list_1w = list((transactions_1w['article_id'].value_counts()).index)[:12]"
   ]
  },
  {
   "cell_type": "code",
   "execution_count": 47,
   "id": "10a31315-13fd-4eef-ad75-42497dc88c3e",
   "metadata": {},
   "outputs": [
    {
     "name": "stdout",
     "output_type": "stream",
     "text": [
      "(1371980, 2)\n"
     ]
    },
    {
     "data": {
      "text/html": [
       "<div>\n",
       "<style scoped>\n",
       "    .dataframe tbody tr th:only-of-type {\n",
       "        vertical-align: middle;\n",
       "    }\n",
       "\n",
       "    .dataframe tbody tr th {\n",
       "        vertical-align: top;\n",
       "    }\n",
       "\n",
       "    .dataframe thead th {\n",
       "        text-align: right;\n",
       "    }\n",
       "</style>\n",
       "<table border=\"1\" class=\"dataframe\">\n",
       "  <thead>\n",
       "    <tr style=\"text-align: right;\">\n",
       "      <th></th>\n",
       "      <th>customer_id</th>\n",
       "      <th>prediction</th>\n",
       "    </tr>\n",
       "  </thead>\n",
       "  <tbody>\n",
       "    <tr>\n",
       "      <th>0</th>\n",
       "      <td>00000dbacae5abe5e23885899a1fa44253a17956c6d1c3...</td>\n",
       "      <td>[568601043, 568601043, 568601043, 915526001, 7...</td>\n",
       "    </tr>\n",
       "    <tr>\n",
       "      <th>1</th>\n",
       "      <td>0000423b00ade91418cceaf3b26c6af3dd342b51fd051e...</td>\n",
       "      <td>[915526001, 751471001, 751471043, 933706001, 7...</td>\n",
       "    </tr>\n",
       "    <tr>\n",
       "      <th>2</th>\n",
       "      <td>000058a12d5b43e67d225668fa1f8d618c13dc232df0ca...</td>\n",
       "      <td>[915526001, 751471001, 751471043, 933706001, 7...</td>\n",
       "    </tr>\n",
       "    <tr>\n",
       "      <th>3</th>\n",
       "      <td>00005ca1c9ed5f5146b52ac8639a40ca9d57aeff4d1bd2...</td>\n",
       "      <td>[915526001, 751471001, 751471043, 933706001, 7...</td>\n",
       "    </tr>\n",
       "    <tr>\n",
       "      <th>4</th>\n",
       "      <td>00006413d8573cd20ed7128e53b7b13819fe5cfc2d801f...</td>\n",
       "      <td>[915526001, 751471001, 751471043, 933706001, 7...</td>\n",
       "    </tr>\n",
       "  </tbody>\n",
       "</table>\n",
       "</div>"
      ],
      "text/plain": [
       "                                         customer_id  \\\n",
       "0  00000dbacae5abe5e23885899a1fa44253a17956c6d1c3...   \n",
       "1  0000423b00ade91418cceaf3b26c6af3dd342b51fd051e...   \n",
       "2  000058a12d5b43e67d225668fa1f8d618c13dc232df0ca...   \n",
       "3  00005ca1c9ed5f5146b52ac8639a40ca9d57aeff4d1bd2...   \n",
       "4  00006413d8573cd20ed7128e53b7b13819fe5cfc2d801f...   \n",
       "\n",
       "                                          prediction  \n",
       "0  [568601043, 568601043, 568601043, 915526001, 7...  \n",
       "1  [915526001, 751471001, 751471043, 933706001, 7...  \n",
       "2  [915526001, 751471001, 751471043, 933706001, 7...  \n",
       "3  [915526001, 751471001, 751471043, 933706001, 7...  \n",
       "4  [915526001, 751471001, 751471043, 933706001, 7...  "
      ]
     },
     "execution_count": 47,
     "metadata": {},
     "output_type": "execute_result"
    }
   ],
   "source": [
    "pred_df = submission[['customer_id']]\n",
    "prediction_list = []\n",
    "\n",
    "dummy_pred = list((transactions_1w['article_id'].value_counts()).index)[:12]\n",
    "\n",
    "for i, cust_id in enumerate(submission['customer_id'].values.reshape((-1,))):\n",
    "    s = []\n",
    "    if cust_id in purchase_dict_1w:\n",
    "        l = sorted((purchase_dict_1w[cust_id]).items(), key=lambda x: x[1], reverse=True)\n",
    "        l = [y[0] for y in l]\n",
    "        if len(l)>12:\n",
    "            s += l[:12]\n",
    "        else:\n",
    "            s += l\n",
    "    if cust_id in purchase_dict_2w:\n",
    "        l = sorted((purchase_dict_2w[cust_id]).items(), key=lambda x: x[1], reverse=True)\n",
    "        l = [y[0] for y in l]\n",
    "        if len(l)>12:\n",
    "            s += l[:12]\n",
    "        else:\n",
    "            s += l\n",
    "    if cust_id in purchase_dict_3w:\n",
    "        l = sorted((purchase_dict_3w[cust_id]).items(), key=lambda x: x[1], reverse=True)\n",
    "        l = [y[0] for y in l]\n",
    "        if len(l)>12:\n",
    "            s += l[:12]\n",
    "        else:\n",
    "            s += l\n",
    "    s += dummy_pred\n",
    "    prediction_list.append(s)\n",
    "\n",
    "pred_df['prediction'] = prediction_list\n",
    "print(pred_df.shape)\n",
    "pred_df.head()"
   ]
  },
  {
   "cell_type": "code",
   "execution_count": 48,
   "id": "ad9569e7-baaf-42a3-b756-18ba9163c3e0",
   "metadata": {},
   "outputs": [],
   "source": [
    "gt_df = test_transactions.groupby('customer_id')['article_id'].agg(lambda x: x.tolist()).reset_index()\n",
    "gt_df.columns = ['customer_id','ground_truth']"
   ]
  },
  {
   "cell_type": "code",
   "execution_count": 49,
   "id": "ba9a2b86-8474-4510-ab4b-fe2f3f7bcfac",
   "metadata": {},
   "outputs": [],
   "source": [
    "def evaluate_score(pred_df,gt_df,k=12):\n",
    "    from metric import mapk\n",
    "    eval_df = gt_df.merge(pred_df,on='customer_id')\n",
    "    print('map@'+str(k), mapk(eval_df['ground_truth'].tolist(),eval_df['prediction'].tolist()))"
   ]
  },
  {
   "cell_type": "code",
   "execution_count": 50,
   "id": "860c6d9f-b2d9-4ee7-90d0-beb09eb92a82",
   "metadata": {},
   "outputs": [
    {
     "name": "stdout",
     "output_type": "stream",
     "text": [
      "map@12 0.020241364025775692\n"
     ]
    }
   ],
   "source": [
    "evaluate_score(pred_df,gt_df)"
   ]
  },
  {
   "cell_type": "code",
   "execution_count": 30,
   "id": "8a3d13de-6f48-4aa3-8ac0-84917523e81c",
   "metadata": {},
   "outputs": [],
   "source": [
    "cand_df = pred_df.explode('prediction')"
   ]
  },
  {
   "cell_type": "code",
   "execution_count": 63,
   "id": "90c5e1de-8e33-4ba7-90a6-f41c014e7128",
   "metadata": {},
   "outputs": [],
   "source": [
    "cand_df = cand_df.rename(columns={'prediction':'article_id'})"
   ]
  },
  {
   "cell_type": "code",
   "execution_count": 64,
   "id": "366bfbec-adff-408d-bbf8-8fefb24b8a4f",
   "metadata": {},
   "outputs": [],
   "source": [
    "cand_df.to_csv(os.path.join(base_dir,'candidate_df.csv'))"
   ]
  },
  {
   "cell_type": "code",
   "execution_count": 51,
   "id": "f8c27be3-6ff5-445e-8e33-a342bafa7805",
   "metadata": {},
   "outputs": [
    {
     "data": {
      "text/html": [
       "<div>\n",
       "<style scoped>\n",
       "    .dataframe tbody tr th:only-of-type {\n",
       "        vertical-align: middle;\n",
       "    }\n",
       "\n",
       "    .dataframe tbody tr th {\n",
       "        vertical-align: top;\n",
       "    }\n",
       "\n",
       "    .dataframe thead th {\n",
       "        text-align: right;\n",
       "    }\n",
       "</style>\n",
       "<table border=\"1\" class=\"dataframe\">\n",
       "  <thead>\n",
       "    <tr style=\"text-align: right;\">\n",
       "      <th></th>\n",
       "      <th>customer_id</th>\n",
       "      <th>prediction</th>\n",
       "    </tr>\n",
       "  </thead>\n",
       "  <tbody>\n",
       "    <tr>\n",
       "      <th>0</th>\n",
       "      <td>00000dbacae5abe5e23885899a1fa44253a17956c6d1c3...</td>\n",
       "      <td>[568601043, 568601043, 568601043, 915526001, 7...</td>\n",
       "    </tr>\n",
       "    <tr>\n",
       "      <th>1</th>\n",
       "      <td>0000423b00ade91418cceaf3b26c6af3dd342b51fd051e...</td>\n",
       "      <td>[915526001, 751471001, 751471043, 933706001, 7...</td>\n",
       "    </tr>\n",
       "    <tr>\n",
       "      <th>2</th>\n",
       "      <td>000058a12d5b43e67d225668fa1f8d618c13dc232df0ca...</td>\n",
       "      <td>[915526001, 751471001, 751471043, 933706001, 7...</td>\n",
       "    </tr>\n",
       "    <tr>\n",
       "      <th>3</th>\n",
       "      <td>00005ca1c9ed5f5146b52ac8639a40ca9d57aeff4d1bd2...</td>\n",
       "      <td>[915526001, 751471001, 751471043, 933706001, 7...</td>\n",
       "    </tr>\n",
       "    <tr>\n",
       "      <th>4</th>\n",
       "      <td>00006413d8573cd20ed7128e53b7b13819fe5cfc2d801f...</td>\n",
       "      <td>[915526001, 751471001, 751471043, 933706001, 7...</td>\n",
       "    </tr>\n",
       "    <tr>\n",
       "      <th>...</th>\n",
       "      <td>...</td>\n",
       "      <td>...</td>\n",
       "    </tr>\n",
       "    <tr>\n",
       "      <th>1371975</th>\n",
       "      <td>ffffbbf78b6eaac697a8a5dfbfd2bfa8113ee5b403e474...</td>\n",
       "      <td>[713997002, 720125039, 740922009, 791587007, 8...</td>\n",
       "    </tr>\n",
       "    <tr>\n",
       "      <th>1371976</th>\n",
       "      <td>ffffcd5046a6143d29a04fb8c424ce494a76e5cdf4fab5...</td>\n",
       "      <td>[762846031, 915526001, 751471001, 751471043, 9...</td>\n",
       "    </tr>\n",
       "    <tr>\n",
       "      <th>1371977</th>\n",
       "      <td>ffffcf35913a0bee60e8741cb2b4e78b8a98ee5ff2e6a1...</td>\n",
       "      <td>[915526001, 751471001, 751471043, 933706001, 7...</td>\n",
       "    </tr>\n",
       "    <tr>\n",
       "      <th>1371978</th>\n",
       "      <td>ffffd7744cebcf3aca44ae7049d2a94b87074c3d4ffe38...</td>\n",
       "      <td>[915526001, 751471001, 751471043, 933706001, 7...</td>\n",
       "    </tr>\n",
       "    <tr>\n",
       "      <th>1371979</th>\n",
       "      <td>ffffd9ac14e89946416d80e791d064701994755c3ab686...</td>\n",
       "      <td>[915526001, 751471001, 751471043, 933706001, 7...</td>\n",
       "    </tr>\n",
       "  </tbody>\n",
       "</table>\n",
       "<p>1371980 rows × 2 columns</p>\n",
       "</div>"
      ],
      "text/plain": [
       "                                               customer_id  \\\n",
       "0        00000dbacae5abe5e23885899a1fa44253a17956c6d1c3...   \n",
       "1        0000423b00ade91418cceaf3b26c6af3dd342b51fd051e...   \n",
       "2        000058a12d5b43e67d225668fa1f8d618c13dc232df0ca...   \n",
       "3        00005ca1c9ed5f5146b52ac8639a40ca9d57aeff4d1bd2...   \n",
       "4        00006413d8573cd20ed7128e53b7b13819fe5cfc2d801f...   \n",
       "...                                                    ...   \n",
       "1371975  ffffbbf78b6eaac697a8a5dfbfd2bfa8113ee5b403e474...   \n",
       "1371976  ffffcd5046a6143d29a04fb8c424ce494a76e5cdf4fab5...   \n",
       "1371977  ffffcf35913a0bee60e8741cb2b4e78b8a98ee5ff2e6a1...   \n",
       "1371978  ffffd7744cebcf3aca44ae7049d2a94b87074c3d4ffe38...   \n",
       "1371979  ffffd9ac14e89946416d80e791d064701994755c3ab686...   \n",
       "\n",
       "                                                prediction  \n",
       "0        [568601043, 568601043, 568601043, 915526001, 7...  \n",
       "1        [915526001, 751471001, 751471043, 933706001, 7...  \n",
       "2        [915526001, 751471001, 751471043, 933706001, 7...  \n",
       "3        [915526001, 751471001, 751471043, 933706001, 7...  \n",
       "4        [915526001, 751471001, 751471043, 933706001, 7...  \n",
       "...                                                    ...  \n",
       "1371975  [713997002, 720125039, 740922009, 791587007, 8...  \n",
       "1371976  [762846031, 915526001, 751471001, 751471043, 9...  \n",
       "1371977  [915526001, 751471001, 751471043, 933706001, 7...  \n",
       "1371978  [915526001, 751471001, 751471043, 933706001, 7...  \n",
       "1371979  [915526001, 751471001, 751471043, 933706001, 7...  \n",
       "\n",
       "[1371980 rows x 2 columns]"
      ]
     },
     "execution_count": 51,
     "metadata": {},
     "output_type": "execute_result"
    }
   ],
   "source": [
    "pred_df"
   ]
  },
  {
   "cell_type": "code",
   "execution_count": 52,
   "id": "c89e59f8-430a-47d4-80c6-6df99533f8fb",
   "metadata": {},
   "outputs": [
    {
     "data": {
      "text/plain": [
       "[915526001,\n",
       " 751471001,\n",
       " 751471043,\n",
       " 933706001,\n",
       " 706016001,\n",
       " 915529003,\n",
       " 919365008,\n",
       " 918292001,\n",
       " 898694001,\n",
       " 863595006,\n",
       " 896152002,\n",
       " 797988002]"
      ]
     },
     "execution_count": 52,
     "metadata": {},
     "output_type": "execute_result"
    }
   ],
   "source": [
    "dummy_pred"
   ]
  },
  {
   "cell_type": "code",
   "execution_count": 53,
   "id": "21370154-22d0-4efd-8128-e6f0c538178c",
   "metadata": {},
   "outputs": [
    {
     "data": {
      "text/plain": [
       "(Timestamp('2020-09-07 00:00:00'), Timestamp('2020-08-31 00:00:00'))"
      ]
     },
     "execution_count": 53,
     "metadata": {},
     "output_type": "execute_result"
    }
   ],
   "source": [
    "transactions_1w.t_dat.max(),transactions_1w.t_dat.min()"
   ]
  },
  {
   "cell_type": "code",
   "execution_count": null,
   "id": "c42fb82d-6cc1-439b-b085-53ab7bc44713",
   "metadata": {},
   "outputs": [],
   "source": []
  }
 ],
 "metadata": {
  "kernelspec": {
   "display_name": "RAPIDSai-21.12",
   "language": "python",
   "name": "rapidsai-21.12"
  },
  "language_info": {
   "codemirror_mode": {
    "name": "ipython",
    "version": 3
   },
   "file_extension": ".py",
   "mimetype": "text/x-python",
   "name": "python",
   "nbconvert_exporter": "python",
   "pygments_lexer": "ipython3",
   "version": "3.8.12"
  }
 },
 "nbformat": 4,
 "nbformat_minor": 5
}
