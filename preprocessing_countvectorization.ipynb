{
 "cells": [
  {
   "cell_type": "code",
   "execution_count": 1,
   "metadata": {},
   "outputs": [],
   "source": [
    "import os"
   ]
  },
  {
   "cell_type": "code",
   "execution_count": 2,
   "metadata": {},
   "outputs": [],
   "source": [
    "use_gpu = True\n",
    "\n",
    "if use_gpu:\n",
    "    import cudf as pd\n",
    "else:\n",
    "    import pandas as pd"
   ]
  },
  {
   "cell_type": "code",
   "execution_count": 3,
   "metadata": {},
   "outputs": [],
   "source": [
    "preprocess_dir = 'storage/output/220314_baseline/'"
   ]
  },
  {
   "cell_type": "code",
   "execution_count": 4,
   "metadata": {},
   "outputs": [],
   "source": [
    "from utils import save_csv"
   ]
  },
  {
   "cell_type": "markdown",
   "metadata": {},
   "source": [
    "****Input dataset****"
   ]
  },
  {
   "cell_type": "code",
   "execution_count": 5,
   "metadata": {},
   "outputs": [
    {
     "name": "stdout",
     "output_type": "stream",
     "text": [
      "CPU times: user 1.14 s, sys: 1.31 s, total: 2.45 s\n",
      "Wall time: 2.49 s\n"
     ]
    }
   ],
   "source": [
    "%%time\n",
    "transactions = pd.read_csv('storage/transactions_train.csv')\n",
    "articles = pd.read_csv('storage/articles.csv')\n",
    "customers = pd.read_csv('storage/customers.csv')"
   ]
  },
  {
   "cell_type": "code",
   "execution_count": 6,
   "metadata": {},
   "outputs": [
    {
     "name": "stdout",
     "output_type": "stream",
     "text": [
      "CPU times: user 27.5 ms, sys: 60.9 ms, total: 88.4 ms\n",
      "Wall time: 87.5 ms\n"
     ]
    }
   ],
   "source": [
    "%%time\n",
    "from utils import train_val_test_split\n",
    "trn_transactions,val_transactions,test_transactions = train_val_test_split(transactions,gpu=True)\n",
    "del(transactions)"
   ]
  },
  {
   "cell_type": "code",
   "execution_count": 7,
   "metadata": {},
   "outputs": [],
   "source": [
    "trn_transactions = trn_transactions[trn_transactions['t_dat'] > pd.to_datetime('2020-08-01')]"
   ]
  },
  {
   "cell_type": "markdown",
   "metadata": {},
   "source": [
    "****Feature engineering with past purchase history****"
   ]
  },
  {
   "cell_type": "code",
   "execution_count": 8,
   "metadata": {},
   "outputs": [],
   "source": [
    "def past_purchase_count_vector(df,art_df,selected_feature,postfix='_countvec'):\n",
    "    df = df.merge(art_df[['article_id',selected_feature]],on='article_id')\n",
    "    df['count'] = 1\n",
    "    norm = df.groupby(['customer_id'])['count'].count().reset_index()\n",
    "    norm.rename(columns={'count':'norm'},inplace=True)\n",
    "    count = df.groupby(['customer_id',selected_feature])['count'].count().reset_index()\n",
    "    count = count.merge(norm,on='customer_id')\n",
    "    count['count'] = count['count'] / count['norm']\n",
    "    count = count.rename(columns={'count':selected_feature+postfix})\n",
    "    del(norm)\n",
    "    return count[['customer_id',selected_feature,selected_feature+postfix]]"
   ]
  },
  {
   "cell_type": "code",
   "execution_count": 9,
   "metadata": {},
   "outputs": [
    {
     "name": "stdout",
     "output_type": "stream",
     "text": [
      "CPU times: user 610 ms, sys: 827 ms, total: 1.44 s\n",
      "Wall time: 1.66 s\n"
     ]
    }
   ],
   "source": [
    "%%time\n",
    "selected_features = [\n",
    "    'product_group_name', 'product_type_name', \n",
    "    'graphical_appearance_name', 'perceived_colour_value_name', 'colour_group_code', \n",
    "    'index_name', 'index_group_name', \n",
    "    'section_name', 'department_name',\n",
    "]\n",
    "for selected_feature in selected_features:\n",
    "    count = past_purchase_count_vector(trn_transactions[['customer_id','article_id']],articles,selected_feature)\n",
    "    save_csv(count,preprocess_dir,selected_feature+'_countvec.csv')"
   ]
  },
  {
   "cell_type": "markdown",
   "metadata": {},
   "source": [
    "****Feature engineering on repeated purchase****"
   ]
  },
  {
   "cell_type": "code",
   "execution_count": 10,
   "metadata": {},
   "outputs": [
    {
     "name": "stdout",
     "output_type": "stream",
     "text": [
      "CPU times: user 15 ms, sys: 23 ms, total: 38 ms\n",
      "Wall time: 49.5 ms\n"
     ]
    }
   ],
   "source": [
    "%%time\n",
    "trn_transactions['count'] = 1\n",
    "count = trn_transactions[['customer_id','article_id','count']].groupby(['customer_id','article_id'])['count'].count().reset_index()\n",
    "norm = trn_transactions[['customer_id','article_id']].groupby('customer_id').count().reset_index().rename(columns={'article_id':'norm'})\n",
    "count = count.merge(norm,on='customer_id')\n",
    "count['count'] = count['count'] / count['norm']\n",
    "count.drop(columns=['norm'],inplace=True)"
   ]
  },
  {
   "cell_type": "code",
   "execution_count": 11,
   "metadata": {},
   "outputs": [],
   "source": [
    "save_csv(count.to_pandas(),preprocess_dir,'repeated_purchase_prob.csv')"
   ]
  },
  {
   "cell_type": "code",
   "execution_count": 12,
   "metadata": {},
   "outputs": [
    {
     "name": "stdout",
     "output_type": "stream",
     "text": [
      "<class 'cudf.core.dataframe.DataFrame'>\n",
      "Int64Index: 1497951 entries, 29794821 to 31292771\n",
      "Data columns (total 6 columns):\n",
      " #   Column            Non-Null Count    Dtype\n",
      "---  ------            --------------    -----\n",
      " 0   t_dat             1497951 non-null  datetime64[ns]\n",
      " 1   customer_id       1497951 non-null  object\n",
      " 2   article_id        1497951 non-null  int64\n",
      " 3   price             1497951 non-null  float64\n",
      " 4   sales_channel_id  1497951 non-null  int64\n",
      " 5   count             1497951 non-null  int64\n",
      "dtypes: datetime64[ns](1), float64(1), int64(3), object(1)\n",
      "memory usage: 165.7+ MB\n"
     ]
    }
   ],
   "source": [
    "trn_transactions.info()"
   ]
  },
  {
   "cell_type": "code",
   "execution_count": null,
   "metadata": {},
   "outputs": [],
   "source": []
  }
 ],
 "metadata": {
  "kernelspec": {
   "display_name": "RAPIDSai-21.12",
   "language": "python",
   "name": "rapidsai-21.12"
  },
  "language_info": {
   "codemirror_mode": {
    "name": "ipython",
    "version": 3
   },
   "file_extension": ".py",
   "mimetype": "text/x-python",
   "name": "python",
   "nbconvert_exporter": "python",
   "pygments_lexer": "ipython3",
   "version": "3.8.12"
  }
 },
 "nbformat": 4,
 "nbformat_minor": 4
}
