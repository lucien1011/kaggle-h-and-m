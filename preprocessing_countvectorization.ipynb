{
 "cells": [
  {
   "cell_type": "code",
   "execution_count": 1,
   "metadata": {},
   "outputs": [
    {
     "name": "stdout",
     "output_type": "stream",
     "text": [
      "1.3.5\n"
     ]
    }
   ],
   "source": [
    "import os\n",
    "import pandas as pd\n",
    "print(pd.__version__)"
   ]
  },
  {
   "cell_type": "code",
   "execution_count": 2,
   "metadata": {},
   "outputs": [],
   "source": [
    "preprocess_dir = 'storage/preprocessing/220308_baseline/'"
   ]
  },
  {
   "cell_type": "code",
   "execution_count": 18,
   "metadata": {},
   "outputs": [],
   "source": [
    "def print_memory_usage(obj):\n",
    "    print('Used '+str(obj.memory_usage(deep=True).sum() / 1024 / 1024 / 1024)+\" Gb\")\n",
    "    \n",
    "def save_csv(df,out_dir,fname):\n",
    "    df.to_csv(os.path.join(out_dir,fname),index=False)"
   ]
  },
  {
   "cell_type": "markdown",
   "metadata": {},
   "source": [
    "****Input dataset****"
   ]
  },
  {
   "cell_type": "code",
   "execution_count": 4,
   "metadata": {},
   "outputs": [
    {
     "name": "stdout",
     "output_type": "stream",
     "text": [
      "CPU times: user 29.7 s, sys: 1.79 s, total: 31.5 s\n",
      "Wall time: 31.5 s\n"
     ]
    }
   ],
   "source": [
    "%%time\n",
    "transactions = pd.read_csv('storage/transactions_train.csv')\n",
    "articles = pd.read_csv('storage/articles.csv')\n",
    "customers = pd.read_csv('storage/customers.csv')"
   ]
  },
  {
   "cell_type": "code",
   "execution_count": 5,
   "metadata": {},
   "outputs": [
    {
     "name": "stdout",
     "output_type": "stream",
     "text": [
      "CPU times: user 4.79 s, sys: 524 ms, total: 5.31 s\n",
      "Wall time: 5.31 s\n"
     ]
    }
   ],
   "source": [
    "%%time\n",
    "from utils import train_test_split\n",
    "trn_transactions,val_transactions = train_test_split(transactions)\n",
    "del(transactions)"
   ]
  },
  {
   "cell_type": "code",
   "execution_count": 6,
   "metadata": {},
   "outputs": [],
   "source": [
    "trn_transactions = trn_transactions[trn_transactions['t_dat'] > pd.to_datetime('2020-08-01')]"
   ]
  },
  {
   "cell_type": "markdown",
   "metadata": {},
   "source": [
    "****Feature engineering with past purchase history****"
   ]
  },
  {
   "cell_type": "code",
   "execution_count": null,
   "metadata": {},
   "outputs": [],
   "source": [
    "def past_purchase_count_vector(df,art_df,selected_feature,postfix='_countvec'):\n",
    "    df = df.merge(art_df[['article_id',selected_feature]],on='article_id')\n",
    "    df['count'] = 1\n",
    "    norm = df.groupby(['customer_id'])['count'].count().reset_index()\n",
    "    norm.rename(columns={'count':'norm'},inplace=True)\n",
    "    count = df.groupby(['customer_id',selected_feature])['count'].count().reset_index()\n",
    "    count = count.merge(norm,on='customer_id')\n",
    "    count['count'] = count['count'] / count['norm']\n",
    "    count = count.rename(columns={'count':selected_feature+postfix})\n",
    "    del(norm)\n",
    "    return count[['customer_id',selected_feature,selected_feature+postfix]]"
   ]
  },
  {
   "cell_type": "code",
   "execution_count": null,
   "metadata": {},
   "outputs": [],
   "source": [
    "%%time\n",
    "selected_features = [\n",
    "    'product_group_name', 'product_type_name', \n",
    "    'graphical_appearance_name', 'perceived_colour_value_name', 'colour_group_code', \n",
    "    'index_name', 'index_group_name', \n",
    "    'section_name', 'department_name',\n",
    "]\n",
    "for selected_feature in selected_features:\n",
    "    count = past_purchase_count_vector(trn_transactions[['customer_id','article_id']],articles,selected_feature)\n",
    "    count.to_csv(preprocess_dir+selected_feature+'_countvec.csv',index=False)"
   ]
  },
  {
   "cell_type": "markdown",
   "metadata": {},
   "source": [
    "****Feature engineering on repeated purchase****"
   ]
  },
  {
   "cell_type": "code",
   "execution_count": 24,
   "metadata": {},
   "outputs": [
    {
     "name": "stdout",
     "output_type": "stream",
     "text": [
      "CPU times: user 2.16 s, sys: 6.12 ms, total: 2.17 s\n",
      "Wall time: 2.16 s\n"
     ]
    }
   ],
   "source": [
    "%%time\n",
    "trn_transactions['count'] = 1\n",
    "count = trn_transactions[['customer_id','article_id','count']].groupby(['customer_id','article_id'])['count'].count().reset_index()\n",
    "norm = trn_transactions[['customer_id','article_id']].groupby('customer_id').count().reset_index().rename(columns={'article_id':'norm'})\n",
    "count = count.merge(norm,on='customer_id')\n",
    "count['count'] = count['count'] / count['norm']\n",
    "count.drop(columns=['norm'],inplace=True)"
   ]
  },
  {
   "cell_type": "code",
   "execution_count": 26,
   "metadata": {},
   "outputs": [],
   "source": [
    "save_csv(count,preprocess_dir,'repeated_purchase_prob.csv')"
   ]
  },
  {
   "cell_type": "code",
   "execution_count": null,
   "metadata": {},
   "outputs": [],
   "source": []
  }
 ],
 "metadata": {
  "kernelspec": {
   "display_name": "RAPIDSai-0.14.1",
   "language": "python",
   "name": "rapidsai-0.14.1"
  },
  "language_info": {
   "codemirror_mode": {
    "name": "ipython",
    "version": 3
   },
   "file_extension": ".py",
   "mimetype": "text/x-python",
   "name": "python",
   "nbconvert_exporter": "python",
   "pygments_lexer": "ipython3",
   "version": "3.7.8"
  }
 },
 "nbformat": 4,
 "nbformat_minor": 4
}
