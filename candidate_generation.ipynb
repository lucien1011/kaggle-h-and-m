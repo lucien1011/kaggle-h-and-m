{
 "cells": [
  {
   "cell_type": "code",
   "execution_count": 11,
   "id": "a567795e-6acf-434f-b4ee-25ea5ef2e698",
   "metadata": {},
   "outputs": [],
   "source": [
    "import cudf\n",
    "import os\n",
    "import numpy as np\n",
    "import pandas as pd\n",
    "from tqdm import tqdm"
   ]
  },
  {
   "cell_type": "code",
   "execution_count": 12,
   "id": "3064fd90-82c1-4b67-b698-6f9be69d294b",
   "metadata": {},
   "outputs": [
    {
     "name": "stdout",
     "output_type": "stream",
     "text": [
      "CPU times: user 688 ms, sys: 1.05 s, total: 1.74 s\n",
      "Wall time: 1.77 s\n"
     ]
    }
   ],
   "source": [
    "%%time \n",
    "transactions = cudf.read_csv('storage/transactions_train.csv')\n",
    "articles = cudf.read_csv('storage/articles.csv')\n",
    "customers = cudf.read_csv('storage/customers.csv')"
   ]
  },
  {
   "cell_type": "code",
   "execution_count": 13,
   "id": "78eb236b-3f98-48ab-b6f1-d02b4b1b0f0c",
   "metadata": {},
   "outputs": [],
   "source": [
    "transactions['t_dat'] = cudf.to_datetime(transactions['t_dat'])\n",
    "customers['FN'].fillna(0.,inplace=True)\n",
    "customers['Active'].fillna(0.,inplace=True)\n",
    "customers['club_member_status'].fillna('None',inplace=True)\n",
    "customers['age'] = customers['age'] / 10\n",
    "customers['age'] = customers['age'].astype(int)\n",
    "customers['fashion_news_frequency'] = customers['fashion_news_frequency'].str.lower().fillna('none')"
   ]
  },
  {
   "cell_type": "code",
   "execution_count": 14,
   "id": "407c7c1f-22cb-499a-8b57-1b677c42a0de",
   "metadata": {},
   "outputs": [],
   "source": [
    "transactions = transactions.merge(customers[['customer_id','postal_code']],on='customer_id',how='left')"
   ]
  },
  {
   "cell_type": "code",
   "execution_count": 49,
   "id": "6955d2fc-0d11-4cef-91ed-0d8646678e6d",
   "metadata": {
    "tags": []
   },
   "outputs": [],
   "source": [
    "def construct_candidate_dict(transactions,key='customer_id'):\n",
    "    purchase_dict = {}\n",
    "    for i,x in enumerate(zip(transactions[key], transactions['article_id'])):\n",
    "        key_id, art_id = x\n",
    "        if key_id not in purchase_dict:\n",
    "            purchase_dict[key_id] = {}\n",
    "        if art_id not in purchase_dict[key_id]:\n",
    "            purchase_dict[key_id][art_id] = 0\n",
    "        purchase_dict[key_id][art_id] += 1\n",
    "    dummy_list = list((transactions['article_id'].value_counts()).index)[:12]\n",
    "    return purchase_dict,dummy_list\n",
    "\n",
    "def construct_pred_df(test_df,transactions,add_random_samples=False):\n",
    "    \n",
    "    bool_1w = transactions.t_dat>transactions.t_dat.max()-pd.Timedelta(7,unit='day')\n",
    "    bool_2w = (transactions.t_dat>transactions.t_dat.max()-2*pd.Timedelta(7,unit='day'))&(transactions.t_dat<=transactions.t_dat.max()-pd.Timedelta(7,unit='day'))\n",
    "    bool_3w = (transactions.t_dat>transactions.t_dat.max()-3*pd.Timedelta(7,unit='day'))&(transactions.t_dat<=transactions.t_dat.max()-2*pd.Timedelta(7,unit='day'))\n",
    "    bool_4w = (transactions.t_dat>transactions.t_dat.max()-4*pd.Timedelta(7,unit='day'))&(transactions.t_dat<=transactions.t_dat.max()-3*pd.Timedelta(7,unit='day'))\n",
    "    bool_5w = (transactions.t_dat>transactions.t_dat.max()-5*pd.Timedelta(7,unit='day'))&(transactions.t_dat<=transactions.t_dat.max()-4*pd.Timedelta(7,unit='day'))\n",
    "    bool_6w = (transactions.t_dat>transactions.t_dat.max()-6*pd.Timedelta(7,unit='day'))&(transactions.t_dat<=transactions.t_dat.max()-5*pd.Timedelta(7,unit='day'))\n",
    "    bool_7w = (transactions.t_dat>transactions.t_dat.max()-7*pd.Timedelta(7,unit='day'))&(transactions.t_dat<=transactions.t_dat.max()-6*pd.Timedelta(7,unit='day'))\n",
    "    \n",
    "    transactions_7w = transactions[bool_7w]\n",
    "    transactions_6w = transactions[bool_6w]\n",
    "    transactions_5w = transactions[bool_5w]\n",
    "    transactions_4w = transactions[bool_4w]\n",
    "    transactions_3w = transactions[bool_3w]\n",
    "    transactions_2w = transactions[bool_2w]\n",
    "    transactions_1w = transactions[bool_1w]\n",
    "    \n",
    "    purchase_dict_1w,dummy_list_1w = construct_candidate_dict(transactions_1w)\n",
    "    purchase_dict_2w,_ = construct_candidate_dict(transactions_2w)\n",
    "    purchase_dict_3w,_ = construct_candidate_dict(transactions_3w)\n",
    "    purchase_dict_4w,_ = construct_candidate_dict(transactions_4w)\n",
    "    purchase_dict_5w,_ = construct_candidate_dict(transactions_5w)\n",
    "    purchase_dict_6w,_ = construct_candidate_dict(transactions_6w)\n",
    "    purchase_dict_7w,_ = construct_candidate_dict(transactions_7w)\n",
    "    \n",
    "    pred_df = test_df[['customer_id']]\n",
    "    prediction_list = []\n",
    "    \n",
    "    for i, cust_id in enumerate(\n",
    "            test_df['customer_id'].values.reshape((-1,)),\n",
    "    ):\n",
    "        s = []\n",
    "        if cust_id in purchase_dict_1w:\n",
    "            l = sorted((purchase_dict_1w[cust_id]).items(), key=lambda x: x[1], reverse=True)\n",
    "            l = [y[0] for y in l]\n",
    "            if len(l)>12:\n",
    "                s += l[:12]\n",
    "            else:\n",
    "                s += l\n",
    "        if cust_id in purchase_dict_2w:\n",
    "            l = sorted((purchase_dict_2w[cust_id]).items(), key=lambda x: x[1], reverse=True)\n",
    "            l = [y[0] for y in l]\n",
    "            if len(l)>12:\n",
    "                s += l[:12]\n",
    "            else:\n",
    "                s += l\n",
    "        if cust_id in purchase_dict_3w:\n",
    "            l = sorted((purchase_dict_3w[cust_id]).items(), key=lambda x: x[1], reverse=True)\n",
    "            l = [y[0] for y in l]\n",
    "            if len(l)>12:\n",
    "                s += l[:12]\n",
    "            else:\n",
    "                s += l\n",
    "                \n",
    "        if cust_id in purchase_dict_4w:\n",
    "            l = sorted((purchase_dict_4w[cust_id]).items(), key=lambda x: x[1], reverse=True)\n",
    "            l = [y[0] for y in l]\n",
    "            if len(l)>12:\n",
    "                s += l[:12]\n",
    "            else:\n",
    "                s += l\n",
    "                \n",
    "        if cust_id in purchase_dict_5w:\n",
    "            l = sorted((purchase_dict_5w[cust_id]).items(), key=lambda x: x[1], reverse=True)\n",
    "            l = [y[0] for y in l]\n",
    "            if len(l)>12:\n",
    "                s += l[:12]\n",
    "            else:\n",
    "                s += l\n",
    "                \n",
    "        if cust_id in purchase_dict_6w:\n",
    "            l = sorted((purchase_dict_6w[cust_id]).items(), key=lambda x: x[1], reverse=True)\n",
    "            l = [y[0] for y in l]\n",
    "            if len(l)>12:\n",
    "                s += l[:12]\n",
    "            else:\n",
    "                s += l\n",
    "                \n",
    "        if cust_id in purchase_dict_7w:\n",
    "            l = sorted((purchase_dict_7w[cust_id]).items(), key=lambda x: x[1], reverse=True)\n",
    "            l = [y[0] for y in l]\n",
    "            if len(l)>12:\n",
    "                s += l[:12]\n",
    "            else:\n",
    "                s += l\n",
    "                \n",
    "        s += dummy_list_1w\n",
    "        s = s[:12]\n",
    "        prediction_list.append(s)\n",
    "    pred_df['prediction'] = prediction_list\n",
    "    return pred_df\n",
    "\n",
    "def construct_gt_df(test_transactions):\n",
    "    gt_df = test_transactions.to_pandas().groupby('customer_id')['article_id'].agg(lambda x: x.tolist()).reset_index()\n",
    "    gt_df.columns = ['customer_id','ground_truth']\n",
    "    return gt_df\n",
    "\n",
    "def evaluate_score(pred_df,gt_df,k=12,verbose=True,group_name='customer_id'):\n",
    "    from metric import mapk\n",
    "    eval_df = gt_df.merge(pred_df,on=group_name,how='left')\n",
    "    score = mapk(eval_df['ground_truth'].tolist(),eval_df['prediction'].tolist())\n",
    "    if verbose: print('map@'+str(k),score)\n",
    "    return score"
   ]
  },
  {
   "cell_type": "code",
   "execution_count": 50,
   "id": "06b79bed-7b19-44cc-8c8d-b3ae2e0c4247",
   "metadata": {},
   "outputs": [],
   "source": [
    "trn_start_time,trn_end_time='2020-06-01','2020-09-15'\n",
    "test_start_time,test_end_time='2020-09-15','2020-09-22'\n",
    "trn_transactions = transactions[(transactions.t_dat >= cudf.to_datetime(trn_start_time)) & (transactions.t_dat < cudf.to_datetime(trn_end_time))]\n",
    "test_transactions = transactions[(transactions.t_dat >= cudf.to_datetime(test_start_time)) & (transactions.t_dat < cudf.to_datetime(test_end_time))]"
   ]
  },
  {
   "cell_type": "code",
   "execution_count": 51,
   "id": "3e833dd5-df48-45de-a9d7-f47cef18396f",
   "metadata": {},
   "outputs": [],
   "source": [
    "gt_df = construct_gt_df(test_transactions)"
   ]
  },
  {
   "cell_type": "code",
   "execution_count": 52,
   "id": "8360cd08-af5f-4a68-8078-df470ffc3788",
   "metadata": {},
   "outputs": [],
   "source": [
    "test_df = pd.DataFrame()\n",
    "test_df['customer_id'] = test_transactions['customer_id'].unique().to_arrow().to_pylist()\n",
    "test_df = test_df.merge(customers[['customer_id','postal_code']].to_pandas(),on='customer_id',how='left')\n",
    "pred_df = construct_pred_df(test_df,trn_transactions.to_pandas())"
   ]
  },
  {
   "cell_type": "code",
   "execution_count": 53,
   "id": "de871abf-4529-4b6a-9ca1-b0693d2680af",
   "metadata": {},
   "outputs": [
    {
     "name": "stdout",
     "output_type": "stream",
     "text": [
      "map@12 0.024198494683208064\n"
     ]
    },
    {
     "data": {
      "text/plain": [
       "0.024198494683208064"
      ]
     },
     "execution_count": 53,
     "metadata": {},
     "output_type": "execute_result"
    }
   ],
   "source": [
    "evaluate_score(\n",
    "    pred_df,\n",
    "    gt_df,\n",
    ")"
   ]
  },
  {
   "cell_type": "markdown",
   "id": "597c0f04-a53c-4011-86c4-60bc0098eeff",
   "metadata": {},
   "source": [
    "****Submission****"
   ]
  },
  {
   "cell_type": "code",
   "execution_count": 36,
   "id": "2a076538-2833-4669-8be4-01698988adb6",
   "metadata": {},
   "outputs": [],
   "source": [
    "out_dir = 'storage/output/220320_candidate_generation/'"
   ]
  },
  {
   "cell_type": "code",
   "execution_count": 31,
   "id": "3148a036-614e-45ec-8b8f-4ea9b8602a51",
   "metadata": {},
   "outputs": [],
   "source": [
    "submission_df = pd.read_csv('storage/sample_submission.csv')\n",
    "pred_df = construct_pred_df(submission_df,transactions.to_pandas())"
   ]
  },
  {
   "cell_type": "code",
   "execution_count": 33,
   "id": "e0e398e6-c0de-49fd-a488-6f88f67056fd",
   "metadata": {},
   "outputs": [],
   "source": [
    "pred_df['prediction'] = pred_df['prediction'].apply(lambda x: ' '.join(['0'+str(i) for i in x]))"
   ]
  },
  {
   "cell_type": "code",
   "execution_count": 39,
   "id": "b394a6a5-7164-4956-82d8-52316405c787",
   "metadata": {},
   "outputs": [],
   "source": [
    "os.makedirs(out_dir,exist_ok=True)\n",
    "pred_df.to_csv(os.path.join(out_dir,'submission.csv'),index=False)"
   ]
  },
  {
   "cell_type": "code",
   "execution_count": 38,
   "id": "a663ba3b-68ec-44f0-a028-baebf4d9083d",
   "metadata": {},
   "outputs": [
    {
     "data": {
      "text/html": [
       "<div>\n",
       "<style scoped>\n",
       "    .dataframe tbody tr th:only-of-type {\n",
       "        vertical-align: middle;\n",
       "    }\n",
       "\n",
       "    .dataframe tbody tr th {\n",
       "        vertical-align: top;\n",
       "    }\n",
       "\n",
       "    .dataframe thead th {\n",
       "        text-align: right;\n",
       "    }\n",
       "</style>\n",
       "<table border=\"1\" class=\"dataframe\">\n",
       "  <thead>\n",
       "    <tr style=\"text-align: right;\">\n",
       "      <th></th>\n",
       "      <th>customer_id</th>\n",
       "      <th>prediction</th>\n",
       "    </tr>\n",
       "  </thead>\n",
       "  <tbody>\n",
       "    <tr>\n",
       "      <th>0</th>\n",
       "      <td>00000dbacae5abe5e23885899a1fa44253a17956c6d1c3...</td>\n",
       "      <td>0568601043 0924243001 0924243002 0918522001 09...</td>\n",
       "    </tr>\n",
       "    <tr>\n",
       "      <th>1</th>\n",
       "      <td>0000423b00ade91418cceaf3b26c6af3dd342b51fd051e...</td>\n",
       "      <td>0924243001 0924243002 0918522001 0923758001 08...</td>\n",
       "    </tr>\n",
       "    <tr>\n",
       "      <th>2</th>\n",
       "      <td>000058a12d5b43e67d225668fa1f8d618c13dc232df0ca...</td>\n",
       "      <td>0794321007 0924243001 0924243002 0918522001 09...</td>\n",
       "    </tr>\n",
       "    <tr>\n",
       "      <th>3</th>\n",
       "      <td>00005ca1c9ed5f5146b52ac8639a40ca9d57aeff4d1bd2...</td>\n",
       "      <td>0924243001 0924243002 0918522001 0923758001 08...</td>\n",
       "    </tr>\n",
       "    <tr>\n",
       "      <th>4</th>\n",
       "      <td>00006413d8573cd20ed7128e53b7b13819fe5cfc2d801f...</td>\n",
       "      <td>0924243001 0924243002 0918522001 0923758001 08...</td>\n",
       "    </tr>\n",
       "    <tr>\n",
       "      <th>...</th>\n",
       "      <td>...</td>\n",
       "      <td>...</td>\n",
       "    </tr>\n",
       "    <tr>\n",
       "      <th>1371975</th>\n",
       "      <td>ffffbbf78b6eaac697a8a5dfbfd2bfa8113ee5b403e474...</td>\n",
       "      <td>0713997002 0720125039 0740922009 0791587007 08...</td>\n",
       "    </tr>\n",
       "    <tr>\n",
       "      <th>1371976</th>\n",
       "      <td>ffffcd5046a6143d29a04fb8c424ce494a76e5cdf4fab5...</td>\n",
       "      <td>0924243001 0924243002 0918522001 0923758001 08...</td>\n",
       "    </tr>\n",
       "    <tr>\n",
       "      <th>1371977</th>\n",
       "      <td>ffffcf35913a0bee60e8741cb2b4e78b8a98ee5ff2e6a1...</td>\n",
       "      <td>0762846027 0689365050 0884081001 0794819001 09...</td>\n",
       "    </tr>\n",
       "    <tr>\n",
       "      <th>1371978</th>\n",
       "      <td>ffffd7744cebcf3aca44ae7049d2a94b87074c3d4ffe38...</td>\n",
       "      <td>0924243001 0924243002 0918522001 0923758001 08...</td>\n",
       "    </tr>\n",
       "    <tr>\n",
       "      <th>1371979</th>\n",
       "      <td>ffffd9ac14e89946416d80e791d064701994755c3ab686...</td>\n",
       "      <td>0924243001 0924243002 0918522001 0923758001 08...</td>\n",
       "    </tr>\n",
       "  </tbody>\n",
       "</table>\n",
       "<p>1371980 rows × 2 columns</p>\n",
       "</div>"
      ],
      "text/plain": [
       "                                               customer_id  \\\n",
       "0        00000dbacae5abe5e23885899a1fa44253a17956c6d1c3...   \n",
       "1        0000423b00ade91418cceaf3b26c6af3dd342b51fd051e...   \n",
       "2        000058a12d5b43e67d225668fa1f8d618c13dc232df0ca...   \n",
       "3        00005ca1c9ed5f5146b52ac8639a40ca9d57aeff4d1bd2...   \n",
       "4        00006413d8573cd20ed7128e53b7b13819fe5cfc2d801f...   \n",
       "...                                                    ...   \n",
       "1371975  ffffbbf78b6eaac697a8a5dfbfd2bfa8113ee5b403e474...   \n",
       "1371976  ffffcd5046a6143d29a04fb8c424ce494a76e5cdf4fab5...   \n",
       "1371977  ffffcf35913a0bee60e8741cb2b4e78b8a98ee5ff2e6a1...   \n",
       "1371978  ffffd7744cebcf3aca44ae7049d2a94b87074c3d4ffe38...   \n",
       "1371979  ffffd9ac14e89946416d80e791d064701994755c3ab686...   \n",
       "\n",
       "                                                prediction  \n",
       "0        0568601043 0924243001 0924243002 0918522001 09...  \n",
       "1        0924243001 0924243002 0918522001 0923758001 08...  \n",
       "2        0794321007 0924243001 0924243002 0918522001 09...  \n",
       "3        0924243001 0924243002 0918522001 0923758001 08...  \n",
       "4        0924243001 0924243002 0918522001 0923758001 08...  \n",
       "...                                                    ...  \n",
       "1371975  0713997002 0720125039 0740922009 0791587007 08...  \n",
       "1371976  0924243001 0924243002 0918522001 0923758001 08...  \n",
       "1371977  0762846027 0689365050 0884081001 0794819001 09...  \n",
       "1371978  0924243001 0924243002 0918522001 0923758001 08...  \n",
       "1371979  0924243001 0924243002 0918522001 0923758001 08...  \n",
       "\n",
       "[1371980 rows x 2 columns]"
      ]
     },
     "execution_count": 38,
     "metadata": {},
     "output_type": "execute_result"
    }
   ],
   "source": [
    "pred_df"
   ]
  },
  {
   "cell_type": "code",
   "execution_count": null,
   "id": "7a198232-885b-4d7f-afff-2106bc3de22d",
   "metadata": {},
   "outputs": [],
   "source": []
  }
 ],
 "metadata": {
  "kernelspec": {
   "display_name": "RAPIDSai-21.12",
   "language": "python",
   "name": "rapidsai-21.12"
  },
  "language_info": {
   "codemirror_mode": {
    "name": "ipython",
    "version": 3
   },
   "file_extension": ".py",
   "mimetype": "text/x-python",
   "name": "python",
   "nbconvert_exporter": "python",
   "pygments_lexer": "ipython3",
   "version": "3.8.12"
  }
 },
 "nbformat": 4,
 "nbformat_minor": 5
}
