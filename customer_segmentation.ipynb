{
 "cells": [
  {
   "cell_type": "code",
   "execution_count": 1,
   "id": "e2fe3af2-8542-4911-ba45-7284630af3a4",
   "metadata": {},
   "outputs": [],
   "source": [
    "import cudf\n",
    "import matplotlib.pyplot as plt\n",
    "import numpy as np\n",
    "import pandas as pd\n",
    "from tqdm import tqdm"
   ]
  },
  {
   "cell_type": "markdown",
   "id": "81b5aa68-8234-406a-a2eb-2b5bc0d6b770",
   "metadata": {},
   "source": [
    "****Prepare Dataset****"
   ]
  },
  {
   "cell_type": "code",
   "execution_count": 2,
   "id": "27b6ed98-310b-4ffa-bca7-1f6fe6aee85f",
   "metadata": {},
   "outputs": [
    {
     "name": "stdout",
     "output_type": "stream",
     "text": [
      "CPU times: user 1.2 s, sys: 1.75 s, total: 2.94 s\n",
      "Wall time: 6.98 s\n"
     ]
    }
   ],
   "source": [
    "%%time \n",
    "transactions = cudf.read_csv('storage/transactions_train.csv')\n",
    "articles = cudf.read_csv('storage/articles.csv')\n",
    "customers = cudf.read_csv('storage/customers.csv')"
   ]
  },
  {
   "cell_type": "code",
   "execution_count": 3,
   "id": "15f36cad-14b5-4341-930f-cc3a54cdb5c2",
   "metadata": {},
   "outputs": [
    {
     "data": {
      "text/html": [
       "<div>\n",
       "<style scoped>\n",
       "    .dataframe tbody tr th:only-of-type {\n",
       "        vertical-align: middle;\n",
       "    }\n",
       "\n",
       "    .dataframe tbody tr th {\n",
       "        vertical-align: top;\n",
       "    }\n",
       "\n",
       "    .dataframe thead th {\n",
       "        text-align: right;\n",
       "    }\n",
       "</style>\n",
       "<table border=\"1\" class=\"dataframe\">\n",
       "  <thead>\n",
       "    <tr style=\"text-align: right;\">\n",
       "      <th></th>\n",
       "      <th>t_dat</th>\n",
       "      <th>customer_id</th>\n",
       "      <th>article_id</th>\n",
       "      <th>price</th>\n",
       "      <th>sales_channel_id</th>\n",
       "    </tr>\n",
       "  </thead>\n",
       "  <tbody>\n",
       "    <tr>\n",
       "      <th>0</th>\n",
       "      <td>2018-09-20</td>\n",
       "      <td>000058a12d5b43e67d225668fa1f8d618c13dc232df0ca...</td>\n",
       "      <td>663713001</td>\n",
       "      <td>0.050831</td>\n",
       "      <td>2</td>\n",
       "    </tr>\n",
       "    <tr>\n",
       "      <th>1</th>\n",
       "      <td>2018-09-20</td>\n",
       "      <td>000058a12d5b43e67d225668fa1f8d618c13dc232df0ca...</td>\n",
       "      <td>541518023</td>\n",
       "      <td>0.030492</td>\n",
       "      <td>2</td>\n",
       "    </tr>\n",
       "    <tr>\n",
       "      <th>2</th>\n",
       "      <td>2018-09-20</td>\n",
       "      <td>00007d2de826758b65a93dd24ce629ed66842531df6699...</td>\n",
       "      <td>505221004</td>\n",
       "      <td>0.015237</td>\n",
       "      <td>2</td>\n",
       "    </tr>\n",
       "    <tr>\n",
       "      <th>3</th>\n",
       "      <td>2018-09-20</td>\n",
       "      <td>00007d2de826758b65a93dd24ce629ed66842531df6699...</td>\n",
       "      <td>685687003</td>\n",
       "      <td>0.016932</td>\n",
       "      <td>2</td>\n",
       "    </tr>\n",
       "    <tr>\n",
       "      <th>4</th>\n",
       "      <td>2018-09-20</td>\n",
       "      <td>00007d2de826758b65a93dd24ce629ed66842531df6699...</td>\n",
       "      <td>685687004</td>\n",
       "      <td>0.016932</td>\n",
       "      <td>2</td>\n",
       "    </tr>\n",
       "    <tr>\n",
       "      <th>...</th>\n",
       "      <td>...</td>\n",
       "      <td>...</td>\n",
       "      <td>...</td>\n",
       "      <td>...</td>\n",
       "      <td>...</td>\n",
       "    </tr>\n",
       "    <tr>\n",
       "      <th>31788319</th>\n",
       "      <td>2020-09-22</td>\n",
       "      <td>fff2282977442e327b45d8c89afde25617d00124d0f999...</td>\n",
       "      <td>929511001</td>\n",
       "      <td>0.059305</td>\n",
       "      <td>2</td>\n",
       "    </tr>\n",
       "    <tr>\n",
       "      <th>31788320</th>\n",
       "      <td>2020-09-22</td>\n",
       "      <td>fff2282977442e327b45d8c89afde25617d00124d0f999...</td>\n",
       "      <td>891322004</td>\n",
       "      <td>0.042356</td>\n",
       "      <td>2</td>\n",
       "    </tr>\n",
       "    <tr>\n",
       "      <th>31788321</th>\n",
       "      <td>2020-09-22</td>\n",
       "      <td>fff380805474b287b05cb2a7507b9a013482f7dd0bce0e...</td>\n",
       "      <td>918325001</td>\n",
       "      <td>0.043203</td>\n",
       "      <td>1</td>\n",
       "    </tr>\n",
       "    <tr>\n",
       "      <th>31788322</th>\n",
       "      <td>2020-09-22</td>\n",
       "      <td>fff4d3a8b1f3b60af93e78c30a7cb4cf75edaf2590d3e5...</td>\n",
       "      <td>833459002</td>\n",
       "      <td>0.006763</td>\n",
       "      <td>1</td>\n",
       "    </tr>\n",
       "    <tr>\n",
       "      <th>31788323</th>\n",
       "      <td>2020-09-22</td>\n",
       "      <td>fffef3b6b73545df065b521e19f64bf6fe93bfd450ab20...</td>\n",
       "      <td>898573003</td>\n",
       "      <td>0.033881</td>\n",
       "      <td>2</td>\n",
       "    </tr>\n",
       "  </tbody>\n",
       "</table>\n",
       "<p>31788324 rows × 5 columns</p>\n",
       "</div>"
      ],
      "text/plain": [
       "              t_dat                                        customer_id  \\\n",
       "0        2018-09-20  000058a12d5b43e67d225668fa1f8d618c13dc232df0ca...   \n",
       "1        2018-09-20  000058a12d5b43e67d225668fa1f8d618c13dc232df0ca...   \n",
       "2        2018-09-20  00007d2de826758b65a93dd24ce629ed66842531df6699...   \n",
       "3        2018-09-20  00007d2de826758b65a93dd24ce629ed66842531df6699...   \n",
       "4        2018-09-20  00007d2de826758b65a93dd24ce629ed66842531df6699...   \n",
       "...             ...                                                ...   \n",
       "31788319 2020-09-22  fff2282977442e327b45d8c89afde25617d00124d0f999...   \n",
       "31788320 2020-09-22  fff2282977442e327b45d8c89afde25617d00124d0f999...   \n",
       "31788321 2020-09-22  fff380805474b287b05cb2a7507b9a013482f7dd0bce0e...   \n",
       "31788322 2020-09-22  fff4d3a8b1f3b60af93e78c30a7cb4cf75edaf2590d3e5...   \n",
       "31788323 2020-09-22  fffef3b6b73545df065b521e19f64bf6fe93bfd450ab20...   \n",
       "\n",
       "          article_id     price  sales_channel_id  \n",
       "0          663713001  0.050831                 2  \n",
       "1          541518023  0.030492                 2  \n",
       "2          505221004  0.015237                 2  \n",
       "3          685687003  0.016932                 2  \n",
       "4          685687004  0.016932                 2  \n",
       "...              ...       ...               ...  \n",
       "31788319   929511001  0.059305                 2  \n",
       "31788320   891322004  0.042356                 2  \n",
       "31788321   918325001  0.043203                 1  \n",
       "31788322   833459002  0.006763                 1  \n",
       "31788323   898573003  0.033881                 2  \n",
       "\n",
       "[31788324 rows x 5 columns]"
      ]
     },
     "execution_count": 3,
     "metadata": {},
     "output_type": "execute_result"
    }
   ],
   "source": [
    "transactions['t_dat'] = cudf.to_datetime(transactions['t_dat'])\n",
    "transactions"
   ]
  },
  {
   "cell_type": "markdown",
   "id": "fa2512c4-f227-442d-bc89-869c2ee52ad1",
   "metadata": {},
   "source": [
    "****Maximum duration between customers****"
   ]
  },
  {
   "cell_type": "code",
   "execution_count": 5,
   "id": "b023b001-77b0-44c7-9ec5-47387f0e2776",
   "metadata": {},
   "outputs": [
    {
     "name": "stdout",
     "output_type": "stream",
     "text": [
      "CPU times: user 3.83 ms, sys: 1.94 ms, total: 5.77 ms\n",
      "Wall time: 5.16 ms\n"
     ]
    }
   ],
   "source": [
    "%%time\n",
    "transactions['t_dat'] = cudf.to_datetime(transactions['t_dat'])\n",
    "transactions['days'] = transactions['t_dat'] - transactions['t_dat'].min()\n",
    "transactions['days'] = transactions['days'].dt.days"
   ]
  },
  {
   "cell_type": "code",
   "execution_count": 38,
   "id": "4498217b-20a3-48ba-aefc-4c43df7ce4a6",
   "metadata": {},
   "outputs": [
    {
     "name": "stdout",
     "output_type": "stream",
     "text": [
      "CPU times: user 981 ms, sys: 494 ms, total: 1.47 s\n",
      "Wall time: 1.47 s\n"
     ]
    }
   ],
   "source": [
    "%%time\n",
    "tmp = transactions.groupby('customer_id')['days'].unique().to_pandas()"
   ]
  },
  {
   "cell_type": "code",
   "execution_count": 94,
   "id": "61b4d48b-4b63-4d30-a64c-a097ab2f3281",
   "metadata": {},
   "outputs": [],
   "source": [
    "max_duration_between_purchase = tmp.apply(lambda x: np.diff(x).max() if len(x) > 1 else 0)\n",
    "min_duration_between_purchase = tmp.apply(lambda x: np.diff(x).min() if len(x) > 1 else 0)"
   ]
  },
  {
   "cell_type": "code",
   "execution_count": 52,
   "id": "028a4ed8-ea67-40b4-a2e8-84d124e0d35a",
   "metadata": {},
   "outputs": [
    {
     "data": {
      "image/png": "[encoded data removed]",
      "text/plain": [
       "<Figure size 432x288 with 1 Axes>"
      ]
     },
     "metadata": {
      "needs_background": "light"
     },
     "output_type": "display_data"
    }
   ],
   "source": [
    "_ = plt.hist(max_duration_between_purchase,bins=50,range=(-0.5,49.5))"
   ]
  },
  {
   "cell_type": "code",
   "execution_count": 95,
   "id": "ed9b0929-4d13-47db-add0-c8172971b593",
   "metadata": {},
   "outputs": [
    {
     "data": {
      "image/png": "[encoded data removed]",
      "text/plain": [
       "<Figure size 432x288 with 1 Axes>"
      ]
     },
     "metadata": {
      "needs_background": "light"
     },
     "output_type": "display_data"
    }
   ],
   "source": [
    "_ = plt.hist(min_duration_between_purchase,bins=50,range=(-0.5,49.5))"
   ]
  },
  {
   "cell_type": "markdown",
   "id": "ccd4c374-68e7-4ab1-b26e-74a30a5e10f4",
   "metadata": {},
   "source": [
    "****Number of purchase for each customer****"
   ]
  },
  {
   "cell_type": "code",
   "execution_count": 61,
   "id": "167581f0-b2ba-4387-a7f5-517b9310160c",
   "metadata": {},
   "outputs": [],
   "source": [
    "number_of_purchase = transactions.groupby('customer_id')['article_id'].count().to_pandas()"
   ]
  },
  {
   "cell_type": "code",
   "execution_count": 62,
   "id": "0bdfbc7a-63fe-43bd-abd9-d5ba2a019a17",
   "metadata": {},
   "outputs": [
    {
     "data": {
      "image/png": "[encoded data removed]",
      "text/plain": [
       "<Figure size 432x288 with 1 Axes>"
      ]
     },
     "metadata": {
      "needs_background": "light"
     },
     "output_type": "display_data"
    }
   ],
   "source": [
    "_ = plt.hist(number_of_purchase,bins=50,range=(-0.5,49.5))"
   ]
  },
  {
   "cell_type": "markdown",
   "id": "3737e2e7-b54e-45fc-9275-b079f2ab8017",
   "metadata": {},
   "source": [
    "****Mean number of purchase vs max duration between purchase****"
   ]
  },
  {
   "cell_type": "code",
   "execution_count": 89,
   "id": "1214f2e0-f155-41ee-aafe-cabb3d03b915",
   "metadata": {},
   "outputs": [],
   "source": [
    "plt_df = max_duration_between_purchase.to_frame().merge(number_of_purchase.to_frame(),on='customer_id',how='left')"
   ]
  },
  {
   "cell_type": "code",
   "execution_count": 90,
   "id": "b2f8e3b1-1b7c-4e4c-b694-db2b55089cee",
   "metadata": {},
   "outputs": [
    {
     "data": {
      "text/plain": [
       "[<matplotlib.lines.Line2D at 0x2b3e7ae609d0>]"
      ]
     },
     "execution_count": 90,
     "metadata": {},
     "output_type": "execute_result"
    },
    {
     "data": {
      "image/png": "[encoded data removed]",
      "text/plain": [
       "<Figure size 432x288 with 1 Axes>"
      ]
     },
     "metadata": {
      "needs_background": "light"
     },
     "output_type": "display_data"
    }
   ],
   "source": [
    "plt.plot(np.sort(plt_df['days'].unique()),plt_df.groupby('days')['article_id'].mean())"
   ]
  },
  {
   "cell_type": "markdown",
   "id": "e2960ea2-25c3-46b5-8258-66c03f262d05",
   "metadata": {},
   "source": [
    "****Mean number of purchase vs max duration between purchase****"
   ]
  },
  {
   "cell_type": "code",
   "execution_count": 96,
   "id": "a67bf305-9b82-42b6-a766-d93aae5b2a5e",
   "metadata": {},
   "outputs": [],
   "source": [
    "plt_df = min_duration_between_purchase.to_frame().merge(number_of_purchase.to_frame(),on='customer_id',how='left')"
   ]
  },
  {
   "cell_type": "code",
   "execution_count": 97,
   "id": "05cafec2-8831-47fd-a3cd-7f5c4d451db6",
   "metadata": {},
   "outputs": [
    {
     "data": {
      "text/plain": [
       "[<matplotlib.lines.Line2D at 0x2b3e7af98f40>]"
      ]
     },
     "execution_count": 97,
     "metadata": {},
     "output_type": "execute_result"
    },
    {
     "data": {
      "image/png": "[encoded data removed]",
      "text/plain": [
       "<Figure size 432x288 with 1 Axes>"
      ]
     },
     "metadata": {
      "needs_background": "light"
     },
     "output_type": "display_data"
    }
   ],
   "source": [
    "plt.plot(np.sort(plt_df['days'].unique()),plt_df.groupby('days')['article_id'].mean())"
   ]
  },
  {
   "cell_type": "markdown",
   "id": "edc2e90f-1696-44f2-b81f-00d9232cd233",
   "metadata": {},
   "source": [
    "****Total number of purchase vs max duration between purchase****"
   ]
  },
  {
   "cell_type": "code",
   "execution_count": 100,
   "id": "6d6e7213-a3fb-4caf-b51e-089d4fb64e22",
   "metadata": {},
   "outputs": [],
   "source": [
    "plt_df = max_duration_between_purchase.to_frame().merge(number_of_purchase.to_frame(),on='customer_id',how='left')"
   ]
  },
  {
   "cell_type": "code",
   "execution_count": 101,
   "id": "0201eaf3-7b3b-4a93-828f-fc2873c0ac63",
   "metadata": {},
   "outputs": [
    {
     "data": {
      "text/plain": [
       "[<matplotlib.lines.Line2D at 0x2b3e7b063370>]"
      ]
     },
     "execution_count": 101,
     "metadata": {},
     "output_type": "execute_result"
    },
    {
     "data": {
      "image/png": "[encoded data removed]",
      "text/plain": [
       "<Figure size 432x288 with 1 Axes>"
      ]
     },
     "metadata": {
      "needs_background": "light"
     },
     "output_type": "display_data"
    }
   ],
   "source": [
    "_ = plt.plot(np.sort(plt_df['days'].unique()),plt_df.groupby('days')['article_id'].sum())"
   ]
  },
  {
   "cell_type": "markdown",
   "id": "9a40964c-1b68-4131-9342-f5e0410d7a91",
   "metadata": {},
   "source": [
    "****Mean number of activity vs max duration between purchase****"
   ]
  },
  {
   "cell_type": "code",
   "execution_count": 107,
   "id": "48f4135b-044a-4a4a-a931-111610f69ec8",
   "metadata": {},
   "outputs": [],
   "source": [
    "number_of_activity = transactions.groupby('customer_id')['t_dat'].unique().to_pandas()\n",
    "number_of_activity = number_of_activity.apply(len)"
   ]
  },
  {
   "cell_type": "code",
   "execution_count": 109,
   "id": "6843a5cd-776a-487a-94e1-80a710f18722",
   "metadata": {},
   "outputs": [],
   "source": [
    "plt_df = max_duration_between_purchase.to_frame().merge(number_of_activity.to_frame(),on='customer_id',how='left')"
   ]
  },
  {
   "cell_type": "code",
   "execution_count": 114,
   "id": "cbad4124-5a37-4a0c-999b-f04ffff32ba1",
   "metadata": {},
   "outputs": [
    {
     "data": {
      "image/png": "[encoded data removed]",
      "text/plain": [
       "<Figure size 432x288 with 1 Axes>"
      ]
     },
     "metadata": {
      "needs_background": "light"
     },
     "output_type": "display_data"
    }
   ],
   "source": [
    "_ = plt.plot(np.sort(plt_df['days'].unique()),plt_df.groupby('days')['t_dat'].mean())"
   ]
  },
  {
   "cell_type": "markdown",
   "id": "da8f83ae-bf78-439d-9a9b-741cfafd86e3",
   "metadata": {},
   "source": [
    "****Total number of activity vs max duration between purchase****"
   ]
  },
  {
   "cell_type": "code",
   "execution_count": 122,
   "id": "e8d16add-aceb-41c1-8411-49052d485079",
   "metadata": {},
   "outputs": [
    {
     "data": {
      "image/png": "[encoded data removed]",
      "text/plain": [
       "<Figure size 432x288 with 1 Axes>"
      ]
     },
     "metadata": {
      "needs_background": "light"
     },
     "output_type": "display_data"
    }
   ],
   "source": [
    "_ = plt.plot(np.sort(plt_df['days'].unique()),plt_df.groupby('days')['t_dat'].sum())"
   ]
  },
  {
   "cell_type": "code",
   "execution_count": 149,
   "id": "4a886f7d-be73-4829-b6a7-445146de86ff",
   "metadata": {},
   "outputs": [
    {
     "data": {
      "image/png": "[encoded data removed]",
      "text/plain": [
       "<Figure size 432x288 with 1 Axes>"
      ]
     },
     "metadata": {
      "needs_background": "light"
     },
     "output_type": "display_data"
    }
   ],
   "source": [
    "_ = plt.hist(plt_df[plt_df['t_dat']==2]['days'],bins=50,range=(-0.5,49.5))"
   ]
  },
  {
   "cell_type": "markdown",
   "id": "ffbfd7e1-1f35-4c10-87ad-8a6de6e4c7af",
   "metadata": {},
   "source": [
    "****Customer overlap****"
   ]
  },
  {
   "cell_type": "code",
   "execution_count": 12,
   "id": "9fdcca6c-b4c5-4977-b64a-25e1f977b49b",
   "metadata": {},
   "outputs": [],
   "source": [
    "test_transactions = transactions[(transactions.t_dat>cudf.to_datetime('2019-09-07'))&(transactions.t_dat<=cudf.to_datetime('2019-09-15'))].to_pandas()\n",
    "tmp2 = test_transactions['customer_id'].unique().tolist()"
   ]
  },
  {
   "cell_type": "code",
   "execution_count": 13,
   "id": "ce177a1e-2400-46b6-a001-b2b578dbbc68",
   "metadata": {},
   "outputs": [],
   "source": [
    "test_transactions = transactions[(transactions.t_dat>cudf.to_datetime('2019-09-15'))&(transactions.t_dat<=cudf.to_datetime('2019-09-22'))].to_pandas()\n",
    "tmp1 = test_transactions['customer_id'].unique().tolist()"
   ]
  },
  {
   "cell_type": "code",
   "execution_count": 14,
   "id": "aa5843c5-8803-4218-8e14-824ba6cdd137",
   "metadata": {},
   "outputs": [
    {
     "data": {
      "text/plain": [
       "(64877, 75286)"
      ]
     },
     "execution_count": 14,
     "metadata": {},
     "output_type": "execute_result"
    }
   ],
   "source": [
    "len(tmp1),len(tmp2)"
   ]
  },
  {
   "cell_type": "code",
   "execution_count": 15,
   "id": "c97bd502-05a0-4aad-886f-332a641d7d19",
   "metadata": {},
   "outputs": [],
   "source": [
    "tmp3 = list(set(tmp2).intersection(tmp1))"
   ]
  },
  {
   "cell_type": "code",
   "execution_count": 16,
   "id": "21a01448-9640-4d49-afc5-acfcd426ecd5",
   "metadata": {},
   "outputs": [
    {
     "data": {
      "text/plain": [
       "(0.19581669929250736, 0.16874319262545492)"
      ]
     },
     "execution_count": 16,
     "metadata": {},
     "output_type": "execute_result"
    }
   ],
   "source": [
    "len(tmp3) / len(tmp1) , len(tmp3) / len(tmp2) "
   ]
  },
  {
   "cell_type": "code",
   "execution_count": null,
   "id": "f335c61f-a2e6-4551-a789-6e9a3da1e9b3",
   "metadata": {},
   "outputs": [],
   "source": []
  }
 ],
 "metadata": {
  "kernelspec": {
   "display_name": "RAPIDSai-21.12",
   "language": "python",
   "name": "rapidsai-21.12"
  },
  "language_info": {
   "codemirror_mode": {
    "name": "ipython",
    "version": 3
   },
   "file_extension": ".py",
   "mimetype": "text/x-python",
   "name": "python",
   "nbconvert_exporter": "python",
   "pygments_lexer": "ipython3",
   "version": "3.8.12"
  }
 },
 "nbformat": 4,
 "nbformat_minor": 5
}
