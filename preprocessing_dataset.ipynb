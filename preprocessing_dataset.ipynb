{
 "cells": [
  {
   "cell_type": "code",
   "execution_count": 1,
   "id": "annoying-attitude",
   "metadata": {},
   "outputs": [],
   "source": [
    "import glob\n",
    "import os"
   ]
  },
  {
   "cell_type": "code",
   "execution_count": 2,
   "id": "a26972cd-cabe-4a61-ab7a-74eaa7da674d",
   "metadata": {},
   "outputs": [],
   "source": [
    "use_gpu = False\n",
    "import cudf\n",
    "import pandas as pd"
   ]
  },
  {
   "cell_type": "code",
   "execution_count": 3,
   "id": "matched-quarter",
   "metadata": {},
   "outputs": [],
   "source": [
    "out_dir = 'storage/dataset/220311_baseline/'\n",
    "topk = 100"
   ]
  },
  {
   "cell_type": "markdown",
   "id": "adjusted-olympus",
   "metadata": {},
   "source": [
    "****Input dataset****"
   ]
  },
  {
   "cell_type": "code",
   "execution_count": 4,
   "id": "taken-burns",
   "metadata": {},
   "outputs": [
    {
     "name": "stdout",
     "output_type": "stream",
     "text": [
      "CPU times: user 1.12 s, sys: 1.32 s, total: 2.43 s\n",
      "Wall time: 2.52 s\n"
     ]
    }
   ],
   "source": [
    "%%time\n",
    "transactions = cudf.read_csv('storage/transactions_train.csv')\n",
    "articles = cudf.read_csv('storage/articles.csv')\n",
    "customers = cudf.read_csv('storage/customers.csv')"
   ]
  },
  {
   "cell_type": "code",
   "execution_count": 5,
   "id": "adjusted-daughter",
   "metadata": {},
   "outputs": [
    {
     "name": "stdout",
     "output_type": "stream",
     "text": [
      "CPU times: user 17.8 ms, sys: 31.4 ms, total: 49.2 ms\n",
      "Wall time: 63.6 ms\n"
     ]
    }
   ],
   "source": [
    "%%time\n",
    "from utils import train_test_split\n",
    "trn_transactions,val_transactions = train_test_split(transactions,gpu=True)"
   ]
  },
  {
   "cell_type": "code",
   "execution_count": 6,
   "id": "motivated-wound",
   "metadata": {},
   "outputs": [
    {
     "name": "stdout",
     "output_type": "stream",
     "text": [
      "CPU times: user 4.45 ms, sys: 9.29 ms, total: 13.7 ms\n",
      "Wall time: 17.2 ms\n"
     ]
    }
   ],
   "source": [
    "%%time\n",
    "trn_transactions = trn_transactions[trn_transactions['t_dat'] > pd.to_datetime('2020-08-01')]"
   ]
  },
  {
   "cell_type": "code",
   "execution_count": 7,
   "id": "d800317a-5d93-46f9-9fa5-5ffc6f327d7d",
   "metadata": {},
   "outputs": [
    {
     "name": "stdout",
     "output_type": "stream",
     "text": [
      "CPU times: user 952 ms, sys: 271 ms, total: 1.22 s\n",
      "Wall time: 2.14 s\n"
     ]
    }
   ],
   "source": [
    "%%time\n",
    "trn_transactions = trn_transactions.to_pandas()\n",
    "val_transactions = val_transactions.to_pandas()\n",
    "articles = articles.to_pandas()\n",
    "customers = customers.to_pandas()"
   ]
  },
  {
   "cell_type": "markdown",
   "id": "binding-elephant",
   "metadata": {},
   "source": [
    "****Construct customer and article feature dataframe****"
   ]
  },
  {
   "cell_type": "code",
   "execution_count": 8,
   "id": "lasting-satisfaction",
   "metadata": {},
   "outputs": [],
   "source": [
    "def merge_customer_article_feature_df(df,articles,art_cust_features,art_cust_dir):\n",
    "    for feature in art_cust_features:\n",
    "        tmp = pd.read_csv(os.path.join(art_cust_dir+feature+'_countvec.csv'),index_col=None)\n",
    "        tmp = tmp[['customer_id',feature,feature+'_countvec']]\n",
    "        df = df.merge(articles[['article_id',feature]],on='article_id',how='left')\n",
    "        df = df.merge(tmp,on=['customer_id',feature],how='left')\n",
    "    return df\n",
    "\n",
    "def make_pos_df(trn_transactions,articles,art_cust_features,art_cust_dir):\n",
    "    trn_df = trn_transactions[['customer_id','article_id']]\n",
    "    trn_df = merge_customer_article_feature_df(trn_df,articles,art_cust_features,art_cust_dir)\n",
    "    trn_df = trn_df[['customer_id','article_id']+[f+'_countvec' for f in art_cust_features]]\n",
    "    trn_df['label'] = 1\n",
    "    return trn_df\n",
    "\n",
    "def make_neg_df(trn_transactions,articles,art_cust_features,art_cust_dir):\n",
    "    trn_df = trn_transactions[['customer_id','article_id']].reset_index().drop(columns=['index'])\n",
    "    trn_df['customer_id'] = trn_df['customer_id'].sample(frac=1.).to_frame().reset_index().drop(columns=['index'])\n",
    "    trn_df = merge_customer_article_feature_df(trn_df,articles,art_cust_features,art_cust_dir)\n",
    "    trn_df = trn_df[['customer_id','article_id']+[f+'_countvec' for f in art_cust_features]]\n",
    "    trn_df.fillna(0.,inplace=True)\n",
    "    trn_df['label'] = 0\n",
    "    return trn_df\n",
    "\n",
    "def make_trn_df(trn_transactions,articles,art_cust_features,art_cust_dir):\n",
    "    pos_df = make_pos_df(trn_transactions,articles,art_cust_features,art_cust_dir)\n",
    "    neg_df = make_neg_df(trn_transactions,articles,art_cust_features,art_cust_dir)\n",
    "    return pd.concat([pos_df,neg_df])\n",
    "\n",
    "def agg_items(x,topk):\n",
    "    s = set(x)\n",
    "    pos = x\n",
    "    neg = [i for i in topk if i not in s]\n",
    "    return pos+neg,len(pos)*[1.]+len(neg)*[0.]\n",
    "\n",
    "def make_val_df(val_transactions,trn_transactions,articles,art_cust_features,art_cust_dir,k=500):\n",
    "    topk = trn_transactions['article_id'].value_counts()[:k].index.tolist()\n",
    "    val_df = val_transactions.groupby('customer_id')['article_id'].agg(lambda x: agg_items(x.tolist(),topk)).to_frame().reset_index()\n",
    "    val_df = val_df.rename(columns={'article_id':'items'})\n",
    "    val_df['article_id'] = val_df['items'].apply(lambda x: x[0])\n",
    "    val_df['label'] = val_df['items'].apply(lambda x: x[1])\n",
    "    val_df = val_df.explode(['article_id','label'])\n",
    "    val_df = merge_customer_article_feature_df(val_df,articles,art_cust_features,art_cust_dir)\n",
    "    val_df = val_df[['customer_id','article_id','label']+[f+'_countvec' for f in art_cust_features]]\n",
    "    val_df.fillna(0.,inplace=True)\n",
    "    return val_df\n",
    "\n",
    "def make_test_df(val_transactions,trn_transactions,articles,art_cust_features,art_cust_dir,k=500):\n",
    "    topk = trn_transactions['article_id'].value_counts()[:k].index.tolist()\n",
    "    val_df = trn_transactions[['customer_id','article_id']].groupby('customer_id')['article_id'].agg(lambda x: x.tolist()+topk).reset_index()\n",
    "    val_df = val_df.explode(['article_id'])\n",
    "    val_df = merge_customer_article_feature_df(val_df,articles,art_cust_features,art_cust_dir)\n",
    "    val_df = val_df[['customer_id','article_id']+[f+'_countvec' for f in art_cust_features]]\n",
    "    val_df.fillna(0.,inplace=True)\n",
    "    return val_df\n",
    "\n",
    "def make_gt_df(val_transactions):\n",
    "    gt_df = val_transactions.groupby('customer_id')['article_id'].agg(lambda x: x.tolist()).reset_index()\n",
    "    gt_df.columns = ['customer_id','ground_truth']\n",
    "    return gt_df"
   ]
  },
  {
   "cell_type": "code",
   "execution_count": 9,
   "id": "taken-utilization",
   "metadata": {},
   "outputs": [],
   "source": [
    "art_cust_dir = 'storage/preprocessing/220308_baseline/'\n",
    "art_cust_features = [\n",
    "    'product_group_name', 'product_type_name', \n",
    "    'graphical_appearance_name', 'perceived_colour_value_name', 'colour_group_code', \n",
    "    'index_group_name', \n",
    "    'department_name',\n",
    "]"
   ]
  },
  {
   "cell_type": "code",
   "execution_count": 10,
   "id": "breathing-beads",
   "metadata": {},
   "outputs": [
    {
     "name": "stdout",
     "output_type": "stream",
     "text": [
      "CPU times: user 24.4 s, sys: 1.81 s, total: 26.2 s\n",
      "Wall time: 27 s\n"
     ]
    }
   ],
   "source": [
    "%%time\n",
    "trn_df = make_trn_df(trn_transactions,articles,art_cust_features,art_cust_dir)"
   ]
  },
  {
   "cell_type": "code",
   "execution_count": 11,
   "id": "powered-energy",
   "metadata": {},
   "outputs": [
    {
     "name": "stdout",
     "output_type": "stream",
     "text": [
      "CPU times: user 34.4 s, sys: 12.6 s, total: 46.9 s\n",
      "Wall time: 46.9 s\n"
     ]
    }
   ],
   "source": [
    "%%time\n",
    "val_df = make_val_df(val_transactions,trn_transactions,articles,art_cust_features,art_cust_dir,k=topk)"
   ]
  },
  {
   "cell_type": "code",
   "execution_count": 12,
   "id": "growing-pocket",
   "metadata": {},
   "outputs": [
    {
     "name": "stdout",
     "output_type": "stream",
     "text": [
      "CPU times: user 2min 2s, sys: 55 s, total: 2min 57s\n",
      "Wall time: 2min 57s\n"
     ]
    }
   ],
   "source": [
    "%%time\n",
    "test_df = make_test_df(val_transactions,trn_transactions,articles,art_cust_features,art_cust_dir,k=topk)"
   ]
  },
  {
   "cell_type": "code",
   "execution_count": 13,
   "id": "union-telescope",
   "metadata": {},
   "outputs": [
    {
     "name": "stdout",
     "output_type": "stream",
     "text": [
      "CPU times: user 298 ms, sys: 4.05 ms, total: 302 ms\n",
      "Wall time: 301 ms\n"
     ]
    }
   ],
   "source": [
    "%%time\n",
    "gt_df = make_gt_df(val_transactions)"
   ]
  },
  {
   "cell_type": "markdown",
   "id": "dense-arrangement",
   "metadata": {},
   "source": [
    "****Construct repeated purchase features****"
   ]
  },
  {
   "cell_type": "code",
   "execution_count": 14,
   "id": "suffering-webcam",
   "metadata": {},
   "outputs": [],
   "source": [
    "input_dir = 'storage/preprocessing/220308_baseline/'"
   ]
  },
  {
   "cell_type": "code",
   "execution_count": 15,
   "id": "subtle-information",
   "metadata": {},
   "outputs": [],
   "source": [
    "feature = 'repeated_purchase_prob'\n",
    "repeated_purchase_df = pd.read_csv(os.path.join(input_dir,feature+'.csv')).rename(columns={'count':'repeated_purchase_prob'})"
   ]
  },
  {
   "cell_type": "code",
   "execution_count": 16,
   "id": "silent-double",
   "metadata": {},
   "outputs": [
    {
     "name": "stdout",
     "output_type": "stream",
     "text": [
      "CPU times: user 2.17 s, sys: 498 ms, total: 2.66 s\n",
      "Wall time: 2.66 s\n"
     ]
    }
   ],
   "source": [
    "%%time\n",
    "trn_df = trn_df.merge(repeated_purchase_df,on=['customer_id','article_id'],how='left').fillna(0.)"
   ]
  },
  {
   "cell_type": "code",
   "execution_count": 17,
   "id": "described-illness",
   "metadata": {},
   "outputs": [
    {
     "name": "stdout",
     "output_type": "stream",
     "text": [
      "CPU times: user 2.82 s, sys: 1.12 s, total: 3.94 s\n",
      "Wall time: 3.94 s\n"
     ]
    }
   ],
   "source": [
    "%%time\n",
    "val_df = val_df.merge(repeated_purchase_df,on=['customer_id','article_id'],how='left').fillna(0.)"
   ]
  },
  {
   "cell_type": "code",
   "execution_count": 18,
   "id": "confidential-newport",
   "metadata": {},
   "outputs": [
    {
     "name": "stdout",
     "output_type": "stream",
     "text": [
      "CPU times: user 9.49 s, sys: 4.53 s, total: 14 s\n",
      "Wall time: 14 s\n"
     ]
    }
   ],
   "source": [
    "%%time\n",
    "test_df = test_df.merge(repeated_purchase_df,on=['customer_id','article_id'],how='left').fillna(0.)"
   ]
  },
  {
   "cell_type": "markdown",
   "id": "possible-darkness",
   "metadata": {},
   "source": [
    "****Save files****"
   ]
  },
  {
   "cell_type": "code",
   "execution_count": 19,
   "id": "charming-seeking",
   "metadata": {},
   "outputs": [],
   "source": [
    "from utils import save_csv"
   ]
  },
  {
   "cell_type": "code",
   "execution_count": 20,
   "id": "continued-roman",
   "metadata": {},
   "outputs": [
    {
     "name": "stdout",
     "output_type": "stream",
     "text": [
      "CPU times: user 21.2 s, sys: 351 ms, total: 21.6 s\n",
      "Wall time: 21.6 s\n"
     ]
    }
   ],
   "source": [
    "%%time\n",
    "save_csv(trn_df,out_dir,'trn_df.csv')"
   ]
  },
  {
   "cell_type": "code",
   "execution_count": 21,
   "id": "still-measure",
   "metadata": {},
   "outputs": [
    {
     "name": "stdout",
     "output_type": "stream",
     "text": [
      "CPU times: user 36.2 s, sys: 582 ms, total: 36.7 s\n",
      "Wall time: 36.8 s\n"
     ]
    }
   ],
   "source": [
    "%%time\n",
    "save_csv(val_df,out_dir,'val_df.csv')"
   ]
  },
  {
   "cell_type": "code",
   "execution_count": 22,
   "id": "public-adventure",
   "metadata": {},
   "outputs": [
    {
     "name": "stdout",
     "output_type": "stream",
     "text": [
      "CPU times: user 2min 53s, sys: 2.75 s, total: 2min 56s\n",
      "Wall time: 2min 56s\n"
     ]
    }
   ],
   "source": [
    "%%time\n",
    "save_csv(test_df,out_dir,'test_df.csv')"
   ]
  },
  {
   "cell_type": "code",
   "execution_count": 23,
   "id": "prime-manor",
   "metadata": {},
   "outputs": [
    {
     "name": "stdout",
     "output_type": "stream",
     "text": [
      "CPU times: user 191 ms, sys: 7.93 ms, total: 199 ms\n",
      "Wall time: 228 ms\n"
     ]
    }
   ],
   "source": [
    "%%time\n",
    "save_csv(gt_df,out_dir,'gt_df.csv')"
   ]
  },
  {
   "cell_type": "code",
   "execution_count": null,
   "id": "f9d38047-2292-424b-9fcb-748527755252",
   "metadata": {},
   "outputs": [],
   "source": []
  }
 ],
 "metadata": {
  "kernelspec": {
   "display_name": "RAPIDSai-21.12",
   "language": "python",
   "name": "rapidsai-21.12"
  },
  "language_info": {
   "codemirror_mode": {
    "name": "ipython",
    "version": 3
   },
   "file_extension": ".py",
   "mimetype": "text/x-python",
   "name": "python",
   "nbconvert_exporter": "python",
   "pygments_lexer": "ipython3",
   "version": "3.8.12"
  }
 },
 "nbformat": 4,
 "nbformat_minor": 5
}
