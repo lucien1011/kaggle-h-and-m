{
 "cells": [
  {
   "cell_type": "code",
   "execution_count": 1,
   "metadata": {},
   "outputs": [],
   "source": [
    "import glob\n",
    "import os"
   ]
  },
  {
   "cell_type": "code",
   "execution_count": 2,
   "metadata": {},
   "outputs": [],
   "source": [
    "use_gpu = False\n",
    "import cudf\n",
    "import pandas as pd"
   ]
  },
  {
   "cell_type": "code",
   "execution_count": 3,
   "metadata": {},
   "outputs": [],
   "source": [
    "out_dir = 'storage/dataset/220311_baseline/'\n",
    "topk = 100"
   ]
  },
  {
   "cell_type": "markdown",
   "metadata": {},
   "source": [
    "****Input dataset****"
   ]
  },
  {
   "cell_type": "code",
   "execution_count": 4,
   "metadata": {},
   "outputs": [
    {
     "name": "stdout",
     "output_type": "stream",
     "text": [
      "CPU times: user 1.19 s, sys: 1.69 s, total: 2.88 s\n",
      "Wall time: 5.25 s\n"
     ]
    }
   ],
   "source": [
    "%%time\n",
    "transactions = cudf.read_csv('storage/transactions_train.csv')\n",
    "articles = cudf.read_csv('storage/articles.csv')\n",
    "customers = cudf.read_csv('storage/customers.csv')"
   ]
  },
  {
   "cell_type": "code",
   "execution_count": 5,
   "metadata": {},
   "outputs": [
    {
     "name": "stdout",
     "output_type": "stream",
     "text": [
      "CPU times: user 21 ms, sys: 30.1 ms, total: 51.1 ms\n",
      "Wall time: 64.1 ms\n"
     ]
    }
   ],
   "source": [
    "%%time\n",
    "from utils import train_test_split\n",
    "trn_transactions,val_transactions = train_test_split(transactions,gpu=True)"
   ]
  },
  {
   "cell_type": "code",
   "execution_count": 6,
   "metadata": {},
   "outputs": [
    {
     "name": "stdout",
     "output_type": "stream",
     "text": [
      "CPU times: user 2.56 ms, sys: 12.5 ms, total: 15.1 ms\n",
      "Wall time: 18.4 ms\n"
     ]
    }
   ],
   "source": [
    "%%time\n",
    "trn_transactions = trn_transactions[trn_transactions['t_dat'] > pd.to_datetime('2020-08-01')]"
   ]
  },
  {
   "cell_type": "code",
   "execution_count": 7,
   "metadata": {},
   "outputs": [
    {
     "name": "stdout",
     "output_type": "stream",
     "text": [
      "CPU times: user 912 ms, sys: 263 ms, total: 1.18 s\n",
      "Wall time: 2.23 s\n"
     ]
    }
   ],
   "source": [
    "%%time\n",
    "trn_transactions = trn_transactions.to_pandas()\n",
    "val_transactions = val_transactions.to_pandas()\n",
    "articles = articles.to_pandas()\n",
    "customers = customers.to_pandas()"
   ]
  },
  {
   "cell_type": "markdown",
   "metadata": {},
   "source": [
    "****Construct customer and article feature dataframe****"
   ]
  },
  {
   "cell_type": "code",
   "execution_count": 8,
   "metadata": {},
   "outputs": [],
   "source": [
    "def merge_customer_article_feature_df(df,articles,art_cust_features,art_cust_dir):\n",
    "    for feature in art_cust_features:\n",
    "        tmp = pd.read_csv(os.path.join(art_cust_dir+feature+'_countvec.csv'),index_col=None)\n",
    "        tmp = tmp[['customer_id',feature,feature+'_countvec']]\n",
    "        df = df.merge(articles[['article_id',feature]],on='article_id',how='left')\n",
    "        df = df.merge(tmp,on=['customer_id',feature],how='left')\n",
    "    return df\n",
    "\n",
    "def make_pos_df(trn_transactions,articles,art_cust_features,art_cust_dir):\n",
    "    trn_df = trn_transactions[['customer_id','article_id']]\n",
    "    trn_df = merge_customer_article_feature_df(trn_df,articles,art_cust_features,art_cust_dir)\n",
    "    trn_df = trn_df[['customer_id','article_id']+[f+'_countvec' for f in art_cust_features]]\n",
    "    trn_df['label'] = 1\n",
    "    return trn_df\n",
    "\n",
    "def make_neg_df(trn_transactions,articles,art_cust_features,art_cust_dir):\n",
    "    trn_df = trn_transactions[['customer_id','article_id']].reset_index().drop(columns=['index'])\n",
    "    trn_df['customer_id'] = trn_df['customer_id'].sample(frac=1.).to_frame().reset_index().drop(columns=['index'])\n",
    "    trn_df = merge_customer_article_feature_df(trn_df,articles,art_cust_features,art_cust_dir)\n",
    "    trn_df = trn_df[['customer_id','article_id']+[f+'_countvec' for f in art_cust_features]]\n",
    "    trn_df.fillna(0.,inplace=True)\n",
    "    trn_df['label'] = 0\n",
    "    return trn_df\n",
    "\n",
    "def make_trn_df(trn_transactions,articles,art_cust_features,art_cust_dir):\n",
    "    pos_df = make_pos_df(trn_transactions,articles,art_cust_features,art_cust_dir)\n",
    "    neg_df = make_neg_df(trn_transactions,articles,art_cust_features,art_cust_dir)\n",
    "    return pd.concat([pos_df,neg_df])\n",
    "\n",
    "def agg_items(x,topk):\n",
    "    s = set(x)\n",
    "    pos = x\n",
    "    neg = [i for i in topk if i not in s]\n",
    "    return pos+neg,len(pos)*[1.]+len(neg)*[0.]\n",
    "\n",
    "def make_val_df(val_transactions,trn_transactions,articles,art_cust_features,art_cust_dir,k=500):\n",
    "    topk = trn_transactions['article_id'].value_counts()[:k].index.tolist()\n",
    "    neg_val_df = trn_transactions[['customer_id','article_id']].groupby('customer_id')['article_id'].agg(lambda x: x.tolist()+topk).reset_index()\n",
    "    neg_val_df = neg_val_df.rename(columns={'article_id':'neg_items'})\n",
    "    pos_val_df = val_transactions.groupby('customer_id')['article_id'].agg(lambda x: x.tolist()).to_frame().reset_index()\n",
    "    pos_val_df = pos_val_df.rename(columns={'article_id':'pos_items'})\n",
    "    val_df = pos_val_df.merge(neg_val_df,on=['customer_id'],how='left')\n",
    "    val_df = val_df.apply(lambda s: s.fillna({i: [] for i in val_df.index}))\n",
    "    val_df['items'] = val_df.apply(lambda x: agg_items(x['pos_items'],x['neg_items']),axis=1)\n",
    "    val_df['article_id'] = val_df['items'].apply(lambda x: x[0])\n",
    "    val_df['label'] = val_df['items'].apply(lambda x: x[1])\n",
    "    val_df = val_df.explode(['article_id','label'])\n",
    "    val_df = merge_customer_article_feature_df(val_df,articles,art_cust_features,art_cust_dir)\n",
    "    val_df = val_df[['customer_id','article_id','label']+[f+'_countvec' for f in art_cust_features]]\n",
    "    val_df.fillna(0.,inplace=True)\n",
    "    return val_df\n",
    "\n",
    "def make_test_df(val_transactions,trn_transactions,articles,art_cust_features,art_cust_dir,k=500):\n",
    "    topk = trn_transactions['article_id'].value_counts()[:k].index.tolist()\n",
    "    val_df = trn_transactions[['customer_id','article_id']].groupby('customer_id')['article_id'].agg(lambda x: x.tolist()+topk).reset_index()\n",
    "    val_df = val_df.explode(['article_id'])\n",
    "    val_df = merge_customer_article_feature_df(val_df,articles,art_cust_features,art_cust_dir)\n",
    "    val_df = val_df[['customer_id','article_id']+[f+'_countvec' for f in art_cust_features]]\n",
    "    val_df.fillna(0.,inplace=True)\n",
    "    return val_df\n",
    "\n",
    "def make_gt_df(val_transactions):\n",
    "    gt_df = val_transactions.groupby('customer_id')['article_id'].agg(lambda x: x.tolist()).reset_index()\n",
    "    gt_df.columns = ['customer_id','ground_truth']\n",
    "    return gt_df"
   ]
  },
  {
   "cell_type": "code",
   "execution_count": 9,
   "metadata": {},
   "outputs": [],
   "source": [
    "art_cust_dir = 'storage/preprocessing/220308_baseline/'\n",
    "art_cust_features = [\n",
    "    'product_group_name', 'product_type_name', \n",
    "    'graphical_appearance_name', 'perceived_colour_value_name', 'colour_group_code', \n",
    "    'index_group_name', \n",
    "    'department_name',\n",
    "]"
   ]
  },
  {
   "cell_type": "code",
   "execution_count": 10,
   "metadata": {},
   "outputs": [
    {
     "name": "stdout",
     "output_type": "stream",
     "text": [
      "CPU times: user 23 s, sys: 969 ms, total: 24 s\n",
      "Wall time: 24 s\n"
     ]
    }
   ],
   "source": [
    "%%time\n",
    "trn_df = make_trn_df(trn_transactions,articles,art_cust_features,art_cust_dir)"
   ]
  },
  {
   "cell_type": "code",
   "execution_count": 11,
   "metadata": {},
   "outputs": [
    {
     "name": "stdout",
     "output_type": "stream",
     "text": [
      "CPU times: user 31.6 s, sys: 8.73 s, total: 40.4 s\n",
      "Wall time: 40.4 s\n"
     ]
    }
   ],
   "source": [
    "%%time\n",
    "val_df = make_val_df(val_transactions,trn_transactions,articles,art_cust_features,art_cust_dir,k=topk)"
   ]
  },
  {
   "cell_type": "code",
   "execution_count": 12,
   "metadata": {},
   "outputs": [
    {
     "name": "stdout",
     "output_type": "stream",
     "text": [
      "CPU times: user 2min 2s, sys: 51.6 s, total: 2min 54s\n",
      "Wall time: 2min 53s\n"
     ]
    }
   ],
   "source": [
    "%%time\n",
    "test_df = make_test_df(val_transactions,trn_transactions,articles,art_cust_features,art_cust_dir,k=topk)"
   ]
  },
  {
   "cell_type": "code",
   "execution_count": 13,
   "metadata": {},
   "outputs": [
    {
     "name": "stdout",
     "output_type": "stream",
     "text": [
      "CPU times: user 352 ms, sys: 10.5 ms, total: 362 ms\n",
      "Wall time: 361 ms\n"
     ]
    }
   ],
   "source": [
    "%%time\n",
    "gt_df = make_gt_df(val_transactions)"
   ]
  },
  {
   "cell_type": "markdown",
   "metadata": {},
   "source": [
    "****Construct repeated purchase features****"
   ]
  },
  {
   "cell_type": "code",
   "execution_count": 14,
   "metadata": {},
   "outputs": [],
   "source": [
    "input_dir = 'storage/preprocessing/220308_baseline/'"
   ]
  },
  {
   "cell_type": "code",
   "execution_count": 15,
   "metadata": {},
   "outputs": [],
   "source": [
    "feature = 'repeated_purchase_prob'\n",
    "repeated_purchase_df = pd.read_csv(os.path.join(input_dir,feature+'.csv')).rename(columns={'count':'repeated_purchase_prob'})"
   ]
  },
  {
   "cell_type": "code",
   "execution_count": 16,
   "metadata": {},
   "outputs": [
    {
     "name": "stdout",
     "output_type": "stream",
     "text": [
      "CPU times: user 1.91 s, sys: 436 ms, total: 2.35 s\n",
      "Wall time: 2.34 s\n"
     ]
    }
   ],
   "source": [
    "%%time\n",
    "trn_df = trn_df.merge(repeated_purchase_df,on=['customer_id','article_id'],how='left').fillna(0.)"
   ]
  },
  {
   "cell_type": "code",
   "execution_count": 17,
   "metadata": {},
   "outputs": [
    {
     "name": "stdout",
     "output_type": "stream",
     "text": [
      "CPU times: user 1.51 s, sys: 640 ms, total: 2.15 s\n",
      "Wall time: 2.14 s\n"
     ]
    }
   ],
   "source": [
    "%%time\n",
    "val_df = val_df.merge(repeated_purchase_df,on=['customer_id','article_id'],how='left').fillna(0.)"
   ]
  },
  {
   "cell_type": "code",
   "execution_count": 18,
   "metadata": {},
   "outputs": [
    {
     "name": "stdout",
     "output_type": "stream",
     "text": [
      "CPU times: user 9.18 s, sys: 4.47 s, total: 13.7 s\n",
      "Wall time: 13.6 s\n"
     ]
    }
   ],
   "source": [
    "%%time\n",
    "test_df = test_df.merge(repeated_purchase_df,on=['customer_id','article_id'],how='left').fillna(0.)"
   ]
  },
  {
   "cell_type": "markdown",
   "metadata": {},
   "source": [
    "****Save files****"
   ]
  },
  {
   "cell_type": "code",
   "execution_count": 19,
   "metadata": {},
   "outputs": [],
   "source": [
    "from utils import save_csv"
   ]
  },
  {
   "cell_type": "code",
   "execution_count": 20,
   "metadata": {},
   "outputs": [
    {
     "name": "stdout",
     "output_type": "stream",
     "text": [
      "CPU times: user 20.7 s, sys: 333 ms, total: 21.1 s\n",
      "Wall time: 21.4 s\n"
     ]
    }
   ],
   "source": [
    "%%time\n",
    "save_csv(trn_df,out_dir,'trn_df.csv')"
   ]
  },
  {
   "cell_type": "code",
   "execution_count": 21,
   "metadata": {},
   "outputs": [
    {
     "name": "stdout",
     "output_type": "stream",
     "text": [
      "CPU times: user 23.5 s, sys: 539 ms, total: 24 s\n",
      "Wall time: 24 s\n"
     ]
    }
   ],
   "source": [
    "%%time\n",
    "save_csv(val_df,out_dir,'val_df.csv')"
   ]
  },
  {
   "cell_type": "code",
   "execution_count": 22,
   "metadata": {},
   "outputs": [
    {
     "name": "stdout",
     "output_type": "stream",
     "text": [
      "CPU times: user 2min 48s, sys: 2.67 s, total: 2min 50s\n",
      "Wall time: 2min 51s\n"
     ]
    }
   ],
   "source": [
    "%%time\n",
    "save_csv(test_df,out_dir,'test_df.csv')"
   ]
  },
  {
   "cell_type": "code",
   "execution_count": 23,
   "metadata": {},
   "outputs": [
    {
     "name": "stdout",
     "output_type": "stream",
     "text": [
      "CPU times: user 178 ms, sys: 10.3 ms, total: 188 ms\n",
      "Wall time: 235 ms\n"
     ]
    }
   ],
   "source": [
    "%%time\n",
    "save_csv(gt_df,out_dir,'gt_df.csv')"
   ]
  },
  {
   "cell_type": "code",
   "execution_count": null,
   "metadata": {},
   "outputs": [],
   "source": []
  }
 ],
 "metadata": {
  "kernelspec": {
   "display_name": "RAPIDSai-21.12",
   "language": "python",
   "name": "rapidsai-21.12"
  },
  "language_info": {
   "codemirror_mode": {
    "name": "ipython",
    "version": 3
   },
   "file_extension": ".py",
   "mimetype": "text/x-python",
   "name": "python",
   "nbconvert_exporter": "python",
   "pygments_lexer": "ipython3",
   "version": "3.8.12"
  }
 },
 "nbformat": 4,
 "nbformat_minor": 5
}
