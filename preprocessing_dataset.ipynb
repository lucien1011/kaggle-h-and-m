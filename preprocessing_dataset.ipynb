{
 "cells": [
  {
   "cell_type": "code",
   "execution_count": 1,
   "id": "collectible-cancer",
   "metadata": {},
   "outputs": [],
   "source": [
    "import glob\n",
    "import os"
   ]
  },
  {
   "cell_type": "code",
   "execution_count": 2,
   "id": "abroad-microwave",
   "metadata": {},
   "outputs": [],
   "source": [
    "use_gpu = False\n",
    "import cudf\n",
    "import pandas as pd"
   ]
  },
  {
   "cell_type": "code",
   "execution_count": 3,
   "id": "civilian-toner",
   "metadata": {},
   "outputs": [],
   "source": [
    "base_dir = 'storage/output/220314_baseline/'\n",
    "topk = 50\n",
    "art_cust_features = [\n",
    "    'product_group_name', 'product_type_name', \n",
    "    'graphical_appearance_name', 'perceived_colour_value_name', 'colour_group_code', \n",
    "    'index_group_name', \n",
    "    'department_name',\n",
    "]"
   ]
  },
  {
   "cell_type": "markdown",
   "id": "meaning-checkout",
   "metadata": {},
   "source": [
    "****Input dataset****"
   ]
  },
  {
   "cell_type": "code",
   "execution_count": 4,
   "id": "viral-appraisal",
   "metadata": {},
   "outputs": [
    {
     "name": "stdout",
     "output_type": "stream",
     "text": [
      "CPU times: user 1.14 s, sys: 1.31 s, total: 2.45 s\n",
      "Wall time: 2.5 s\n"
     ]
    }
   ],
   "source": [
    "%%time\n",
    "transactions = cudf.read_csv('storage/transactions_train.csv')\n",
    "articles = cudf.read_csv('storage/articles.csv')\n",
    "customers = cudf.read_csv('storage/customers.csv')"
   ]
  },
  {
   "cell_type": "code",
   "execution_count": 5,
   "id": "theoretical-creature",
   "metadata": {},
   "outputs": [
    {
     "name": "stdout",
     "output_type": "stream",
     "text": [
      "CPU times: user 37.1 ms, sys: 47 ms, total: 84.1 ms\n",
      "Wall time: 84.7 ms\n"
     ]
    }
   ],
   "source": [
    "%%time\n",
    "from utils import train_val_test_split\n",
    "trn_transactions,val_transactions,test_transactions = train_val_test_split(transactions,gpu=True)"
   ]
  },
  {
   "cell_type": "code",
   "execution_count": 6,
   "id": "supported-heritage",
   "metadata": {},
   "outputs": [
    {
     "name": "stdout",
     "output_type": "stream",
     "text": [
      "CPU times: user 2.55 ms, sys: 15.6 ms, total: 18.2 ms\n",
      "Wall time: 17.3 ms\n"
     ]
    }
   ],
   "source": [
    "%%time\n",
    "trn_transactions = trn_transactions[trn_transactions['t_dat'] > pd.to_datetime('2020-08-01')]"
   ]
  },
  {
   "cell_type": "code",
   "execution_count": 7,
   "id": "instructional-dakota",
   "metadata": {},
   "outputs": [
    {
     "name": "stdout",
     "output_type": "stream",
     "text": [
      "CPU times: user 928 ms, sys: 234 ms, total: 1.16 s\n",
      "Wall time: 1.16 s\n"
     ]
    }
   ],
   "source": [
    "%%time\n",
    "trn_transactions = trn_transactions.to_pandas()\n",
    "val_transactions = val_transactions.to_pandas()\n",
    "test_transactions = test_transactions.to_pandas()\n",
    "articles = articles.to_pandas()\n",
    "customers = customers.to_pandas()"
   ]
  },
  {
   "cell_type": "markdown",
   "id": "brutal-experience",
   "metadata": {},
   "source": [
    "****Construct customer and article feature dataframe****"
   ]
  },
  {
   "cell_type": "code",
   "execution_count": 8,
   "id": "intended-blackjack",
   "metadata": {},
   "outputs": [],
   "source": [
    "def merge_customer_article_feature_df(df,articles,art_cust_features,art_cust_dir):\n",
    "    for feature in art_cust_features:\n",
    "        tmp = pd.read_csv(os.path.join(art_cust_dir+feature+'_countvec.csv'),index_col=None)\n",
    "        tmp = tmp[['customer_id',feature,feature+'_countvec']]\n",
    "        df = df.merge(articles[['article_id',feature]],on='article_id',how='left')\n",
    "        df = df.merge(tmp,on=['customer_id',feature],how='left')\n",
    "    return df\n",
    "\n",
    "def make_pos_df(trn_transactions,articles,art_cust_features,art_cust_dir):\n",
    "    trn_df = trn_transactions[['customer_id','article_id']]\n",
    "    trn_df = merge_customer_article_feature_df(trn_df,articles,art_cust_features,art_cust_dir)\n",
    "    trn_df = trn_df[['customer_id','article_id']+[f+'_countvec' for f in art_cust_features]]\n",
    "    trn_df['label'] = 1\n",
    "    return trn_df\n",
    "\n",
    "def make_neg_df(trn_transactions,articles,art_cust_features,art_cust_dir):\n",
    "    trn_df = trn_transactions[['customer_id','article_id']].reset_index().drop(columns=['index'])\n",
    "    trn_df['customer_id'] = trn_df['customer_id'].sample(frac=1.).to_frame().reset_index().drop(columns=['index'])\n",
    "    trn_df = merge_customer_article_feature_df(trn_df,articles,art_cust_features,art_cust_dir)\n",
    "    trn_df = trn_df[['customer_id','article_id']+[f+'_countvec' for f in art_cust_features]]\n",
    "    trn_df.fillna(0.,inplace=True)\n",
    "    trn_df['label'] = 0\n",
    "    return trn_df\n",
    "\n",
    "def make_trn_df(trn_transactions,articles,art_cust_features,art_cust_dir):\n",
    "    pos_df = make_pos_df(trn_transactions,articles,art_cust_features,art_cust_dir)\n",
    "    neg_df = make_neg_df(trn_transactions,articles,art_cust_features,art_cust_dir)\n",
    "    return pd.concat([pos_df,neg_df])\n",
    "\n",
    "def agg_items(x,topk):\n",
    "    s = set(x)\n",
    "    pos = x\n",
    "    neg = [i for i in topk if i not in s]\n",
    "    return pos+neg,len(pos)*[1.]+len(neg)*[0.]\n",
    "\n",
    "def make_val_df(val_transactions,trn_transactions,articles,art_cust_features,art_cust_dir,k=500):\n",
    "    topk = trn_transactions['article_id'].value_counts()[:k].index.tolist()\n",
    "    val_df = val_transactions.groupby('customer_id')['article_id'].agg(lambda x: x.tolist()).to_frame().reset_index()\n",
    "    val_df = val_df.rename(columns={'article_id':'pos_items'})\n",
    "    val_df['neg_items'] = [topk]*len(val_df)\n",
    "    val_df = val_df.apply(lambda s: s.fillna({i: [] for i in val_df.index}))\n",
    "    val_df['items'] = val_df.apply(lambda x: agg_items(x['pos_items'],x['neg_items']),axis=1)\n",
    "    val_df['article_id'] = val_df['items'].apply(lambda x: x[0])\n",
    "    val_df['label'] = val_df['items'].apply(lambda x: x[1])\n",
    "    val_df = val_df.explode(['article_id','label'])\n",
    "    val_df = merge_customer_article_feature_df(val_df,articles,art_cust_features,art_cust_dir)\n",
    "    val_df = val_df[['customer_id','article_id','label']+[f+'_countvec' for f in art_cust_features]]\n",
    "    val_df.fillna(0.,inplace=True)\n",
    "    return val_df\n",
    "\n",
    "def make_test_df(val_transactions,trn_transactions,articles,art_cust_features,art_cust_dir,k=500):\n",
    "    topk = trn_transactions['article_id'].value_counts()[:k].index.tolist()\n",
    "    val_df = trn_transactions[['customer_id','article_id']].groupby('customer_id')['article_id'].agg(lambda x: x.tolist()+topk).reset_index()\n",
    "    val_df = val_df.explode(['article_id'])\n",
    "    val_df = merge_customer_article_feature_df(val_df,articles,art_cust_features,art_cust_dir)\n",
    "    val_df = val_df[['customer_id','article_id']+[f+'_countvec' for f in art_cust_features]]\n",
    "    val_df.fillna(0.,inplace=True)\n",
    "    return val_df\n",
    "\n",
    "def make_gt_df(val_transactions):\n",
    "    gt_df = val_transactions.groupby('customer_id')['article_id'].agg(lambda x: x.tolist()).reset_index()\n",
    "    gt_df.columns = ['customer_id','ground_truth']\n",
    "    return gt_df"
   ]
  },
  {
   "cell_type": "code",
   "execution_count": 9,
   "id": "executed-distributor",
   "metadata": {},
   "outputs": [
    {
     "name": "stdout",
     "output_type": "stream",
     "text": [
      "CPU times: user 23 s, sys: 880 ms, total: 23.9 s\n",
      "Wall time: 23.9 s\n"
     ]
    }
   ],
   "source": [
    "%%time\n",
    "trn_df = make_trn_df(trn_transactions,articles,art_cust_features,base_dir)"
   ]
  },
  {
   "cell_type": "code",
   "execution_count": 10,
   "id": "electoral-program",
   "metadata": {},
   "outputs": [
    {
     "name": "stdout",
     "output_type": "stream",
     "text": [
      "CPU times: user 25.2 s, sys: 4.83 s, total: 30 s\n",
      "Wall time: 30 s\n"
     ]
    }
   ],
   "source": [
    "%%time\n",
    "val_df = make_val_df(val_transactions,trn_transactions,articles,art_cust_features,base_dir,k=topk)"
   ]
  },
  {
   "cell_type": "code",
   "execution_count": 11,
   "id": "offshore-trinidad",
   "metadata": {},
   "outputs": [
    {
     "name": "stdout",
     "output_type": "stream",
     "text": [
      "CPU times: user 1min 1s, sys: 22.6 s, total: 1min 24s\n",
      "Wall time: 1min 24s\n"
     ]
    }
   ],
   "source": [
    "%%time\n",
    "test_df = make_test_df(test_transactions,trn_transactions,articles,art_cust_features,base_dir,k=topk)"
   ]
  },
  {
   "cell_type": "code",
   "execution_count": 12,
   "id": "guilty-details",
   "metadata": {},
   "outputs": [
    {
     "name": "stdout",
     "output_type": "stream",
     "text": [
      "CPU times: user 344 ms, sys: 6.05 ms, total: 350 ms\n",
      "Wall time: 349 ms\n"
     ]
    }
   ],
   "source": [
    "%%time\n",
    "gt_df = make_gt_df(test_transactions)"
   ]
  },
  {
   "cell_type": "markdown",
   "id": "careful-range",
   "metadata": {},
   "source": [
    "****Construct repeated purchase features****"
   ]
  },
  {
   "cell_type": "code",
   "execution_count": 13,
   "id": "forward-durham",
   "metadata": {},
   "outputs": [],
   "source": [
    "feature = 'repeated_purchase_prob'\n",
    "repeated_purchase_df = pd.read_csv(os.path.join(base_dir,feature+'.csv')).rename(columns={'count':'repeated_purchase_prob'})"
   ]
  },
  {
   "cell_type": "code",
   "execution_count": 14,
   "id": "consecutive-china",
   "metadata": {},
   "outputs": [
    {
     "name": "stdout",
     "output_type": "stream",
     "text": [
      "CPU times: user 1.79 s, sys: 276 ms, total: 2.06 s\n",
      "Wall time: 2.06 s\n"
     ]
    }
   ],
   "source": [
    "%%time\n",
    "trn_df = trn_df.merge(repeated_purchase_df,on=['customer_id','article_id'],how='left').fillna(0.)"
   ]
  },
  {
   "cell_type": "code",
   "execution_count": 15,
   "id": "accurate-printing",
   "metadata": {},
   "outputs": [
    {
     "name": "stdout",
     "output_type": "stream",
     "text": [
      "CPU times: user 1.66 s, sys: 377 ms, total: 2.03 s\n",
      "Wall time: 2.03 s\n"
     ]
    }
   ],
   "source": [
    "%%time\n",
    "val_df = val_df.merge(repeated_purchase_df,on=['customer_id','article_id'],how='left').fillna(0.)"
   ]
  },
  {
   "cell_type": "code",
   "execution_count": 16,
   "id": "simplified-olympus",
   "metadata": {},
   "outputs": [
    {
     "name": "stdout",
     "output_type": "stream",
     "text": [
      "CPU times: user 5.78 s, sys: 1.84 s, total: 7.61 s\n",
      "Wall time: 7.61 s\n"
     ]
    }
   ],
   "source": [
    "%%time\n",
    "test_df = test_df.merge(repeated_purchase_df,on=['customer_id','article_id'],how='left').fillna(0.)"
   ]
  },
  {
   "cell_type": "markdown",
   "id": "differential-silence",
   "metadata": {},
   "source": [
    "****Save files****"
   ]
  },
  {
   "cell_type": "code",
   "execution_count": 17,
   "id": "olive-welcome",
   "metadata": {},
   "outputs": [],
   "source": [
    "from utils import save_csv"
   ]
  },
  {
   "cell_type": "code",
   "execution_count": 18,
   "id": "ordinary-dodge",
   "metadata": {},
   "outputs": [
    {
     "name": "stdout",
     "output_type": "stream",
     "text": [
      "CPU times: user 17.7 s, sys: 261 ms, total: 17.9 s\n",
      "Wall time: 18 s\n"
     ]
    }
   ],
   "source": [
    "%%time\n",
    "save_csv(trn_df,base_dir,'trn_df.csv')"
   ]
  },
  {
   "cell_type": "code",
   "execution_count": 19,
   "id": "documentary-participant",
   "metadata": {},
   "outputs": [
    {
     "name": "stdout",
     "output_type": "stream",
     "text": [
      "CPU times: user 18.9 s, sys: 301 ms, total: 19.2 s\n",
      "Wall time: 19.2 s\n"
     ]
    }
   ],
   "source": [
    "%%time\n",
    "save_csv(val_df,base_dir,'val_df.csv')"
   ]
  },
  {
   "cell_type": "code",
   "execution_count": 20,
   "id": "minus-mexican",
   "metadata": {},
   "outputs": [
    {
     "name": "stdout",
     "output_type": "stream",
     "text": [
      "CPU times: user 1min 19s, sys: 1.27 s, total: 1min 21s\n",
      "Wall time: 1min 21s\n"
     ]
    }
   ],
   "source": [
    "%%time\n",
    "save_csv(test_df,base_dir,'test_df.csv')"
   ]
  },
  {
   "cell_type": "code",
   "execution_count": 21,
   "id": "interpreted-physics",
   "metadata": {},
   "outputs": [
    {
     "name": "stdout",
     "output_type": "stream",
     "text": [
      "CPU times: user 179 ms, sys: 11.3 ms, total: 190 ms\n",
      "Wall time: 190 ms\n"
     ]
    }
   ],
   "source": [
    "%%time\n",
    "save_csv(gt_df,base_dir,'gt_df.csv')"
   ]
  },
  {
   "cell_type": "code",
   "execution_count": null,
   "id": "6ddf87ad-02a2-4151-ad5d-8f1af71c6680",
   "metadata": {},
   "outputs": [],
   "source": []
  }
 ],
 "metadata": {
  "kernelspec": {
   "display_name": "RAPIDSai-21.12",
   "language": "python",
   "name": "rapidsai-21.12"
  },
  "language_info": {
   "codemirror_mode": {
    "name": "ipython",
    "version": 3
   },
   "file_extension": ".py",
   "mimetype": "text/x-python",
   "name": "python",
   "nbconvert_exporter": "python",
   "pygments_lexer": "ipython3",
   "version": "3.8.12"
  }
 },
 "nbformat": 4,
 "nbformat_minor": 5
}
