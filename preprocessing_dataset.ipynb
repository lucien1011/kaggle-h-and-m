{
 "cells": [
  {
   "cell_type": "code",
   "execution_count": 1,
   "id": "annoying-attitude",
   "metadata": {},
   "outputs": [],
   "source": [
    "import glob\n",
    "import os"
   ]
  },
  {
   "cell_type": "code",
   "execution_count": 2,
   "id": "a26972cd-cabe-4a61-ab7a-74eaa7da674d",
   "metadata": {},
   "outputs": [],
   "source": [
    "use_gpu = False\n",
    "import cudf\n",
    "import pandas as pd"
   ]
  },
  {
   "cell_type": "code",
   "execution_count": 3,
   "id": "matched-quarter",
   "metadata": {},
   "outputs": [],
   "source": [
    "out_dir = 'storage/dataset/220311_baseline/'\n",
    "topk = 100"
   ]
  },
  {
   "cell_type": "markdown",
   "id": "adjusted-olympus",
   "metadata": {},
   "source": [
    "****Input dataset****"
   ]
  },
  {
   "cell_type": "code",
   "execution_count": 4,
   "id": "taken-burns",
   "metadata": {},
   "outputs": [
    {
     "name": "stdout",
     "output_type": "stream",
     "text": [
      "CPU times: user 1.19 s, sys: 1.69 s, total: 2.88 s\n",
      "Wall time: 5.25 s\n"
     ]
    }
   ],
   "source": [
    "%%time\n",
    "transactions = cudf.read_csv('storage/transactions_train.csv')\n",
    "articles = cudf.read_csv('storage/articles.csv')\n",
    "customers = cudf.read_csv('storage/customers.csv')"
   ]
  },
  {
   "cell_type": "code",
   "execution_count": 5,
   "id": "adjusted-daughter",
   "metadata": {},
   "outputs": [
    {
     "name": "stdout",
     "output_type": "stream",
     "text": [
      "CPU times: user 21 ms, sys: 30.1 ms, total: 51.1 ms\n",
      "Wall time: 64.1 ms\n"
     ]
    }
   ],
   "source": [
    "%%time\n",
    "from utils import train_test_split\n",
    "trn_transactions,val_transactions = train_test_split(transactions,gpu=True)"
   ]
  },
  {
   "cell_type": "code",
   "execution_count": 6,
   "id": "motivated-wound",
   "metadata": {},
   "outputs": [
    {
     "name": "stdout",
     "output_type": "stream",
     "text": [
      "CPU times: user 2.56 ms, sys: 12.5 ms, total: 15.1 ms\n",
      "Wall time: 18.4 ms\n"
     ]
    }
   ],
   "source": [
    "%%time\n",
    "trn_transactions = trn_transactions[trn_transactions['t_dat'] > pd.to_datetime('2020-08-01')]"
   ]
  },
  {
   "cell_type": "code",
   "execution_count": 7,
   "id": "d800317a-5d93-46f9-9fa5-5ffc6f327d7d",
   "metadata": {},
   "outputs": [
    {
     "name": "stdout",
     "output_type": "stream",
     "text": [
      "CPU times: user 912 ms, sys: 263 ms, total: 1.18 s\n",
      "Wall time: 2.23 s\n"
     ]
    }
   ],
   "source": [
    "%%time\n",
    "trn_transactions = trn_transactions.to_pandas()\n",
    "val_transactions = val_transactions.to_pandas()\n",
    "articles = articles.to_pandas()\n",
    "customers = customers.to_pandas()"
   ]
  },
  {
   "cell_type": "markdown",
   "id": "binding-elephant",
   "metadata": {},
   "source": [
    "****Construct customer and article feature dataframe****"
   ]
  },
  {
   "cell_type": "code",
   "execution_count": 8,
   "id": "lasting-satisfaction",
   "metadata": {},
   "outputs": [],
   "source": [
    "def merge_customer_article_feature_df(df,articles,art_cust_features,art_cust_dir):\n",
    "    for feature in art_cust_features:\n",
    "        tmp = pd.read_csv(os.path.join(art_cust_dir+feature+'_countvec.csv'),index_col=None)\n",
    "        tmp = tmp[['customer_id',feature,feature+'_countvec']]\n",
    "        df = df.merge(articles[['article_id',feature]],on='article_id',how='left')\n",
    "        df = df.merge(tmp,on=['customer_id',feature],how='left')\n",
    "    return df\n",
    "\n",
    "def make_pos_df(trn_transactions,articles,art_cust_features,art_cust_dir):\n",
    "    trn_df = trn_transactions[['customer_id','article_id']]\n",
    "    trn_df = merge_customer_article_feature_df(trn_df,articles,art_cust_features,art_cust_dir)\n",
    "    trn_df = trn_df[['customer_id','article_id']+[f+'_countvec' for f in art_cust_features]]\n",
    "    trn_df['label'] = 1\n",
    "    return trn_df\n",
    "\n",
    "def make_neg_df(trn_transactions,articles,art_cust_features,art_cust_dir):\n",
    "    trn_df = trn_transactions[['customer_id','article_id']].reset_index().drop(columns=['index'])\n",
    "    trn_df['customer_id'] = trn_df['customer_id'].sample(frac=1.).to_frame().reset_index().drop(columns=['index'])\n",
    "    trn_df = merge_customer_article_feature_df(trn_df,articles,art_cust_features,art_cust_dir)\n",
    "    trn_df = trn_df[['customer_id','article_id']+[f+'_countvec' for f in art_cust_features]]\n",
    "    trn_df.fillna(0.,inplace=True)\n",
    "    trn_df['label'] = 0\n",
    "    return trn_df\n",
    "\n",
    "def make_trn_df(trn_transactions,articles,art_cust_features,art_cust_dir):\n",
    "    pos_df = make_pos_df(trn_transactions,articles,art_cust_features,art_cust_dir)\n",
    "    neg_df = make_neg_df(trn_transactions,articles,art_cust_features,art_cust_dir)\n",
    "    return pd.concat([pos_df,neg_df])\n",
    "\n",
    "def agg_items(x,topk):\n",
    "    s = set(x)\n",
    "    pos = x\n",
    "    neg = [i for i in topk if i not in s]\n",
    "    return pos+neg,len(pos)*[1.]+len(neg)*[0.]\n",
    "\n",
    "def make_val_df(val_transactions,trn_transactions,articles,art_cust_features,art_cust_dir,k=500):\n",
    "    topk = trn_transactions['article_id'].value_counts()[:k].index.tolist()\n",
    "    neg_val_df = trn_transactions[['customer_id','article_id']].groupby('customer_id')['article_id'].agg(lambda x: x.tolist()+topk).reset_index()\n",
    "    neg_val_df = neg_val_df.rename(columns={'article_id':'neg_items'})\n",
    "    pos_val_df = val_transactions.groupby('customer_id')['article_id'].agg(lambda x: x.tolist()).to_frame().reset_index()\n",
    "    pos_val_df = pos_val_df.rename(columns={'article_id':'pos_items'})\n",
    "    val_df = pos_val_df.merge(neg_val_df,on=['customer_id'],how='left')\n",
    "    val_df = val_df.apply(lambda s: s.fillna({i: [] for i in val_df.index}))\n",
    "    val_df['items'] = val_df.apply(lambda x: agg_items(x['pos_items'],x['neg_items']),axis=1)\n",
    "    val_df['article_id'] = val_df['items'].apply(lambda x: x[0])\n",
    "    val_df['label'] = val_df['items'].apply(lambda x: x[1])\n",
    "    val_df = val_df.explode(['article_id','label'])\n",
    "    val_df = merge_customer_article_feature_df(val_df,articles,art_cust_features,art_cust_dir)\n",
    "    val_df = val_df[['customer_id','article_id','label']+[f+'_countvec' for f in art_cust_features]]\n",
    "    val_df.fillna(0.,inplace=True)\n",
    "    return val_df\n",
    "\n",
    "def make_test_df(val_transactions,trn_transactions,articles,art_cust_features,art_cust_dir,k=500):\n",
    "    topk = trn_transactions['article_id'].value_counts()[:k].index.tolist()\n",
    "    val_df = trn_transactions[['customer_id','article_id']].groupby('customer_id')['article_id'].agg(lambda x: x.tolist()+topk).reset_index()\n",
    "    val_df = val_df.explode(['article_id'])\n",
    "    val_df = merge_customer_article_feature_df(val_df,articles,art_cust_features,art_cust_dir)\n",
    "    val_df = val_df[['customer_id','article_id']+[f+'_countvec' for f in art_cust_features]]\n",
    "    val_df.fillna(0.,inplace=True)\n",
    "    return val_df\n",
    "\n",
    "def make_gt_df(val_transactions):\n",
    "    gt_df = val_transactions.groupby('customer_id')['article_id'].agg(lambda x: x.tolist()).reset_index()\n",
    "    gt_df.columns = ['customer_id','ground_truth']\n",
    "    return gt_df"
   ]
  },
  {
   "cell_type": "code",
   "execution_count": 9,
   "id": "taken-utilization",
   "metadata": {},
   "outputs": [],
   "source": [
    "art_cust_dir = 'storage/preprocessing/220308_baseline/'\n",
    "art_cust_features = [\n",
    "    'product_group_name', 'product_type_name', \n",
    "    'graphical_appearance_name', 'perceived_colour_value_name', 'colour_group_code', \n",
    "    'index_group_name', \n",
    "    'department_name',\n",
    "]"
   ]
  },
  {
   "cell_type": "code",
   "execution_count": 10,
   "id": "breathing-beads",
   "metadata": {},
   "outputs": [
    {
     "name": "stdout",
     "output_type": "stream",
     "text": [
      "CPU times: user 23 s, sys: 969 ms, total: 24 s\n",
      "Wall time: 24 s\n"
     ]
    }
   ],
   "source": [
    "%%time\n",
    "trn_df = make_trn_df(trn_transactions,articles,art_cust_features,art_cust_dir)"
   ]
  },
  {
   "cell_type": "code",
   "execution_count": 11,
   "id": "powered-energy",
   "metadata": {},
   "outputs": [
    {
     "name": "stdout",
     "output_type": "stream",
     "text": [
      "CPU times: user 31.6 s, sys: 8.73 s, total: 40.4 s\n",
      "Wall time: 40.4 s\n"
     ]
    }
   ],
   "source": [
    "%%time\n",
    "val_df = make_val_df(val_transactions,trn_transactions,articles,art_cust_features,art_cust_dir,k=topk)"
   ]
  },
  {
   "cell_type": "code",
   "execution_count": 12,
   "id": "growing-pocket",
   "metadata": {},
   "outputs": [
    {
     "name": "stdout",
     "output_type": "stream",
     "text": [
      "CPU times: user 2min 2s, sys: 51.6 s, total: 2min 54s\n",
      "Wall time: 2min 53s\n"
     ]
    }
   ],
   "source": [
    "%%time\n",
    "test_df = make_test_df(val_transactions,trn_transactions,articles,art_cust_features,art_cust_dir,k=topk)"
   ]
  },
  {
   "cell_type": "code",
   "execution_count": 13,
   "id": "union-telescope",
   "metadata": {},
   "outputs": [
    {
     "name": "stdout",
     "output_type": "stream",
     "text": [
      "CPU times: user 352 ms, sys: 10.5 ms, total: 362 ms\n",
      "Wall time: 361 ms\n"
     ]
    }
   ],
   "source": [
    "%%time\n",
    "gt_df = make_gt_df(val_transactions)"
   ]
  },
  {
   "cell_type": "markdown",
   "id": "dense-arrangement",
   "metadata": {},
   "source": [
    "****Construct repeated purchase features****"
   ]
  },
  {
   "cell_type": "code",
   "execution_count": 14,
   "id": "suffering-webcam",
   "metadata": {},
   "outputs": [],
   "source": [
    "input_dir = 'storage/preprocessing/220308_baseline/'"
   ]
  },
  {
   "cell_type": "code",
   "execution_count": 15,
   "id": "subtle-information",
   "metadata": {},
   "outputs": [],
   "source": [
    "feature = 'repeated_purchase_prob'\n",
    "repeated_purchase_df = pd.read_csv(os.path.join(input_dir,feature+'.csv')).rename(columns={'count':'repeated_purchase_prob'})"
   ]
  },
  {
   "cell_type": "code",
   "execution_count": 16,
   "id": "silent-double",
   "metadata": {},
   "outputs": [
    {
     "name": "stdout",
     "output_type": "stream",
     "text": [
      "CPU times: user 1.91 s, sys: 436 ms, total: 2.35 s\n",
      "Wall time: 2.34 s\n"
     ]
    }
   ],
   "source": [
    "%%time\n",
    "trn_df = trn_df.merge(repeated_purchase_df,on=['customer_id','article_id'],how='left').fillna(0.)"
   ]
  },
  {
   "cell_type": "code",
   "execution_count": 17,
   "id": "described-illness",
   "metadata": {},
   "outputs": [
    {
     "name": "stdout",
     "output_type": "stream",
     "text": [
      "CPU times: user 1.51 s, sys: 640 ms, total: 2.15 s\n",
      "Wall time: 2.14 s\n"
     ]
    }
   ],
   "source": [
    "%%time\n",
    "val_df = val_df.merge(repeated_purchase_df,on=['customer_id','article_id'],how='left').fillna(0.)"
   ]
  },
  {
   "cell_type": "code",
   "execution_count": 18,
   "id": "confidential-newport",
   "metadata": {},
   "outputs": [
    {
     "name": "stdout",
     "output_type": "stream",
     "text": [
      "CPU times: user 9.18 s, sys: 4.47 s, total: 13.7 s\n",
      "Wall time: 13.6 s\n"
     ]
    }
   ],
   "source": [
    "%%time\n",
    "test_df = test_df.merge(repeated_purchase_df,on=['customer_id','article_id'],how='left').fillna(0.)"
   ]
  },
  {
   "cell_type": "markdown",
   "id": "possible-darkness",
   "metadata": {},
   "source": [
    "****Save files****"
   ]
  },
  {
   "cell_type": "code",
   "execution_count": 19,
   "id": "charming-seeking",
   "metadata": {},
   "outputs": [],
   "source": [
    "from utils import save_csv"
   ]
  },
  {
   "cell_type": "code",
   "execution_count": 20,
   "id": "continued-roman",
   "metadata": {},
   "outputs": [
    {
     "name": "stdout",
     "output_type": "stream",
     "text": [
      "CPU times: user 20.7 s, sys: 333 ms, total: 21.1 s\n",
      "Wall time: 21.4 s\n"
     ]
    }
   ],
   "source": [
    "%%time\n",
    "save_csv(trn_df,out_dir,'trn_df.csv')"
   ]
  },
  {
   "cell_type": "code",
   "execution_count": 21,
   "id": "still-measure",
   "metadata": {},
   "outputs": [
    {
     "name": "stdout",
     "output_type": "stream",
     "text": [
      "CPU times: user 23.5 s, sys: 539 ms, total: 24 s\n",
      "Wall time: 24 s\n"
     ]
    }
   ],
   "source": [
    "%%time\n",
    "save_csv(val_df,out_dir,'val_df.csv')"
   ]
  },
  {
   "cell_type": "code",
   "execution_count": 22,
   "id": "public-adventure",
   "metadata": {},
   "outputs": [
    {
     "name": "stdout",
     "output_type": "stream",
     "text": [
      "CPU times: user 2min 48s, sys: 2.67 s, total: 2min 50s\n",
      "Wall time: 2min 51s\n"
     ]
    }
   ],
   "source": [
    "%%time\n",
    "save_csv(test_df,out_dir,'test_df.csv')"
   ]
  },
  {
   "cell_type": "code",
   "execution_count": 23,
   "id": "prime-manor",
   "metadata": {},
   "outputs": [
    {
     "name": "stdout",
     "output_type": "stream",
     "text": [
      "CPU times: user 178 ms, sys: 10.3 ms, total: 188 ms\n",
      "Wall time: 235 ms\n"
     ]
    }
   ],
   "source": [
    "%%time\n",
    "save_csv(gt_df,out_dir,'gt_df.csv')"
   ]
  },
  {
   "cell_type": "code",
   "execution_count": 31,
   "id": "8135d437-4501-4f3c-a7d4-9d1100a41c37",
   "metadata": {},
   "outputs": [
    {
     "data": {
      "text/html": [
       "<div>\n",
       "<style scoped>\n",
       "    .dataframe tbody tr th:only-of-type {\n",
       "        vertical-align: middle;\n",
       "    }\n",
       "\n",
       "    .dataframe tbody tr th {\n",
       "        vertical-align: top;\n",
       "    }\n",
       "\n",
       "    .dataframe thead th {\n",
       "        text-align: right;\n",
       "    }\n",
       "</style>\n",
       "<table border=\"1\" class=\"dataframe\">\n",
       "  <thead>\n",
       "    <tr style=\"text-align: right;\">\n",
       "      <th></th>\n",
       "      <th>customer_id</th>\n",
       "      <th>article_id</th>\n",
       "      <th>label</th>\n",
       "      <th>product_group_name_countvec</th>\n",
       "      <th>product_type_name_countvec</th>\n",
       "      <th>graphical_appearance_name_countvec</th>\n",
       "      <th>perceived_colour_value_name_countvec</th>\n",
       "      <th>colour_group_code_countvec</th>\n",
       "      <th>index_group_name_countvec</th>\n",
       "      <th>department_name_countvec</th>\n",
       "      <th>repeated_purchase_prob</th>\n",
       "    </tr>\n",
       "  </thead>\n",
       "  <tbody>\n",
       "    <tr>\n",
       "      <th>3013340</th>\n",
       "      <td>aed94a24b182c0178b3540e9ec9d1ef0053ac4b7a357bc...</td>\n",
       "      <td>905492001</td>\n",
       "      <td>1.0</td>\n",
       "      <td>0.0</td>\n",
       "      <td>0.0</td>\n",
       "      <td>1.0</td>\n",
       "      <td>0.0</td>\n",
       "      <td>0.0</td>\n",
       "      <td>1.0</td>\n",
       "      <td>0.0</td>\n",
       "      <td>0.0</td>\n",
       "    </tr>\n",
       "    <tr>\n",
       "      <th>3013341</th>\n",
       "      <td>aed94a24b182c0178b3540e9ec9d1ef0053ac4b7a357bc...</td>\n",
       "      <td>890215001</td>\n",
       "      <td>0.0</td>\n",
       "      <td>1.0</td>\n",
       "      <td>1.0</td>\n",
       "      <td>1.0</td>\n",
       "      <td>1.0</td>\n",
       "      <td>1.0</td>\n",
       "      <td>1.0</td>\n",
       "      <td>1.0</td>\n",
       "      <td>1.0</td>\n",
       "    </tr>\n",
       "    <tr>\n",
       "      <th>3013342</th>\n",
       "      <td>aed94a24b182c0178b3540e9ec9d1ef0053ac4b7a357bc...</td>\n",
       "      <td>751471001</td>\n",
       "      <td>0.0</td>\n",
       "      <td>0.0</td>\n",
       "      <td>0.0</td>\n",
       "      <td>1.0</td>\n",
       "      <td>0.0</td>\n",
       "      <td>0.0</td>\n",
       "      <td>1.0</td>\n",
       "      <td>0.0</td>\n",
       "      <td>0.0</td>\n",
       "    </tr>\n",
       "    <tr>\n",
       "      <th>3013343</th>\n",
       "      <td>aed94a24b182c0178b3540e9ec9d1ef0053ac4b7a357bc...</td>\n",
       "      <td>706016001</td>\n",
       "      <td>0.0</td>\n",
       "      <td>0.0</td>\n",
       "      <td>0.0</td>\n",
       "      <td>1.0</td>\n",
       "      <td>0.0</td>\n",
       "      <td>0.0</td>\n",
       "      <td>0.0</td>\n",
       "      <td>0.0</td>\n",
       "      <td>0.0</td>\n",
       "    </tr>\n",
       "    <tr>\n",
       "      <th>3013344</th>\n",
       "      <td>aed94a24b182c0178b3540e9ec9d1ef0053ac4b7a357bc...</td>\n",
       "      <td>918292001</td>\n",
       "      <td>0.0</td>\n",
       "      <td>0.0</td>\n",
       "      <td>0.0</td>\n",
       "      <td>0.0</td>\n",
       "      <td>0.0</td>\n",
       "      <td>0.0</td>\n",
       "      <td>0.0</td>\n",
       "      <td>0.0</td>\n",
       "      <td>0.0</td>\n",
       "    </tr>\n",
       "    <tr>\n",
       "      <th>...</th>\n",
       "      <td>...</td>\n",
       "      <td>...</td>\n",
       "      <td>...</td>\n",
       "      <td>...</td>\n",
       "      <td>...</td>\n",
       "      <td>...</td>\n",
       "      <td>...</td>\n",
       "      <td>...</td>\n",
       "      <td>...</td>\n",
       "      <td>...</td>\n",
       "      <td>...</td>\n",
       "    </tr>\n",
       "    <tr>\n",
       "      <th>3013437</th>\n",
       "      <td>aed94a24b182c0178b3540e9ec9d1ef0053ac4b7a357bc...</td>\n",
       "      <td>685816002</td>\n",
       "      <td>0.0</td>\n",
       "      <td>0.0</td>\n",
       "      <td>0.0</td>\n",
       "      <td>1.0</td>\n",
       "      <td>0.0</td>\n",
       "      <td>0.0</td>\n",
       "      <td>0.0</td>\n",
       "      <td>0.0</td>\n",
       "      <td>0.0</td>\n",
       "    </tr>\n",
       "    <tr>\n",
       "      <th>3013438</th>\n",
       "      <td>aed94a24b182c0178b3540e9ec9d1ef0053ac4b7a357bc...</td>\n",
       "      <td>599580038</td>\n",
       "      <td>0.0</td>\n",
       "      <td>0.0</td>\n",
       "      <td>0.0</td>\n",
       "      <td>1.0</td>\n",
       "      <td>0.0</td>\n",
       "      <td>0.0</td>\n",
       "      <td>1.0</td>\n",
       "      <td>0.0</td>\n",
       "      <td>0.0</td>\n",
       "    </tr>\n",
       "    <tr>\n",
       "      <th>3013439</th>\n",
       "      <td>aed94a24b182c0178b3540e9ec9d1ef0053ac4b7a357bc...</td>\n",
       "      <td>893059004</td>\n",
       "      <td>0.0</td>\n",
       "      <td>0.0</td>\n",
       "      <td>0.0</td>\n",
       "      <td>1.0</td>\n",
       "      <td>0.0</td>\n",
       "      <td>0.0</td>\n",
       "      <td>1.0</td>\n",
       "      <td>0.0</td>\n",
       "      <td>0.0</td>\n",
       "    </tr>\n",
       "    <tr>\n",
       "      <th>3013440</th>\n",
       "      <td>aed94a24b182c0178b3540e9ec9d1ef0053ac4b7a357bc...</td>\n",
       "      <td>918522001</td>\n",
       "      <td>0.0</td>\n",
       "      <td>0.0</td>\n",
       "      <td>0.0</td>\n",
       "      <td>1.0</td>\n",
       "      <td>1.0</td>\n",
       "      <td>0.0</td>\n",
       "      <td>1.0</td>\n",
       "      <td>0.0</td>\n",
       "      <td>0.0</td>\n",
       "    </tr>\n",
       "    <tr>\n",
       "      <th>3013441</th>\n",
       "      <td>aed94a24b182c0178b3540e9ec9d1ef0053ac4b7a357bc...</td>\n",
       "      <td>894956001</td>\n",
       "      <td>0.0</td>\n",
       "      <td>0.0</td>\n",
       "      <td>0.0</td>\n",
       "      <td>1.0</td>\n",
       "      <td>0.0</td>\n",
       "      <td>0.0</td>\n",
       "      <td>0.0</td>\n",
       "      <td>0.0</td>\n",
       "      <td>0.0</td>\n",
       "    </tr>\n",
       "  </tbody>\n",
       "</table>\n",
       "<p>102 rows × 11 columns</p>\n",
       "</div>"
      ],
      "text/plain": [
       "                                               customer_id  article_id  label  \\\n",
       "3013340  aed94a24b182c0178b3540e9ec9d1ef0053ac4b7a357bc...   905492001    1.0   \n",
       "3013341  aed94a24b182c0178b3540e9ec9d1ef0053ac4b7a357bc...   890215001    0.0   \n",
       "3013342  aed94a24b182c0178b3540e9ec9d1ef0053ac4b7a357bc...   751471001    0.0   \n",
       "3013343  aed94a24b182c0178b3540e9ec9d1ef0053ac4b7a357bc...   706016001    0.0   \n",
       "3013344  aed94a24b182c0178b3540e9ec9d1ef0053ac4b7a357bc...   918292001    0.0   \n",
       "...                                                    ...         ...    ...   \n",
       "3013437  aed94a24b182c0178b3540e9ec9d1ef0053ac4b7a357bc...   685816002    0.0   \n",
       "3013438  aed94a24b182c0178b3540e9ec9d1ef0053ac4b7a357bc...   599580038    0.0   \n",
       "3013439  aed94a24b182c0178b3540e9ec9d1ef0053ac4b7a357bc...   893059004    0.0   \n",
       "3013440  aed94a24b182c0178b3540e9ec9d1ef0053ac4b7a357bc...   918522001    0.0   \n",
       "3013441  aed94a24b182c0178b3540e9ec9d1ef0053ac4b7a357bc...   894956001    0.0   \n",
       "\n",
       "         product_group_name_countvec  product_type_name_countvec  \\\n",
       "3013340                          0.0                         0.0   \n",
       "3013341                          1.0                         1.0   \n",
       "3013342                          0.0                         0.0   \n",
       "3013343                          0.0                         0.0   \n",
       "3013344                          0.0                         0.0   \n",
       "...                              ...                         ...   \n",
       "3013437                          0.0                         0.0   \n",
       "3013438                          0.0                         0.0   \n",
       "3013439                          0.0                         0.0   \n",
       "3013440                          0.0                         0.0   \n",
       "3013441                          0.0                         0.0   \n",
       "\n",
       "         graphical_appearance_name_countvec  \\\n",
       "3013340                                 1.0   \n",
       "3013341                                 1.0   \n",
       "3013342                                 1.0   \n",
       "3013343                                 1.0   \n",
       "3013344                                 0.0   \n",
       "...                                     ...   \n",
       "3013437                                 1.0   \n",
       "3013438                                 1.0   \n",
       "3013439                                 1.0   \n",
       "3013440                                 1.0   \n",
       "3013441                                 1.0   \n",
       "\n",
       "         perceived_colour_value_name_countvec  colour_group_code_countvec  \\\n",
       "3013340                                   0.0                         0.0   \n",
       "3013341                                   1.0                         1.0   \n",
       "3013342                                   0.0                         0.0   \n",
       "3013343                                   0.0                         0.0   \n",
       "3013344                                   0.0                         0.0   \n",
       "...                                       ...                         ...   \n",
       "3013437                                   0.0                         0.0   \n",
       "3013438                                   0.0                         0.0   \n",
       "3013439                                   0.0                         0.0   \n",
       "3013440                                   1.0                         0.0   \n",
       "3013441                                   0.0                         0.0   \n",
       "\n",
       "         index_group_name_countvec  department_name_countvec  \\\n",
       "3013340                        1.0                       0.0   \n",
       "3013341                        1.0                       1.0   \n",
       "3013342                        1.0                       0.0   \n",
       "3013343                        0.0                       0.0   \n",
       "3013344                        0.0                       0.0   \n",
       "...                            ...                       ...   \n",
       "3013437                        0.0                       0.0   \n",
       "3013438                        1.0                       0.0   \n",
       "3013439                        1.0                       0.0   \n",
       "3013440                        1.0                       0.0   \n",
       "3013441                        0.0                       0.0   \n",
       "\n",
       "         repeated_purchase_prob  \n",
       "3013340                     0.0  \n",
       "3013341                     1.0  \n",
       "3013342                     0.0  \n",
       "3013343                     0.0  \n",
       "3013344                     0.0  \n",
       "...                         ...  \n",
       "3013437                     0.0  \n",
       "3013438                     0.0  \n",
       "3013439                     0.0  \n",
       "3013440                     0.0  \n",
       "3013441                     0.0  \n",
       "\n",
       "[102 rows x 11 columns]"
      ]
     },
     "execution_count": 31,
     "metadata": {},
     "output_type": "execute_result"
    }
   ],
   "source": [
    "val_df[val_df.customer_id==val_df.sample().customer_id.item()]"
   ]
  },
  {
   "cell_type": "code",
   "execution_count": null,
   "id": "50dc14d6-f74f-4aad-806d-2913ecabb016",
   "metadata": {},
   "outputs": [],
   "source": []
  }
 ],
 "metadata": {
  "kernelspec": {
   "display_name": "RAPIDSai-21.12",
   "language": "python",
   "name": "rapidsai-21.12"
  },
  "language_info": {
   "codemirror_mode": {
    "name": "ipython",
    "version": 3
   },
   "file_extension": ".py",
   "mimetype": "text/x-python",
   "name": "python",
   "nbconvert_exporter": "python",
   "pygments_lexer": "ipython3",
   "version": "3.8.12"
  }
 },
 "nbformat": 4,
 "nbformat_minor": 5
}
