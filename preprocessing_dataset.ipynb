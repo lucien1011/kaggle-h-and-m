{
 "cells": [
  {
   "cell_type": "code",
   "execution_count": 1,
   "metadata": {},
   "outputs": [
    {
     "name": "stdout",
     "output_type": "stream",
     "text": [
      "1.3.4\n"
     ]
    }
   ],
   "source": [
    "import glob\n",
    "import os\n",
    "import pandas as pd\n",
    "print(pd.__version__)"
   ]
  },
  {
   "cell_type": "code",
   "execution_count": null,
   "metadata": {},
   "outputs": [],
   "source": [
    "out_dir = 'storage/dataset/220308_baseline/'\n",
    "art_cust_features = [\n",
    "    'product_group_name', 'product_type_name', \n",
    "    'graphical_appearance_name', 'perceived_colour_value_name', 'colour_group_code', \n",
    "    'index_group_name', \n",
    "    'department_name',\n",
    "    \n",
    "]"
   ]
  },
  {
   "cell_type": "code",
   "execution_count": 3,
   "metadata": {},
   "outputs": [
    {
     "name": "stdout",
     "output_type": "stream",
     "text": [
      "CPU times: user 25.5 s, sys: 2.82 s, total: 28.4 s\n",
      "Wall time: 28.4 s\n"
     ]
    }
   ],
   "source": [
    "%%time\n",
    "transactions = pd.read_csv('storage/transactions_train.csv')\n",
    "articles = pd.read_csv('storage/articles.csv')\n",
    "customers = pd.read_csv('storage/customers.csv')"
   ]
  },
  {
   "cell_type": "code",
   "execution_count": 4,
   "metadata": {},
   "outputs": [],
   "source": [
    "from utils import train_test_split\n",
    "\n",
    "trn_transactions,val_transactions = train_test_split(transactions)"
   ]
  },
  {
   "cell_type": "code",
   "execution_count": 5,
   "metadata": {},
   "outputs": [],
   "source": [
    "trn_transactions = trn_transactions[trn_transactions['t_dat'] > pd.to_datetime('2020-08-01')]"
   ]
  },
  {
   "cell_type": "code",
   "execution_count": 33,
   "metadata": {},
   "outputs": [],
   "source": [
    "def merge_df(df,articles,art_cust_features,art_cust_dir):\n",
    "    for feature in art_cust_features:\n",
    "        tmp = pd.read_csv(os.path.join(art_cust_dir+feature+'_countvec.csv'),index_col=None)\n",
    "        tmp = tmp[['customer_id',feature,feature+'_countvec']]\n",
    "        df = df.merge(articles[['article_id',feature]],on='article_id',how='left')\n",
    "        df = df.merge(tmp,on=['customer_id',feature],how='left')\n",
    "    return df\n",
    "\n",
    "def make_pos_df(trn_transactions,articles,art_cust_features,art_cust_dir):\n",
    "    trn_df = trn_transactions[['customer_id','article_id']]\n",
    "    trn_df = merge_df(trn_df,articles,art_cust_features,art_cust_dir)\n",
    "    trn_df = trn_df[['customer_id','article_id']+[f+'_countvec' for f in art_cust_features]]\n",
    "    trn_df['label'] = 1\n",
    "    return trn_df\n",
    "\n",
    "def make_neg_df(trn_transactions,articles,art_cust_features,art_cust_dir):\n",
    "    trn_df = trn_transactions[['customer_id','article_id']].reset_index().drop(columns=['index'])\n",
    "    trn_df['customer_id'] = trn_df['customer_id'].sample(frac=1.).to_frame().reset_index().drop(columns=['index'])\n",
    "    trn_df = merge_df(trn_df,articles,art_cust_features,art_cust_dir)\n",
    "    trn_df = trn_df[['customer_id','article_id']+[f+'_countvec' for f in art_cust_features]]\n",
    "    trn_df.fillna(0.,inplace=True)\n",
    "    trn_df['label'] = 0\n",
    "    return trn_df\n",
    "\n",
    "def make_trn_df(trn_transactions,articles,art_cust_features,art_cust_dir):\n",
    "    pos_df = make_pos_df(trn_transactions,articles,art_cust_features,art_cust_dir)\n",
    "    neg_df = make_neg_df(trn_transactions,articles,art_cust_features,art_cust_dir)\n",
    "    return pd.concat([pos_df,neg_df])\n",
    "\n",
    "def agg_items(x,topk):\n",
    "    s = set(x)\n",
    "    pos = x\n",
    "    neg = [i for i in topk if i not in s]\n",
    "    return pos+neg,len(pos)*[1.]+len(neg)*[0.]\n",
    "\n",
    "def make_val_df(val_transactions,trn_transactions,art_cust_features,art_cust_dir,k=500):\n",
    "    topk = trn_transactions['article_id'].value_counts()[:k].index.tolist()\n",
    "    val_df = val_transactions.groupby('customer_id')['article_id'].agg(lambda x: agg_items(x.tolist(),topk)).to_frame().reset_index()\n",
    "    val_df = val_df.rename(columns={'article_id':'items'})\n",
    "    val_df['article_id'] = val_df['items'].apply(lambda x: x[0])\n",
    "    val_df['label'] = val_df['items'].apply(lambda x: x[1])\n",
    "    val_df = val_df.explode(['article_id','label'])\n",
    "    val_df = merge_df(val_df,articles,art_cust_features,art_cust_dir)\n",
    "    val_df = val_df[['customer_id','article_id','label']+[f+'_countvec' for f in art_cust_features]]\n",
    "    val_df.fillna(0.,inplace=True)\n",
    "    return val_df\n",
    "\n",
    "def make_test_df(val_transactions,trn_transactions,art_cust_features,art_cust_dir,k=500):\n",
    "    topk = trn_transactions['article_id'].value_counts()[:k].index.tolist()\n",
    "    val_df = val_transactions.groupby('customer_id')['article_id'].agg(lambda x: topk).to_frame().reset_index()\n",
    "    val_df = val_df.explode(['article_id'])\n",
    "    val_df = merge_df(val_df,articles,art_cust_features,art_cust_dir)\n",
    "    val_df = val_df[['customer_id','article_id']+[f+'_countvec' for f in art_cust_features]]\n",
    "    val_df.fillna(0.,inplace=True)\n",
    "    return val_df\n",
    "\n",
    "def make_gt_df(val_transactions):\n",
    "    gt_df = val_transactions.groupby('customer_id')['article_id'].agg(lambda x: x.tolist()).reset_index()\n",
    "    gt_df.columns = ['customer_id','ground_truth']\n",
    "    return gt_df"
   ]
  },
  {
   "cell_type": "code",
   "execution_count": null,
   "metadata": {},
   "outputs": [],
   "source": [
    "def save_csv(df,path):\n",
    "    df.to_csv(path,index=False)"
   ]
  },
  {
   "cell_type": "code",
   "execution_count": null,
   "metadata": {},
   "outputs": [],
   "source": [
    "os.makedirs(out_dir,exist_ok=True)"
   ]
  },
  {
   "cell_type": "code",
   "execution_count": 7,
   "metadata": {},
   "outputs": [
    {
     "name": "stdout",
     "output_type": "stream",
     "text": [
      "CPU times: user 28.9 s, sys: 1.44 s, total: 30.4 s\n",
      "Wall time: 30.4 s\n"
     ]
    }
   ],
   "source": [
    "%%time\n",
    "trn_df = make_trn_df(trn_transactions,articles,art_cust_features,art_cust_dir)\n",
    "save_csv(trn_df,out_dir+'trn_df.csv')"
   ]
  },
  {
   "cell_type": "code",
   "execution_count": 8,
   "metadata": {},
   "outputs": [
    {
     "name": "stdout",
     "output_type": "stream",
     "text": [
      "CPU times: user 44 s, sys: 20.4 s, total: 1min 4s\n",
      "Wall time: 1min 4s\n"
     ]
    }
   ],
   "source": [
    "%%time\n",
    "val_df = make_val_df(val_transactions,trn_transactions,art_cust_features,art_cust_dir,k=topk)\n",
    "save_csv(val_df,out_dir+'val_df.csv')"
   ]
  },
  {
   "cell_type": "code",
   "execution_count": 15,
   "metadata": {},
   "outputs": [
    {
     "name": "stdout",
     "output_type": "stream",
     "text": [
      "CPU times: user 1min 2s, sys: 17.7 s, total: 1min 19s\n",
      "Wall time: 1min 20s\n"
     ]
    }
   ],
   "source": [
    "%%time\n",
    "test_df = make_test_df(val_transactions,trn_transactions,art_cust_features,art_cust_dir,k=topk)\n",
    "save_csv(test_df,out_dir+'test_df.csv')"
   ]
  },
  {
   "cell_type": "code",
   "execution_count": 31,
   "metadata": {},
   "outputs": [
    {
     "name": "stdout",
     "output_type": "stream",
     "text": [
      "CPU times: user 552 ms, sys: 15.4 ms, total: 567 ms\n",
      "Wall time: 568 ms\n"
     ]
    }
   ],
   "source": [
    "%%time\n",
    "gt_df = make_gt_df(val_transactions)\n",
    "save_csv(gt_df,out_dir+'gt_df.csv')"
   ]
  },
  {
   "cell_type": "code",
   "execution_count": 32,
   "metadata": {},
   "outputs": [
    {
     "data": {
      "text/html": [
       "<div>\n",
       "<style scoped>\n",
       "    .dataframe tbody tr th:only-of-type {\n",
       "        vertical-align: middle;\n",
       "    }\n",
       "\n",
       "    .dataframe tbody tr th {\n",
       "        vertical-align: top;\n",
       "    }\n",
       "\n",
       "    .dataframe thead th {\n",
       "        text-align: right;\n",
       "    }\n",
       "</style>\n",
       "<table border=\"1\" class=\"dataframe\">\n",
       "  <thead>\n",
       "    <tr style=\"text-align: right;\">\n",
       "      <th></th>\n",
       "      <th>customer_id</th>\n",
       "      <th>ground_truth</th>\n",
       "    </tr>\n",
       "  </thead>\n",
       "  <tbody>\n",
       "    <tr>\n",
       "      <th>0</th>\n",
       "      <td>00039306476aaf41a07fed942884f16b30abfa83a2a8be...</td>\n",
       "      <td>[624486001]</td>\n",
       "    </tr>\n",
       "    <tr>\n",
       "      <th>1</th>\n",
       "      <td>0003e867a930d0d6842f923d6ba7c9b77aba33fe2a0fbf...</td>\n",
       "      <td>[827487003]</td>\n",
       "    </tr>\n",
       "    <tr>\n",
       "      <th>2</th>\n",
       "      <td>000493dd9fc463df1acc2081450c9e75ef8e87d5dd17ed...</td>\n",
       "      <td>[757926001, 788575004, 640021019]</td>\n",
       "    </tr>\n",
       "    <tr>\n",
       "      <th>3</th>\n",
       "      <td>000525e3fe01600d717da8423643a8303390a055c578ed...</td>\n",
       "      <td>[874110016]</td>\n",
       "    </tr>\n",
       "    <tr>\n",
       "      <th>4</th>\n",
       "      <td>00077dbd5c4a4991e092e63893ccf29294a9d5c46e8501...</td>\n",
       "      <td>[903762001, 879189005, 158340001, 867966009, 9...</td>\n",
       "    </tr>\n",
       "    <tr>\n",
       "      <th>...</th>\n",
       "      <td>...</td>\n",
       "      <td>...</td>\n",
       "    </tr>\n",
       "    <tr>\n",
       "      <th>68979</th>\n",
       "      <td>fffa67737587e52ff1afa9c7c6490b5eb7acbc439fe82b...</td>\n",
       "      <td>[874816003, 911870004]</td>\n",
       "    </tr>\n",
       "    <tr>\n",
       "      <th>68980</th>\n",
       "      <td>fffa7d7799eb390a76308454cbdd76e473d65b1497fbe4...</td>\n",
       "      <td>[861803014, 849886010]</td>\n",
       "    </tr>\n",
       "    <tr>\n",
       "      <th>68981</th>\n",
       "      <td>fffae8eb3a282d8c43c77dd2ca0621703b71e90904dfde...</td>\n",
       "      <td>[396135007, 817472007, 715624050, 817472003, 8...</td>\n",
       "    </tr>\n",
       "    <tr>\n",
       "      <th>68982</th>\n",
       "      <td>fffd870c6324ad3bda24e4d6aeae221c199479086bfdfd...</td>\n",
       "      <td>[750423010, 761269001]</td>\n",
       "    </tr>\n",
       "    <tr>\n",
       "      <th>68983</th>\n",
       "      <td>fffef3b6b73545df065b521e19f64bf6fe93bfd450ab20...</td>\n",
       "      <td>[898573003]</td>\n",
       "    </tr>\n",
       "  </tbody>\n",
       "</table>\n",
       "<p>68984 rows × 2 columns</p>\n",
       "</div>"
      ],
      "text/plain": [
       "                                             customer_id  \\\n",
       "0      00039306476aaf41a07fed942884f16b30abfa83a2a8be...   \n",
       "1      0003e867a930d0d6842f923d6ba7c9b77aba33fe2a0fbf...   \n",
       "2      000493dd9fc463df1acc2081450c9e75ef8e87d5dd17ed...   \n",
       "3      000525e3fe01600d717da8423643a8303390a055c578ed...   \n",
       "4      00077dbd5c4a4991e092e63893ccf29294a9d5c46e8501...   \n",
       "...                                                  ...   \n",
       "68979  fffa67737587e52ff1afa9c7c6490b5eb7acbc439fe82b...   \n",
       "68980  fffa7d7799eb390a76308454cbdd76e473d65b1497fbe4...   \n",
       "68981  fffae8eb3a282d8c43c77dd2ca0621703b71e90904dfde...   \n",
       "68982  fffd870c6324ad3bda24e4d6aeae221c199479086bfdfd...   \n",
       "68983  fffef3b6b73545df065b521e19f64bf6fe93bfd450ab20...   \n",
       "\n",
       "                                            ground_truth  \n",
       "0                                            [624486001]  \n",
       "1                                            [827487003]  \n",
       "2                      [757926001, 788575004, 640021019]  \n",
       "3                                            [874110016]  \n",
       "4      [903762001, 879189005, 158340001, 867966009, 9...  \n",
       "...                                                  ...  \n",
       "68979                             [874816003, 911870004]  \n",
       "68980                             [861803014, 849886010]  \n",
       "68981  [396135007, 817472007, 715624050, 817472003, 8...  \n",
       "68982                             [750423010, 761269001]  \n",
       "68983                                        [898573003]  \n",
       "\n",
       "[68984 rows x 2 columns]"
      ]
     },
     "execution_count": 32,
     "metadata": {},
     "output_type": "execute_result"
    }
   ],
   "source": [
    "gt_df"
   ]
  },
  {
   "cell_type": "code",
   "execution_count": null,
   "metadata": {},
   "outputs": [],
   "source": []
  }
 ],
 "metadata": {
  "kernelspec": {
   "display_name": "fastai-2.1.5",
   "language": "python",
   "name": "fastai-2.1.5"
  },
  "language_info": {
   "codemirror_mode": {
    "name": "ipython",
    "version": 3
   },
   "file_extension": ".py",
   "mimetype": "text/x-python",
   "name": "python",
   "nbconvert_exporter": "python",
   "pygments_lexer": "ipython3",
   "version": "3.8.6"
  }
 },
 "nbformat": 4,
 "nbformat_minor": 5
}
